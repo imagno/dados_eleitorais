{
 "cells": [
  {
   "cell_type": "markdown",
   "id": "5f433b89",
   "metadata": {},
   "source": [
    "- importando módulos"
   ]
  },
  {
   "cell_type": "code",
   "execution_count": 1,
   "id": "445d36ad",
   "metadata": {},
   "outputs": [],
   "source": [
    "import pandas as pd"
   ]
  },
  {
   "cell_type": "markdown",
   "id": "9484370f",
   "metadata": {},
   "source": [
    "- importando arquivo de endereços"
   ]
  },
  {
   "cell_type": "code",
   "execution_count": 4,
   "id": "b03419e2",
   "metadata": {},
   "outputs": [
    {
     "data": {
      "application/vnd.microsoft.datawrangler.viewer.v0+json": {
       "columns": [
        {
         "name": "index",
         "rawType": "int64",
         "type": "integer"
        },
        {
         "name": "CEP Proposto",
         "rawType": "object",
         "type": "string"
        },
        {
         "name": "Tipo",
         "rawType": "object",
         "type": "string"
        },
        {
         "name": "Novo Endereço",
         "rawType": "object",
         "type": "string"
        },
        {
         "name": "Endereço Antigo",
         "rawType": "object",
         "type": "unknown"
        },
        {
         "name": "Informação Adicional",
         "rawType": "object",
         "type": "unknown"
        },
        {
         "name": "Bairro",
         "rawType": "object",
         "type": "string"
        }
       ],
       "ref": "5ad0e07a-2e6f-4732-8d85-7cba8fa987f3",
       "rows": [
        [
         "0",
         "43700-050",
         "Rua",
         "Santa  CatarIna",
         null,
         null,
         "Centro"
        ],
        [
         "1",
         "43700-052",
         "Avenida",
         "Engenheiro  Walter Aragão de Souza",
         null,
         null,
         "Centro"
        ],
        [
         "2",
         "43700-054",
         "Rua",
         "Manoel Bento de Souza",
         null,
         null,
         "Centro"
        ],
        [
         "3",
         "43700-056",
         "Avenida",
         "Luís Eduardo Magalhães",
         null,
         null,
         "Centro"
        ],
        [
         "4",
         "43700-058",
         "Rua",
         "L",
         null,
         "(Lot Sol Nascente)",
         "Centro"
        ],
        [
         "5",
         "43700-060",
         "Rua",
         "O",
         null,
         "(Lot Sol Nascente)",
         "Centro"
        ],
        [
         "6",
         "43700-062",
         "Rua",
         "N",
         null,
         "(Lot Sol Nascente)",
         "Centro"
        ],
        [
         "7",
         "43700-064",
         "Rua",
         "M",
         null,
         "(Lot Sol Nascente)",
         "Centro"
        ],
        [
         "8",
         "43700-066",
         "Rua",
         "A",
         null,
         "(Lot Sol Nascente)",
         "Centro"
        ],
        [
         "9",
         "43700-068",
         "Rua",
         "K",
         null,
         "(Lot Sol Nascente)",
         "Centro"
        ]
       ],
       "shape": {
        "columns": 6,
        "rows": 10
       }
      },
      "text/html": [
       "<div>\n",
       "<style scoped>\n",
       "    .dataframe tbody tr th:only-of-type {\n",
       "        vertical-align: middle;\n",
       "    }\n",
       "\n",
       "    .dataframe tbody tr th {\n",
       "        vertical-align: top;\n",
       "    }\n",
       "\n",
       "    .dataframe thead th {\n",
       "        text-align: right;\n",
       "    }\n",
       "</style>\n",
       "<table border=\"1\" class=\"dataframe\">\n",
       "  <thead>\n",
       "    <tr style=\"text-align: right;\">\n",
       "      <th></th>\n",
       "      <th>CEP Proposto</th>\n",
       "      <th>Tipo</th>\n",
       "      <th>Novo Endereço</th>\n",
       "      <th>Endereço Antigo</th>\n",
       "      <th>Informação Adicional</th>\n",
       "      <th>Bairro</th>\n",
       "    </tr>\n",
       "  </thead>\n",
       "  <tbody>\n",
       "    <tr>\n",
       "      <th>0</th>\n",
       "      <td>43700-050</td>\n",
       "      <td>Rua</td>\n",
       "      <td>Santa  CatarIna</td>\n",
       "      <td>NaN</td>\n",
       "      <td>NaN</td>\n",
       "      <td>Centro</td>\n",
       "    </tr>\n",
       "    <tr>\n",
       "      <th>1</th>\n",
       "      <td>43700-052</td>\n",
       "      <td>Avenida</td>\n",
       "      <td>Engenheiro  Walter Aragão de Souza</td>\n",
       "      <td>NaN</td>\n",
       "      <td>NaN</td>\n",
       "      <td>Centro</td>\n",
       "    </tr>\n",
       "    <tr>\n",
       "      <th>2</th>\n",
       "      <td>43700-054</td>\n",
       "      <td>Rua</td>\n",
       "      <td>Manoel Bento de Souza</td>\n",
       "      <td>NaN</td>\n",
       "      <td>NaN</td>\n",
       "      <td>Centro</td>\n",
       "    </tr>\n",
       "    <tr>\n",
       "      <th>3</th>\n",
       "      <td>43700-056</td>\n",
       "      <td>Avenida</td>\n",
       "      <td>Luís Eduardo Magalhães</td>\n",
       "      <td>NaN</td>\n",
       "      <td>NaN</td>\n",
       "      <td>Centro</td>\n",
       "    </tr>\n",
       "    <tr>\n",
       "      <th>4</th>\n",
       "      <td>43700-058</td>\n",
       "      <td>Rua</td>\n",
       "      <td>L</td>\n",
       "      <td>NaN</td>\n",
       "      <td>(Lot Sol Nascente)</td>\n",
       "      <td>Centro</td>\n",
       "    </tr>\n",
       "    <tr>\n",
       "      <th>5</th>\n",
       "      <td>43700-060</td>\n",
       "      <td>Rua</td>\n",
       "      <td>O</td>\n",
       "      <td>NaN</td>\n",
       "      <td>(Lot Sol Nascente)</td>\n",
       "      <td>Centro</td>\n",
       "    </tr>\n",
       "    <tr>\n",
       "      <th>6</th>\n",
       "      <td>43700-062</td>\n",
       "      <td>Rua</td>\n",
       "      <td>N</td>\n",
       "      <td>NaN</td>\n",
       "      <td>(Lot Sol Nascente)</td>\n",
       "      <td>Centro</td>\n",
       "    </tr>\n",
       "    <tr>\n",
       "      <th>7</th>\n",
       "      <td>43700-064</td>\n",
       "      <td>Rua</td>\n",
       "      <td>M</td>\n",
       "      <td>NaN</td>\n",
       "      <td>(Lot Sol Nascente)</td>\n",
       "      <td>Centro</td>\n",
       "    </tr>\n",
       "    <tr>\n",
       "      <th>8</th>\n",
       "      <td>43700-066</td>\n",
       "      <td>Rua</td>\n",
       "      <td>A</td>\n",
       "      <td>NaN</td>\n",
       "      <td>(Lot Sol Nascente)</td>\n",
       "      <td>Centro</td>\n",
       "    </tr>\n",
       "    <tr>\n",
       "      <th>9</th>\n",
       "      <td>43700-068</td>\n",
       "      <td>Rua</td>\n",
       "      <td>K</td>\n",
       "      <td>NaN</td>\n",
       "      <td>(Lot Sol Nascente)</td>\n",
       "      <td>Centro</td>\n",
       "    </tr>\n",
       "  </tbody>\n",
       "</table>\n",
       "</div>"
      ],
      "text/plain": [
       "  CEP Proposto     Tipo                       Novo Endereço Endereço Antigo  \\\n",
       "0    43700-050      Rua                     Santa  CatarIna             NaN   \n",
       "1    43700-052  Avenida  Engenheiro  Walter Aragão de Souza             NaN   \n",
       "2    43700-054      Rua               Manoel Bento de Souza             NaN   \n",
       "3    43700-056  Avenida              Luís Eduardo Magalhães             NaN   \n",
       "4    43700-058      Rua                                   L             NaN   \n",
       "5    43700-060      Rua                                   O             NaN   \n",
       "6    43700-062      Rua                                   N             NaN   \n",
       "7    43700-064      Rua                                   M             NaN   \n",
       "8    43700-066      Rua                                   A             NaN   \n",
       "9    43700-068      Rua                                   K             NaN   \n",
       "\n",
       "  Informação Adicional  Bairro  \n",
       "0                  NaN  Centro  \n",
       "1                  NaN  Centro  \n",
       "2                  NaN  Centro  \n",
       "3                  NaN  Centro  \n",
       "4   (Lot Sol Nascente)  Centro  \n",
       "5   (Lot Sol Nascente)  Centro  \n",
       "6   (Lot Sol Nascente)  Centro  \n",
       "7   (Lot Sol Nascente)  Centro  \n",
       "8   (Lot Sol Nascente)  Centro  \n",
       "9   (Lot Sol Nascente)  Centro  "
      ]
     },
     "execution_count": 4,
     "metadata": {},
     "output_type": "execute_result"
    }
   ],
   "source": [
    "df_enderecos = pd.read_csv('./dados/enderecos_simoes_filho.csv', sep=',', encoding='utf-8')\n",
    "\n",
    "df_enderecos.head(10)"
   ]
  }
 ],
 "metadata": {
  "kernelspec": {
   "display_name": ".venv",
   "language": "python",
   "name": "python3"
  },
  "language_info": {
   "codemirror_mode": {
    "name": "ipython",
    "version": 3
   },
   "file_extension": ".py",
   "mimetype": "text/x-python",
   "name": "python",
   "nbconvert_exporter": "python",
   "pygments_lexer": "ipython3",
   "version": "3.12.3"
  }
 },
 "nbformat": 4,
 "nbformat_minor": 5
}
