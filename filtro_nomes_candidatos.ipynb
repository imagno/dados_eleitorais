{
 "cells": [
  {
   "cell_type": "markdown",
   "metadata": {},
   "source": [
    "- Selecionando os documentos com os nomes dos candidatos a vereador e a prefeito para o município de Simões Filho no ano de 2024"
   ]
  },
  {
   "cell_type": "code",
   "execution_count": 2,
   "metadata": {},
   "outputs": [],
   "source": [
    "documentos = ['candidatos_vereadores_sf_2024.txt', 'candidatos_prefeitos_sf_2024.txt']\n"
   ]
  },
  {
   "cell_type": "markdown",
   "metadata": {},
   "source": [
    "- Carregando os documentos citados anteriormente"
   ]
  },
  {
   "cell_type": "code",
   "execution_count": null,
   "metadata": {},
   "outputs": [],
   "source": [
    "uniao_lista_de_candidatos = []\n",
    "\n",
    "for documento in documentos:\n",
    "    with open(f'./dados/{documento}', encoding='utf-8') as lista_de_candidatos:\n",
    "        linhas = lista_de_candidatos.readlines()\n",
    "   \n",
    "    uniao_lista_de_candidatos += linhas\n",
    "\n",
    "print(uniao_lista_de_candidatos)\n"
   ]
  },
  {
   "cell_type": "markdown",
   "metadata": {},
   "source": [
    "- Criando lista apenas com as linhas que contem os nomes dos candidatos"
   ]
  },
  {
   "cell_type": "code",
   "execution_count": null,
   "metadata": {},
   "outputs": [],
   "source": [
    "lista_filtrada = [linha for linha in uniao_lista_de_candidatos if len(linha.split(' - ')) >= 2]\n",
    "\n",
    "print(lista_filtrada)\n"
   ]
  },
  {
   "cell_type": "markdown",
   "metadata": {},
   "source": [
    "- Criando lista apenas com os nomes completos dos candidatos"
   ]
  },
  {
   "cell_type": "code",
   "execution_count": null,
   "metadata": {},
   "outputs": [],
   "source": [
    "lista_nomes_completos = [linha.strip().split(' - ')[:2] for linha in lista_filtrada]\n",
    "\n",
    "print(lista_nomes_completos)\n"
   ]
  },
  {
   "cell_type": "markdown",
   "metadata": {},
   "source": [
    "- Salvando arquivo com os nomes completos dos candidatos"
   ]
  },
  {
   "cell_type": "code",
   "execution_count": null,
   "metadata": {},
   "outputs": [],
   "source": [
    "try:\n",
    "    with open('./dados/lista_nomes_completos.txt', 'w', encoding='utf-8') as arquivo:\n",
    "        for nome in lista_nomes_completos:\n",
    "            arquivo.write(f'{nome[0]};{nome[1]}\\n')\n",
    "    \n",
    "    print('Arquivo criado com sucesso!')\n",
    "\n",
    "except Exception as err:\n",
    "    print(f'Erro: {err}')\n",
    "    "
   ]
  }
 ],
 "metadata": {
  "kernelspec": {
   "display_name": "3.13.2",
   "language": "python",
   "name": "python3"
  },
  "language_info": {
   "codemirror_mode": {
    "name": "ipython",
    "version": 3
   },
   "file_extension": ".py",
   "mimetype": "text/x-python",
   "name": "python",
   "nbconvert_exporter": "python",
   "pygments_lexer": "ipython3",
   "version": "3.13.2"
  }
 },
 "nbformat": 4,
 "nbformat_minor": 2
}
