{
 "cells": [
  {
   "cell_type": "markdown",
   "metadata": {},
   "source": [
    "- Instalando e importando biblioteca para separação de dados"
   ]
  },
  {
   "cell_type": "code",
   "execution_count": null,
   "metadata": {},
   "outputs": [],
   "source": [
    "%pip install pandas\n",
    "\n",
    "import pandas as pd\n"
   ]
  },
  {
   "cell_type": "markdown",
   "metadata": {},
   "source": [
    "- Carregando artquivo CSV fornecido pelo TSE com dados eleitorais do estado da Bahia no ano de 2024"
   ]
  },
  {
   "cell_type": "code",
   "execution_count": 2,
   "metadata": {},
   "outputs": [
    {
     "data": {
      "application/vnd.microsoft.datawrangler.viewer.v0+json": {
       "columns": [
        {
         "name": "index",
         "rawType": "int64",
         "type": "integer"
        },
        {
         "name": "DT_GERACAO",
         "rawType": "object",
         "type": "string"
        },
        {
         "name": "HH_GERACAO",
         "rawType": "object",
         "type": "string"
        },
        {
         "name": "ANO_ELEICAO",
         "rawType": "int64",
         "type": "integer"
        },
        {
         "name": "CD_TIPO_ELEICAO",
         "rawType": "int64",
         "type": "integer"
        },
        {
         "name": "NM_TIPO_ELEICAO",
         "rawType": "object",
         "type": "string"
        },
        {
         "name": "NR_TURNO",
         "rawType": "int64",
         "type": "integer"
        },
        {
         "name": "CD_ELEICAO",
         "rawType": "int64",
         "type": "integer"
        },
        {
         "name": "DS_ELEICAO",
         "rawType": "object",
         "type": "string"
        },
        {
         "name": "DT_ELEICAO",
         "rawType": "object",
         "type": "string"
        },
        {
         "name": "TP_ABRANGENCIA",
         "rawType": "object",
         "type": "string"
        },
        {
         "name": "SG_UF",
         "rawType": "object",
         "type": "string"
        },
        {
         "name": "SG_UE",
         "rawType": "int64",
         "type": "integer"
        },
        {
         "name": "NM_UE",
         "rawType": "object",
         "type": "string"
        },
        {
         "name": "CD_MUNICIPIO",
         "rawType": "int64",
         "type": "integer"
        },
        {
         "name": "NM_MUNICIPIO",
         "rawType": "object",
         "type": "string"
        },
        {
         "name": "NR_ZONA",
         "rawType": "int64",
         "type": "integer"
        },
        {
         "name": "NR_SECAO",
         "rawType": "int64",
         "type": "integer"
        },
        {
         "name": "CD_CARGO",
         "rawType": "int64",
         "type": "integer"
        },
        {
         "name": "DS_CARGO",
         "rawType": "object",
         "type": "string"
        },
        {
         "name": "NR_VOTAVEL",
         "rawType": "int64",
         "type": "integer"
        },
        {
         "name": "NM_VOTAVEL",
         "rawType": "object",
         "type": "string"
        },
        {
         "name": "QT_VOTOS",
         "rawType": "int64",
         "type": "integer"
        },
        {
         "name": "NR_LOCAL_VOTACAO",
         "rawType": "int64",
         "type": "integer"
        },
        {
         "name": "SQ_CANDIDATO",
         "rawType": "int64",
         "type": "integer"
        },
        {
         "name": "NM_LOCAL_VOTACAO",
         "rawType": "object",
         "type": "string"
        },
        {
         "name": "DS_LOCAL_VOTACAO_ENDERECO",
         "rawType": "object",
         "type": "string"
        }
       ],
       "ref": "d399e6e3-b53c-4e50-8c8c-999a62a84e73",
       "rows": [
        [
         "0",
         "28/10/2024",
         "11:46:22",
         "2024",
         "2",
         "Eleição Ordinária",
         "1",
         "619",
         "Eleições Municipais 2024",
         "06/10/2024",
         "M",
         "BA",
         "35998",
         "ITACARÉ",
         "35998",
         "ITACARÉ",
         "198",
         "130",
         "11",
         "Prefeito",
         "96",
         "VOTO NULO",
         "13",
         "1015",
         "-1",
         "CENTRO EDUCACIONAL DE ITACARÉ",
         "RUA ATAIDE SETUBAL, S/N - ZONA URBANA"
        ],
        [
         "1",
         "28/10/2024",
         "11:46:22",
         "2024",
         "2",
         "Eleição Ordinária",
         "1",
         "619",
         "Eleições Municipais 2024",
         "06/10/2024",
         "M",
         "BA",
         "35998",
         "ITACARÉ",
         "35998",
         "ITACARÉ",
         "198",
         "188",
         "11",
         "Prefeito",
         "96",
         "VOTO NULO",
         "13",
         "1244",
         "-1",
         "COLÉGIO ESTADUAL AURELINO LEAL",
         "RUA RUY BARBOSA, S/N - ZONA URBANA"
        ],
        [
         "2",
         "28/10/2024",
         "11:46:22",
         "2024",
         "2",
         "Eleição Ordinária",
         "1",
         "619",
         "Eleições Municipais 2024",
         "06/10/2024",
         "M",
         "BA",
         "37176",
         "MARCIONÍLIO SOUZA",
         "37176",
         "MARCIONÍLIO SOUZA",
         "193",
         "26",
         "11",
         "Prefeito",
         "77",
         "JOAO BASTOS DO VALLE",
         "4",
         "1180",
         "50002201655",
         "ESCOLA BERNARDO GALVÃO",
         "RUA ANTÔNIO SAMPAIO - ZONA URBANA"
        ],
        [
         "3",
         "28/10/2024",
         "11:46:22",
         "2024",
         "2",
         "Eleição Ordinária",
         "1",
         "619",
         "Eleições Municipais 2024",
         "06/10/2024",
         "M",
         "BA",
         "36854",
         "LAURO DE FREITAS",
         "36854",
         "LAURO DE FREITAS",
         "180",
         "295",
         "13",
         "Vereador",
         "20180",
         "CLAUDIA CRISTINA COSTA DE SOUZA GOMES",
         "1",
         "1538",
         "50002002559",
         "COLÉGIO MENDEL",
         "RUA PRAIA DO FORTE, S/N - ZONA URBANA"
        ],
        [
         "4",
         "28/10/2024",
         "11:46:22",
         "2024",
         "2",
         "Eleição Ordinária",
         "1",
         "619",
         "Eleições Municipais 2024",
         "06/10/2024",
         "M",
         "BA",
         "35998",
         "ITACARÉ",
         "35998",
         "ITACARÉ",
         "198",
         "168",
         "13",
         "Vereador",
         "95",
         "VOTO BRANCO",
         "4",
         "1236",
         "-1",
         "ESCOLA MUNICIPAL MARIA BENJAMINA DA CRUZ",
         "PRAÇA DA BANDEIRA S/N - ZONA URBANA"
        ]
       ],
       "shape": {
        "columns": 26,
        "rows": 5
       }
      },
      "text/html": [
       "<div>\n",
       "<style scoped>\n",
       "    .dataframe tbody tr th:only-of-type {\n",
       "        vertical-align: middle;\n",
       "    }\n",
       "\n",
       "    .dataframe tbody tr th {\n",
       "        vertical-align: top;\n",
       "    }\n",
       "\n",
       "    .dataframe thead th {\n",
       "        text-align: right;\n",
       "    }\n",
       "</style>\n",
       "<table border=\"1\" class=\"dataframe\">\n",
       "  <thead>\n",
       "    <tr style=\"text-align: right;\">\n",
       "      <th></th>\n",
       "      <th>DT_GERACAO</th>\n",
       "      <th>HH_GERACAO</th>\n",
       "      <th>ANO_ELEICAO</th>\n",
       "      <th>CD_TIPO_ELEICAO</th>\n",
       "      <th>NM_TIPO_ELEICAO</th>\n",
       "      <th>NR_TURNO</th>\n",
       "      <th>CD_ELEICAO</th>\n",
       "      <th>DS_ELEICAO</th>\n",
       "      <th>DT_ELEICAO</th>\n",
       "      <th>TP_ABRANGENCIA</th>\n",
       "      <th>...</th>\n",
       "      <th>NR_SECAO</th>\n",
       "      <th>CD_CARGO</th>\n",
       "      <th>DS_CARGO</th>\n",
       "      <th>NR_VOTAVEL</th>\n",
       "      <th>NM_VOTAVEL</th>\n",
       "      <th>QT_VOTOS</th>\n",
       "      <th>NR_LOCAL_VOTACAO</th>\n",
       "      <th>SQ_CANDIDATO</th>\n",
       "      <th>NM_LOCAL_VOTACAO</th>\n",
       "      <th>DS_LOCAL_VOTACAO_ENDERECO</th>\n",
       "    </tr>\n",
       "  </thead>\n",
       "  <tbody>\n",
       "    <tr>\n",
       "      <th>0</th>\n",
       "      <td>28/10/2024</td>\n",
       "      <td>11:46:22</td>\n",
       "      <td>2024</td>\n",
       "      <td>2</td>\n",
       "      <td>Eleição Ordinária</td>\n",
       "      <td>1</td>\n",
       "      <td>619</td>\n",
       "      <td>Eleições Municipais 2024</td>\n",
       "      <td>06/10/2024</td>\n",
       "      <td>M</td>\n",
       "      <td>...</td>\n",
       "      <td>130</td>\n",
       "      <td>11</td>\n",
       "      <td>Prefeito</td>\n",
       "      <td>96</td>\n",
       "      <td>VOTO NULO</td>\n",
       "      <td>13</td>\n",
       "      <td>1015</td>\n",
       "      <td>-1</td>\n",
       "      <td>CENTRO EDUCACIONAL DE ITACARÉ</td>\n",
       "      <td>RUA ATAIDE SETUBAL, S/N - ZONA URBANA</td>\n",
       "    </tr>\n",
       "    <tr>\n",
       "      <th>1</th>\n",
       "      <td>28/10/2024</td>\n",
       "      <td>11:46:22</td>\n",
       "      <td>2024</td>\n",
       "      <td>2</td>\n",
       "      <td>Eleição Ordinária</td>\n",
       "      <td>1</td>\n",
       "      <td>619</td>\n",
       "      <td>Eleições Municipais 2024</td>\n",
       "      <td>06/10/2024</td>\n",
       "      <td>M</td>\n",
       "      <td>...</td>\n",
       "      <td>188</td>\n",
       "      <td>11</td>\n",
       "      <td>Prefeito</td>\n",
       "      <td>96</td>\n",
       "      <td>VOTO NULO</td>\n",
       "      <td>13</td>\n",
       "      <td>1244</td>\n",
       "      <td>-1</td>\n",
       "      <td>COLÉGIO ESTADUAL AURELINO LEAL</td>\n",
       "      <td>RUA RUY BARBOSA, S/N - ZONA URBANA</td>\n",
       "    </tr>\n",
       "    <tr>\n",
       "      <th>2</th>\n",
       "      <td>28/10/2024</td>\n",
       "      <td>11:46:22</td>\n",
       "      <td>2024</td>\n",
       "      <td>2</td>\n",
       "      <td>Eleição Ordinária</td>\n",
       "      <td>1</td>\n",
       "      <td>619</td>\n",
       "      <td>Eleições Municipais 2024</td>\n",
       "      <td>06/10/2024</td>\n",
       "      <td>M</td>\n",
       "      <td>...</td>\n",
       "      <td>26</td>\n",
       "      <td>11</td>\n",
       "      <td>Prefeito</td>\n",
       "      <td>77</td>\n",
       "      <td>JOAO BASTOS DO VALLE</td>\n",
       "      <td>4</td>\n",
       "      <td>1180</td>\n",
       "      <td>50002201655</td>\n",
       "      <td>ESCOLA BERNARDO GALVÃO</td>\n",
       "      <td>RUA ANTÔNIO SAMPAIO - ZONA URBANA</td>\n",
       "    </tr>\n",
       "    <tr>\n",
       "      <th>3</th>\n",
       "      <td>28/10/2024</td>\n",
       "      <td>11:46:22</td>\n",
       "      <td>2024</td>\n",
       "      <td>2</td>\n",
       "      <td>Eleição Ordinária</td>\n",
       "      <td>1</td>\n",
       "      <td>619</td>\n",
       "      <td>Eleições Municipais 2024</td>\n",
       "      <td>06/10/2024</td>\n",
       "      <td>M</td>\n",
       "      <td>...</td>\n",
       "      <td>295</td>\n",
       "      <td>13</td>\n",
       "      <td>Vereador</td>\n",
       "      <td>20180</td>\n",
       "      <td>CLAUDIA CRISTINA COSTA DE SOUZA GOMES</td>\n",
       "      <td>1</td>\n",
       "      <td>1538</td>\n",
       "      <td>50002002559</td>\n",
       "      <td>COLÉGIO MENDEL</td>\n",
       "      <td>RUA PRAIA DO FORTE, S/N - ZONA URBANA</td>\n",
       "    </tr>\n",
       "    <tr>\n",
       "      <th>4</th>\n",
       "      <td>28/10/2024</td>\n",
       "      <td>11:46:22</td>\n",
       "      <td>2024</td>\n",
       "      <td>2</td>\n",
       "      <td>Eleição Ordinária</td>\n",
       "      <td>1</td>\n",
       "      <td>619</td>\n",
       "      <td>Eleições Municipais 2024</td>\n",
       "      <td>06/10/2024</td>\n",
       "      <td>M</td>\n",
       "      <td>...</td>\n",
       "      <td>168</td>\n",
       "      <td>13</td>\n",
       "      <td>Vereador</td>\n",
       "      <td>95</td>\n",
       "      <td>VOTO BRANCO</td>\n",
       "      <td>4</td>\n",
       "      <td>1236</td>\n",
       "      <td>-1</td>\n",
       "      <td>ESCOLA MUNICIPAL MARIA BENJAMINA DA CRUZ</td>\n",
       "      <td>PRAÇA DA BANDEIRA S/N - ZONA URBANA</td>\n",
       "    </tr>\n",
       "  </tbody>\n",
       "</table>\n",
       "<p>5 rows × 26 columns</p>\n",
       "</div>"
      ],
      "text/plain": [
       "   DT_GERACAO HH_GERACAO  ANO_ELEICAO  CD_TIPO_ELEICAO    NM_TIPO_ELEICAO  \\\n",
       "0  28/10/2024   11:46:22         2024                2  Eleição Ordinária   \n",
       "1  28/10/2024   11:46:22         2024                2  Eleição Ordinária   \n",
       "2  28/10/2024   11:46:22         2024                2  Eleição Ordinária   \n",
       "3  28/10/2024   11:46:22         2024                2  Eleição Ordinária   \n",
       "4  28/10/2024   11:46:22         2024                2  Eleição Ordinária   \n",
       "\n",
       "   NR_TURNO  CD_ELEICAO                DS_ELEICAO  DT_ELEICAO TP_ABRANGENCIA  \\\n",
       "0         1         619  Eleições Municipais 2024  06/10/2024              M   \n",
       "1         1         619  Eleições Municipais 2024  06/10/2024              M   \n",
       "2         1         619  Eleições Municipais 2024  06/10/2024              M   \n",
       "3         1         619  Eleições Municipais 2024  06/10/2024              M   \n",
       "4         1         619  Eleições Municipais 2024  06/10/2024              M   \n",
       "\n",
       "   ... NR_SECAO  CD_CARGO  DS_CARGO  NR_VOTAVEL  \\\n",
       "0  ...      130        11  Prefeito          96   \n",
       "1  ...      188        11  Prefeito          96   \n",
       "2  ...       26        11  Prefeito          77   \n",
       "3  ...      295        13  Vereador       20180   \n",
       "4  ...      168        13  Vereador          95   \n",
       "\n",
       "                              NM_VOTAVEL  QT_VOTOS  NR_LOCAL_VOTACAO  \\\n",
       "0                              VOTO NULO        13              1015   \n",
       "1                              VOTO NULO        13              1244   \n",
       "2                   JOAO BASTOS DO VALLE         4              1180   \n",
       "3  CLAUDIA CRISTINA COSTA DE SOUZA GOMES         1              1538   \n",
       "4                            VOTO BRANCO         4              1236   \n",
       "\n",
       "   SQ_CANDIDATO                          NM_LOCAL_VOTACAO  \\\n",
       "0            -1             CENTRO EDUCACIONAL DE ITACARÉ   \n",
       "1            -1            COLÉGIO ESTADUAL AURELINO LEAL   \n",
       "2   50002201655                    ESCOLA BERNARDO GALVÃO   \n",
       "3   50002002559                            COLÉGIO MENDEL   \n",
       "4            -1  ESCOLA MUNICIPAL MARIA BENJAMINA DA CRUZ   \n",
       "\n",
       "               DS_LOCAL_VOTACAO_ENDERECO  \n",
       "0  RUA ATAIDE SETUBAL, S/N - ZONA URBANA  \n",
       "1     RUA RUY BARBOSA, S/N - ZONA URBANA  \n",
       "2      RUA ANTÔNIO SAMPAIO - ZONA URBANA  \n",
       "3  RUA PRAIA DO FORTE, S/N - ZONA URBANA  \n",
       "4    PRAÇA DA BANDEIRA S/N - ZONA URBANA  \n",
       "\n",
       "[5 rows x 26 columns]"
      ]
     },
     "execution_count": 2,
     "metadata": {},
     "output_type": "execute_result"
    }
   ],
   "source": [
    "df_eleicoes_2024_ba = pd.read_csv('./dados/votacao_secao_2024_BA.csv', sep=';', encoding='latin1')\n",
    "df_eleicoes_2024_ba.head()\n"
   ]
  },
  {
   "cell_type": "markdown",
   "metadata": {},
   "source": [
    "- Carregando lista anteriormente criada com os nomes completos do candidatos a vereador e a prefeito para o município de Simões Filho no ano de 2024"
   ]
  },
  {
   "cell_type": "code",
   "execution_count": 3,
   "metadata": {},
   "outputs": [
    {
     "data": {
      "application/vnd.microsoft.datawrangler.viewer.v0+json": {
       "columns": [
        {
         "name": "index",
         "rawType": "int64",
         "type": "integer"
        },
        {
         "name": "NM_CANDIDATURA",
         "rawType": "object",
         "type": "string"
        },
        {
         "name": "NM_VOTAVEL",
         "rawType": "object",
         "type": "string"
        }
       ],
       "ref": "c9104063-5bcf-4aeb-9845-b026f53a3170",
       "rows": [
        [
         "0",
         "ABSOLAN CAMINHONEIRO",
         "ABSOLAN DA SILVA NASCIMENTO"
        ],
        [
         "1",
         "ADAILTON CAÇAMBEIRO",
         "ADAILTON SANTOS DE ANDRADE"
        ],
        [
         "2",
         "ADIEL",
         "ADIELSON DOS SANTOS FRANÇA"
        ],
        [
         "3",
         "ADRIANO BARACK",
         "ADRIANO SANTANA REIS"
        ],
        [
         "4",
         "ADRIANO MATIAS",
         "ADRIANO MATIAS GOMES DOS SANTOS"
        ]
       ],
       "shape": {
        "columns": 2,
        "rows": 5
       }
      },
      "text/html": [
       "<div>\n",
       "<style scoped>\n",
       "    .dataframe tbody tr th:only-of-type {\n",
       "        vertical-align: middle;\n",
       "    }\n",
       "\n",
       "    .dataframe tbody tr th {\n",
       "        vertical-align: top;\n",
       "    }\n",
       "\n",
       "    .dataframe thead th {\n",
       "        text-align: right;\n",
       "    }\n",
       "</style>\n",
       "<table border=\"1\" class=\"dataframe\">\n",
       "  <thead>\n",
       "    <tr style=\"text-align: right;\">\n",
       "      <th></th>\n",
       "      <th>NM_CANDIDATURA</th>\n",
       "      <th>NM_VOTAVEL</th>\n",
       "    </tr>\n",
       "  </thead>\n",
       "  <tbody>\n",
       "    <tr>\n",
       "      <th>0</th>\n",
       "      <td>ABSOLAN CAMINHONEIRO</td>\n",
       "      <td>ABSOLAN DA SILVA NASCIMENTO</td>\n",
       "    </tr>\n",
       "    <tr>\n",
       "      <th>1</th>\n",
       "      <td>ADAILTON CAÇAMBEIRO</td>\n",
       "      <td>ADAILTON SANTOS DE ANDRADE</td>\n",
       "    </tr>\n",
       "    <tr>\n",
       "      <th>2</th>\n",
       "      <td>ADIEL</td>\n",
       "      <td>ADIELSON DOS SANTOS FRANÇA</td>\n",
       "    </tr>\n",
       "    <tr>\n",
       "      <th>3</th>\n",
       "      <td>ADRIANO BARACK</td>\n",
       "      <td>ADRIANO SANTANA REIS</td>\n",
       "    </tr>\n",
       "    <tr>\n",
       "      <th>4</th>\n",
       "      <td>ADRIANO MATIAS</td>\n",
       "      <td>ADRIANO MATIAS GOMES DOS SANTOS</td>\n",
       "    </tr>\n",
       "  </tbody>\n",
       "</table>\n",
       "</div>"
      ],
      "text/plain": [
       "         NM_CANDIDATURA                       NM_VOTAVEL\n",
       "0  ABSOLAN CAMINHONEIRO      ABSOLAN DA SILVA NASCIMENTO\n",
       "1   ADAILTON CAÇAMBEIRO       ADAILTON SANTOS DE ANDRADE\n",
       "2                 ADIEL       ADIELSON DOS SANTOS FRANÇA\n",
       "3        ADRIANO BARACK             ADRIANO SANTANA REIS\n",
       "4        ADRIANO MATIAS  ADRIANO MATIAS GOMES DOS SANTOS"
      ]
     },
     "execution_count": 3,
     "metadata": {},
     "output_type": "execute_result"
    }
   ],
   "source": [
    "df_nomes_candidatos = pd.read_csv('./dados/lista_nomes_completos.txt', header=None, sep=';', encoding='utf-8', names=['NM_CANDIDATURA','NM_VOTAVEL'])\n",
    "df_nomes_candidatos.head()\n"
   ]
  },
  {
   "cell_type": "markdown",
   "metadata": {},
   "source": [
    "- Inserindo os nomes de campanha dos candidatos de Simões Filho no dataframe"
   ]
  },
  {
   "cell_type": "code",
   "execution_count": 4,
   "metadata": {},
   "outputs": [
    {
     "data": {
      "application/vnd.microsoft.datawrangler.viewer.v0+json": {
       "columns": [
        {
         "name": "index",
         "rawType": "int64",
         "type": "integer"
        },
        {
         "name": "DT_GERACAO",
         "rawType": "object",
         "type": "string"
        },
        {
         "name": "HH_GERACAO",
         "rawType": "object",
         "type": "string"
        },
        {
         "name": "ANO_ELEICAO",
         "rawType": "int64",
         "type": "integer"
        },
        {
         "name": "CD_TIPO_ELEICAO",
         "rawType": "int64",
         "type": "integer"
        },
        {
         "name": "NM_TIPO_ELEICAO",
         "rawType": "object",
         "type": "string"
        },
        {
         "name": "NR_TURNO",
         "rawType": "int64",
         "type": "integer"
        },
        {
         "name": "CD_ELEICAO",
         "rawType": "int64",
         "type": "integer"
        },
        {
         "name": "DS_ELEICAO",
         "rawType": "object",
         "type": "string"
        },
        {
         "name": "DT_ELEICAO",
         "rawType": "object",
         "type": "string"
        },
        {
         "name": "TP_ABRANGENCIA",
         "rawType": "object",
         "type": "string"
        },
        {
         "name": "SG_UF",
         "rawType": "object",
         "type": "string"
        },
        {
         "name": "SG_UE",
         "rawType": "int64",
         "type": "integer"
        },
        {
         "name": "NM_UE",
         "rawType": "object",
         "type": "string"
        },
        {
         "name": "CD_MUNICIPIO",
         "rawType": "int64",
         "type": "integer"
        },
        {
         "name": "NM_MUNICIPIO",
         "rawType": "object",
         "type": "string"
        },
        {
         "name": "NR_ZONA",
         "rawType": "int64",
         "type": "integer"
        },
        {
         "name": "NR_SECAO",
         "rawType": "int64",
         "type": "integer"
        },
        {
         "name": "CD_CARGO",
         "rawType": "int64",
         "type": "integer"
        },
        {
         "name": "DS_CARGO",
         "rawType": "object",
         "type": "string"
        },
        {
         "name": "NR_VOTAVEL",
         "rawType": "int64",
         "type": "integer"
        },
        {
         "name": "NM_VOTAVEL",
         "rawType": "object",
         "type": "string"
        },
        {
         "name": "QT_VOTOS",
         "rawType": "int64",
         "type": "integer"
        },
        {
         "name": "NR_LOCAL_VOTACAO",
         "rawType": "int64",
         "type": "integer"
        },
        {
         "name": "SQ_CANDIDATO",
         "rawType": "int64",
         "type": "integer"
        },
        {
         "name": "NM_LOCAL_VOTACAO",
         "rawType": "object",
         "type": "string"
        },
        {
         "name": "DS_LOCAL_VOTACAO_ENDERECO",
         "rawType": "object",
         "type": "string"
        },
        {
         "name": "NM_CANDIDATURA",
         "rawType": "object",
         "type": "unknown"
        }
       ],
       "ref": "d6a5cdfa-953f-4ee2-95a2-8010398d6160",
       "rows": [
        [
         "0",
         "28/10/2024",
         "11:46:22",
         "2024",
         "2",
         "Eleição Ordinária",
         "1",
         "619",
         "Eleições Municipais 2024",
         "06/10/2024",
         "M",
         "BA",
         "35998",
         "ITACARÉ",
         "35998",
         "ITACARÉ",
         "198",
         "130",
         "11",
         "Prefeito",
         "96",
         "VOTO NULO",
         "13",
         "1015",
         "-1",
         "CENTRO EDUCACIONAL DE ITACARÉ",
         "RUA ATAIDE SETUBAL, S/N - ZONA URBANA",
         null
        ],
        [
         "1",
         "28/10/2024",
         "11:46:22",
         "2024",
         "2",
         "Eleição Ordinária",
         "1",
         "619",
         "Eleições Municipais 2024",
         "06/10/2024",
         "M",
         "BA",
         "35998",
         "ITACARÉ",
         "35998",
         "ITACARÉ",
         "198",
         "188",
         "11",
         "Prefeito",
         "96",
         "VOTO NULO",
         "13",
         "1244",
         "-1",
         "COLÉGIO ESTADUAL AURELINO LEAL",
         "RUA RUY BARBOSA, S/N - ZONA URBANA",
         null
        ],
        [
         "2",
         "28/10/2024",
         "11:46:22",
         "2024",
         "2",
         "Eleição Ordinária",
         "1",
         "619",
         "Eleições Municipais 2024",
         "06/10/2024",
         "M",
         "BA",
         "37176",
         "MARCIONÍLIO SOUZA",
         "37176",
         "MARCIONÍLIO SOUZA",
         "193",
         "26",
         "11",
         "Prefeito",
         "77",
         "JOAO BASTOS DO VALLE",
         "4",
         "1180",
         "50002201655",
         "ESCOLA BERNARDO GALVÃO",
         "RUA ANTÔNIO SAMPAIO - ZONA URBANA",
         null
        ],
        [
         "3",
         "28/10/2024",
         "11:46:22",
         "2024",
         "2",
         "Eleição Ordinária",
         "1",
         "619",
         "Eleições Municipais 2024",
         "06/10/2024",
         "M",
         "BA",
         "36854",
         "LAURO DE FREITAS",
         "36854",
         "LAURO DE FREITAS",
         "180",
         "295",
         "13",
         "Vereador",
         "20180",
         "CLAUDIA CRISTINA COSTA DE SOUZA GOMES",
         "1",
         "1538",
         "50002002559",
         "COLÉGIO MENDEL",
         "RUA PRAIA DO FORTE, S/N - ZONA URBANA",
         null
        ],
        [
         "4",
         "28/10/2024",
         "11:46:22",
         "2024",
         "2",
         "Eleição Ordinária",
         "1",
         "619",
         "Eleições Municipais 2024",
         "06/10/2024",
         "M",
         "BA",
         "35998",
         "ITACARÉ",
         "35998",
         "ITACARÉ",
         "198",
         "168",
         "13",
         "Vereador",
         "95",
         "VOTO BRANCO",
         "4",
         "1236",
         "-1",
         "ESCOLA MUNICIPAL MARIA BENJAMINA DA CRUZ",
         "PRAÇA DA BANDEIRA S/N - ZONA URBANA",
         null
        ]
       ],
       "shape": {
        "columns": 27,
        "rows": 5
       }
      },
      "text/html": [
       "<div>\n",
       "<style scoped>\n",
       "    .dataframe tbody tr th:only-of-type {\n",
       "        vertical-align: middle;\n",
       "    }\n",
       "\n",
       "    .dataframe tbody tr th {\n",
       "        vertical-align: top;\n",
       "    }\n",
       "\n",
       "    .dataframe thead th {\n",
       "        text-align: right;\n",
       "    }\n",
       "</style>\n",
       "<table border=\"1\" class=\"dataframe\">\n",
       "  <thead>\n",
       "    <tr style=\"text-align: right;\">\n",
       "      <th></th>\n",
       "      <th>DT_GERACAO</th>\n",
       "      <th>HH_GERACAO</th>\n",
       "      <th>ANO_ELEICAO</th>\n",
       "      <th>CD_TIPO_ELEICAO</th>\n",
       "      <th>NM_TIPO_ELEICAO</th>\n",
       "      <th>NR_TURNO</th>\n",
       "      <th>CD_ELEICAO</th>\n",
       "      <th>DS_ELEICAO</th>\n",
       "      <th>DT_ELEICAO</th>\n",
       "      <th>TP_ABRANGENCIA</th>\n",
       "      <th>...</th>\n",
       "      <th>CD_CARGO</th>\n",
       "      <th>DS_CARGO</th>\n",
       "      <th>NR_VOTAVEL</th>\n",
       "      <th>NM_VOTAVEL</th>\n",
       "      <th>QT_VOTOS</th>\n",
       "      <th>NR_LOCAL_VOTACAO</th>\n",
       "      <th>SQ_CANDIDATO</th>\n",
       "      <th>NM_LOCAL_VOTACAO</th>\n",
       "      <th>DS_LOCAL_VOTACAO_ENDERECO</th>\n",
       "      <th>NM_CANDIDATURA</th>\n",
       "    </tr>\n",
       "  </thead>\n",
       "  <tbody>\n",
       "    <tr>\n",
       "      <th>0</th>\n",
       "      <td>28/10/2024</td>\n",
       "      <td>11:46:22</td>\n",
       "      <td>2024</td>\n",
       "      <td>2</td>\n",
       "      <td>Eleição Ordinária</td>\n",
       "      <td>1</td>\n",
       "      <td>619</td>\n",
       "      <td>Eleições Municipais 2024</td>\n",
       "      <td>06/10/2024</td>\n",
       "      <td>M</td>\n",
       "      <td>...</td>\n",
       "      <td>11</td>\n",
       "      <td>Prefeito</td>\n",
       "      <td>96</td>\n",
       "      <td>VOTO NULO</td>\n",
       "      <td>13</td>\n",
       "      <td>1015</td>\n",
       "      <td>-1</td>\n",
       "      <td>CENTRO EDUCACIONAL DE ITACARÉ</td>\n",
       "      <td>RUA ATAIDE SETUBAL, S/N - ZONA URBANA</td>\n",
       "      <td>NaN</td>\n",
       "    </tr>\n",
       "    <tr>\n",
       "      <th>1</th>\n",
       "      <td>28/10/2024</td>\n",
       "      <td>11:46:22</td>\n",
       "      <td>2024</td>\n",
       "      <td>2</td>\n",
       "      <td>Eleição Ordinária</td>\n",
       "      <td>1</td>\n",
       "      <td>619</td>\n",
       "      <td>Eleições Municipais 2024</td>\n",
       "      <td>06/10/2024</td>\n",
       "      <td>M</td>\n",
       "      <td>...</td>\n",
       "      <td>11</td>\n",
       "      <td>Prefeito</td>\n",
       "      <td>96</td>\n",
       "      <td>VOTO NULO</td>\n",
       "      <td>13</td>\n",
       "      <td>1244</td>\n",
       "      <td>-1</td>\n",
       "      <td>COLÉGIO ESTADUAL AURELINO LEAL</td>\n",
       "      <td>RUA RUY BARBOSA, S/N - ZONA URBANA</td>\n",
       "      <td>NaN</td>\n",
       "    </tr>\n",
       "    <tr>\n",
       "      <th>2</th>\n",
       "      <td>28/10/2024</td>\n",
       "      <td>11:46:22</td>\n",
       "      <td>2024</td>\n",
       "      <td>2</td>\n",
       "      <td>Eleição Ordinária</td>\n",
       "      <td>1</td>\n",
       "      <td>619</td>\n",
       "      <td>Eleições Municipais 2024</td>\n",
       "      <td>06/10/2024</td>\n",
       "      <td>M</td>\n",
       "      <td>...</td>\n",
       "      <td>11</td>\n",
       "      <td>Prefeito</td>\n",
       "      <td>77</td>\n",
       "      <td>JOAO BASTOS DO VALLE</td>\n",
       "      <td>4</td>\n",
       "      <td>1180</td>\n",
       "      <td>50002201655</td>\n",
       "      <td>ESCOLA BERNARDO GALVÃO</td>\n",
       "      <td>RUA ANTÔNIO SAMPAIO - ZONA URBANA</td>\n",
       "      <td>NaN</td>\n",
       "    </tr>\n",
       "    <tr>\n",
       "      <th>3</th>\n",
       "      <td>28/10/2024</td>\n",
       "      <td>11:46:22</td>\n",
       "      <td>2024</td>\n",
       "      <td>2</td>\n",
       "      <td>Eleição Ordinária</td>\n",
       "      <td>1</td>\n",
       "      <td>619</td>\n",
       "      <td>Eleições Municipais 2024</td>\n",
       "      <td>06/10/2024</td>\n",
       "      <td>M</td>\n",
       "      <td>...</td>\n",
       "      <td>13</td>\n",
       "      <td>Vereador</td>\n",
       "      <td>20180</td>\n",
       "      <td>CLAUDIA CRISTINA COSTA DE SOUZA GOMES</td>\n",
       "      <td>1</td>\n",
       "      <td>1538</td>\n",
       "      <td>50002002559</td>\n",
       "      <td>COLÉGIO MENDEL</td>\n",
       "      <td>RUA PRAIA DO FORTE, S/N - ZONA URBANA</td>\n",
       "      <td>NaN</td>\n",
       "    </tr>\n",
       "    <tr>\n",
       "      <th>4</th>\n",
       "      <td>28/10/2024</td>\n",
       "      <td>11:46:22</td>\n",
       "      <td>2024</td>\n",
       "      <td>2</td>\n",
       "      <td>Eleição Ordinária</td>\n",
       "      <td>1</td>\n",
       "      <td>619</td>\n",
       "      <td>Eleições Municipais 2024</td>\n",
       "      <td>06/10/2024</td>\n",
       "      <td>M</td>\n",
       "      <td>...</td>\n",
       "      <td>13</td>\n",
       "      <td>Vereador</td>\n",
       "      <td>95</td>\n",
       "      <td>VOTO BRANCO</td>\n",
       "      <td>4</td>\n",
       "      <td>1236</td>\n",
       "      <td>-1</td>\n",
       "      <td>ESCOLA MUNICIPAL MARIA BENJAMINA DA CRUZ</td>\n",
       "      <td>PRAÇA DA BANDEIRA S/N - ZONA URBANA</td>\n",
       "      <td>NaN</td>\n",
       "    </tr>\n",
       "  </tbody>\n",
       "</table>\n",
       "<p>5 rows × 27 columns</p>\n",
       "</div>"
      ],
      "text/plain": [
       "   DT_GERACAO HH_GERACAO  ANO_ELEICAO  CD_TIPO_ELEICAO    NM_TIPO_ELEICAO  \\\n",
       "0  28/10/2024   11:46:22         2024                2  Eleição Ordinária   \n",
       "1  28/10/2024   11:46:22         2024                2  Eleição Ordinária   \n",
       "2  28/10/2024   11:46:22         2024                2  Eleição Ordinária   \n",
       "3  28/10/2024   11:46:22         2024                2  Eleição Ordinária   \n",
       "4  28/10/2024   11:46:22         2024                2  Eleição Ordinária   \n",
       "\n",
       "   NR_TURNO  CD_ELEICAO                DS_ELEICAO  DT_ELEICAO TP_ABRANGENCIA  \\\n",
       "0         1         619  Eleições Municipais 2024  06/10/2024              M   \n",
       "1         1         619  Eleições Municipais 2024  06/10/2024              M   \n",
       "2         1         619  Eleições Municipais 2024  06/10/2024              M   \n",
       "3         1         619  Eleições Municipais 2024  06/10/2024              M   \n",
       "4         1         619  Eleições Municipais 2024  06/10/2024              M   \n",
       "\n",
       "   ... CD_CARGO  DS_CARGO NR_VOTAVEL                             NM_VOTAVEL  \\\n",
       "0  ...       11  Prefeito         96                              VOTO NULO   \n",
       "1  ...       11  Prefeito         96                              VOTO NULO   \n",
       "2  ...       11  Prefeito         77                   JOAO BASTOS DO VALLE   \n",
       "3  ...       13  Vereador      20180  CLAUDIA CRISTINA COSTA DE SOUZA GOMES   \n",
       "4  ...       13  Vereador         95                            VOTO BRANCO   \n",
       "\n",
       "  QT_VOTOS  NR_LOCAL_VOTACAO  SQ_CANDIDATO  \\\n",
       "0       13              1015            -1   \n",
       "1       13              1244            -1   \n",
       "2        4              1180   50002201655   \n",
       "3        1              1538   50002002559   \n",
       "4        4              1236            -1   \n",
       "\n",
       "                           NM_LOCAL_VOTACAO  \\\n",
       "0             CENTRO EDUCACIONAL DE ITACARÉ   \n",
       "1            COLÉGIO ESTADUAL AURELINO LEAL   \n",
       "2                    ESCOLA BERNARDO GALVÃO   \n",
       "3                            COLÉGIO MENDEL   \n",
       "4  ESCOLA MUNICIPAL MARIA BENJAMINA DA CRUZ   \n",
       "\n",
       "               DS_LOCAL_VOTACAO_ENDERECO  NM_CANDIDATURA  \n",
       "0  RUA ATAIDE SETUBAL, S/N - ZONA URBANA             NaN  \n",
       "1     RUA RUY BARBOSA, S/N - ZONA URBANA             NaN  \n",
       "2      RUA ANTÔNIO SAMPAIO - ZONA URBANA             NaN  \n",
       "3  RUA PRAIA DO FORTE, S/N - ZONA URBANA             NaN  \n",
       "4    PRAÇA DA BANDEIRA S/N - ZONA URBANA             NaN  \n",
       "\n",
       "[5 rows x 27 columns]"
      ]
     },
     "execution_count": 4,
     "metadata": {},
     "output_type": "execute_result"
    }
   ],
   "source": [
    "df_eleicoes_2024_ba = df_eleicoes_2024_ba.merge(df_nomes_candidatos, on='NM_VOTAVEL', how='left')\n",
    "\n",
    "df_eleicoes_2024_ba.head()"
   ]
  },
  {
   "cell_type": "markdown",
   "metadata": {},
   "source": [
    "- Separando os candidatos de Simões Filho"
   ]
  },
  {
   "cell_type": "code",
   "execution_count": 5,
   "metadata": {},
   "outputs": [
    {
     "data": {
      "application/vnd.microsoft.datawrangler.viewer.v0+json": {
       "columns": [
        {
         "name": "index",
         "rawType": "int64",
         "type": "integer"
        },
        {
         "name": "DT_GERACAO",
         "rawType": "object",
         "type": "string"
        },
        {
         "name": "HH_GERACAO",
         "rawType": "object",
         "type": "string"
        },
        {
         "name": "ANO_ELEICAO",
         "rawType": "int64",
         "type": "integer"
        },
        {
         "name": "CD_TIPO_ELEICAO",
         "rawType": "int64",
         "type": "integer"
        },
        {
         "name": "NM_TIPO_ELEICAO",
         "rawType": "object",
         "type": "string"
        },
        {
         "name": "NR_TURNO",
         "rawType": "int64",
         "type": "integer"
        },
        {
         "name": "CD_ELEICAO",
         "rawType": "int64",
         "type": "integer"
        },
        {
         "name": "DS_ELEICAO",
         "rawType": "object",
         "type": "string"
        },
        {
         "name": "DT_ELEICAO",
         "rawType": "object",
         "type": "string"
        },
        {
         "name": "TP_ABRANGENCIA",
         "rawType": "object",
         "type": "string"
        },
        {
         "name": "SG_UF",
         "rawType": "object",
         "type": "string"
        },
        {
         "name": "SG_UE",
         "rawType": "int64",
         "type": "integer"
        },
        {
         "name": "NM_UE",
         "rawType": "object",
         "type": "string"
        },
        {
         "name": "CD_MUNICIPIO",
         "rawType": "int64",
         "type": "integer"
        },
        {
         "name": "NM_MUNICIPIO",
         "rawType": "object",
         "type": "string"
        },
        {
         "name": "NR_ZONA",
         "rawType": "int64",
         "type": "integer"
        },
        {
         "name": "NR_SECAO",
         "rawType": "int64",
         "type": "integer"
        },
        {
         "name": "CD_CARGO",
         "rawType": "int64",
         "type": "integer"
        },
        {
         "name": "DS_CARGO",
         "rawType": "object",
         "type": "string"
        },
        {
         "name": "NR_VOTAVEL",
         "rawType": "int64",
         "type": "integer"
        },
        {
         "name": "NM_VOTAVEL",
         "rawType": "object",
         "type": "string"
        },
        {
         "name": "QT_VOTOS",
         "rawType": "int64",
         "type": "integer"
        },
        {
         "name": "NR_LOCAL_VOTACAO",
         "rawType": "int64",
         "type": "integer"
        },
        {
         "name": "SQ_CANDIDATO",
         "rawType": "int64",
         "type": "integer"
        },
        {
         "name": "NM_LOCAL_VOTACAO",
         "rawType": "object",
         "type": "string"
        },
        {
         "name": "DS_LOCAL_VOTACAO_ENDERECO",
         "rawType": "object",
         "type": "string"
        },
        {
         "name": "NM_CANDIDATURA",
         "rawType": "object",
         "type": "string"
        }
       ],
       "ref": "cccb8856-b29e-4404-b344-98ee5d62afee",
       "rows": [
        [
         "455",
         "28/10/2024",
         "11:46:22",
         "2024",
         "2",
         "Eleição Ordinária",
         "1",
         "619",
         "Eleições Municipais 2024",
         "06/10/2024",
         "M",
         "BA",
         "39136",
         "SIMÕES FILHO",
         "39136",
         "SIMÕES FILHO",
         "33",
         "52",
         "13",
         "Vereador",
         "20000",
         "ANDERSON BORBA SILVA",
         "1",
         "1066",
         "50001978043",
         "ESCOLA BERLINDO MAMEDE",
         "RUA LOMANTO JUNIOR 71 - ZONA URBANA",
         "ANDERSON BORBA"
        ],
        [
         "456",
         "28/10/2024",
         "11:46:22",
         "2024",
         "2",
         "Eleição Ordinária",
         "1",
         "619",
         "Eleições Municipais 2024",
         "06/10/2024",
         "M",
         "BA",
         "39136",
         "SIMÕES FILHO",
         "39136",
         "SIMÕES FILHO",
         "33",
         "52",
         "13",
         "Vereador",
         "11014",
         "MARIA LUCIA FERREIRA DOS REIS",
         "3",
         "1066",
         "50002240498",
         "ESCOLA BERLINDO MAMEDE",
         "RUA LOMANTO JUNIOR 71 - ZONA URBANA",
         "LUCIA DO SOCIAL"
        ],
        [
         "637",
         "28/10/2024",
         "11:46:22",
         "2024",
         "2",
         "Eleição Ordinária",
         "1",
         "619",
         "Eleições Municipais 2024",
         "06/10/2024",
         "M",
         "BA",
         "39136",
         "SIMÕES FILHO",
         "39136",
         "SIMÕES FILHO",
         "33",
         "71",
         "13",
         "Vereador",
         "11999",
         "CLAUDIO OLIVEIRA DOS SANTOS",
         "2",
         "1090",
         "50002240496",
         "ESCOLA POLIVALENTE DE ARATU",
         "AV ELMO SEREJO FARIAS S/N - ZONA URBANA",
         "CLAUDIO BARBEIRO"
        ],
        [
         "910",
         "28/10/2024",
         "11:46:22",
         "2024",
         "2",
         "Eleição Ordinária",
         "1",
         "619",
         "Eleições Municipais 2024",
         "06/10/2024",
         "M",
         "BA",
         "39136",
         "SIMÕES FILHO",
         "39136",
         "SIMÕES FILHO",
         "33",
         "153",
         "13",
         "Vereador",
         "55777",
         "GABRIEL SOUZA DA SILVA",
         "3",
         "1287",
         "50002060219",
         "ESCOLA MUNICIPAL MARIA QUITÉRIA",
         "RUA ALMIRANTE BARROSO S/N - ZONA URBANA",
         "GABRIEL DE RITA"
        ],
        [
         "911",
         "28/10/2024",
         "11:46:22",
         "2024",
         "2",
         "Eleição Ordinária",
         "1",
         "619",
         "Eleições Municipais 2024",
         "06/10/2024",
         "M",
         "BA",
         "39136",
         "SIMÕES FILHO",
         "39136",
         "SIMÕES FILHO",
         "33",
         "201",
         "13",
         "Vereador",
         "55777",
         "GABRIEL SOUZA DA SILVA",
         "1",
         "1384",
         "50002060219",
         "ESCOLA MUNICIPAL SETE DE NOVEMBRO",
         "AV. JOÃO XXIII, S/Nº - ZONA URBANA",
         "GABRIEL DE RITA"
        ]
       ],
       "shape": {
        "columns": 27,
        "rows": 5
       }
      },
      "text/html": [
       "<div>\n",
       "<style scoped>\n",
       "    .dataframe tbody tr th:only-of-type {\n",
       "        vertical-align: middle;\n",
       "    }\n",
       "\n",
       "    .dataframe tbody tr th {\n",
       "        vertical-align: top;\n",
       "    }\n",
       "\n",
       "    .dataframe thead th {\n",
       "        text-align: right;\n",
       "    }\n",
       "</style>\n",
       "<table border=\"1\" class=\"dataframe\">\n",
       "  <thead>\n",
       "    <tr style=\"text-align: right;\">\n",
       "      <th></th>\n",
       "      <th>DT_GERACAO</th>\n",
       "      <th>HH_GERACAO</th>\n",
       "      <th>ANO_ELEICAO</th>\n",
       "      <th>CD_TIPO_ELEICAO</th>\n",
       "      <th>NM_TIPO_ELEICAO</th>\n",
       "      <th>NR_TURNO</th>\n",
       "      <th>CD_ELEICAO</th>\n",
       "      <th>DS_ELEICAO</th>\n",
       "      <th>DT_ELEICAO</th>\n",
       "      <th>TP_ABRANGENCIA</th>\n",
       "      <th>...</th>\n",
       "      <th>CD_CARGO</th>\n",
       "      <th>DS_CARGO</th>\n",
       "      <th>NR_VOTAVEL</th>\n",
       "      <th>NM_VOTAVEL</th>\n",
       "      <th>QT_VOTOS</th>\n",
       "      <th>NR_LOCAL_VOTACAO</th>\n",
       "      <th>SQ_CANDIDATO</th>\n",
       "      <th>NM_LOCAL_VOTACAO</th>\n",
       "      <th>DS_LOCAL_VOTACAO_ENDERECO</th>\n",
       "      <th>NM_CANDIDATURA</th>\n",
       "    </tr>\n",
       "  </thead>\n",
       "  <tbody>\n",
       "    <tr>\n",
       "      <th>455</th>\n",
       "      <td>28/10/2024</td>\n",
       "      <td>11:46:22</td>\n",
       "      <td>2024</td>\n",
       "      <td>2</td>\n",
       "      <td>Eleição Ordinária</td>\n",
       "      <td>1</td>\n",
       "      <td>619</td>\n",
       "      <td>Eleições Municipais 2024</td>\n",
       "      <td>06/10/2024</td>\n",
       "      <td>M</td>\n",
       "      <td>...</td>\n",
       "      <td>13</td>\n",
       "      <td>Vereador</td>\n",
       "      <td>20000</td>\n",
       "      <td>ANDERSON BORBA SILVA</td>\n",
       "      <td>1</td>\n",
       "      <td>1066</td>\n",
       "      <td>50001978043</td>\n",
       "      <td>ESCOLA BERLINDO MAMEDE</td>\n",
       "      <td>RUA LOMANTO JUNIOR 71 - ZONA URBANA</td>\n",
       "      <td>ANDERSON BORBA</td>\n",
       "    </tr>\n",
       "    <tr>\n",
       "      <th>456</th>\n",
       "      <td>28/10/2024</td>\n",
       "      <td>11:46:22</td>\n",
       "      <td>2024</td>\n",
       "      <td>2</td>\n",
       "      <td>Eleição Ordinária</td>\n",
       "      <td>1</td>\n",
       "      <td>619</td>\n",
       "      <td>Eleições Municipais 2024</td>\n",
       "      <td>06/10/2024</td>\n",
       "      <td>M</td>\n",
       "      <td>...</td>\n",
       "      <td>13</td>\n",
       "      <td>Vereador</td>\n",
       "      <td>11014</td>\n",
       "      <td>MARIA LUCIA FERREIRA DOS REIS</td>\n",
       "      <td>3</td>\n",
       "      <td>1066</td>\n",
       "      <td>50002240498</td>\n",
       "      <td>ESCOLA BERLINDO MAMEDE</td>\n",
       "      <td>RUA LOMANTO JUNIOR 71 - ZONA URBANA</td>\n",
       "      <td>LUCIA DO SOCIAL</td>\n",
       "    </tr>\n",
       "    <tr>\n",
       "      <th>637</th>\n",
       "      <td>28/10/2024</td>\n",
       "      <td>11:46:22</td>\n",
       "      <td>2024</td>\n",
       "      <td>2</td>\n",
       "      <td>Eleição Ordinária</td>\n",
       "      <td>1</td>\n",
       "      <td>619</td>\n",
       "      <td>Eleições Municipais 2024</td>\n",
       "      <td>06/10/2024</td>\n",
       "      <td>M</td>\n",
       "      <td>...</td>\n",
       "      <td>13</td>\n",
       "      <td>Vereador</td>\n",
       "      <td>11999</td>\n",
       "      <td>CLAUDIO OLIVEIRA DOS SANTOS</td>\n",
       "      <td>2</td>\n",
       "      <td>1090</td>\n",
       "      <td>50002240496</td>\n",
       "      <td>ESCOLA POLIVALENTE DE ARATU</td>\n",
       "      <td>AV ELMO SEREJO FARIAS S/N - ZONA URBANA</td>\n",
       "      <td>CLAUDIO BARBEIRO</td>\n",
       "    </tr>\n",
       "    <tr>\n",
       "      <th>910</th>\n",
       "      <td>28/10/2024</td>\n",
       "      <td>11:46:22</td>\n",
       "      <td>2024</td>\n",
       "      <td>2</td>\n",
       "      <td>Eleição Ordinária</td>\n",
       "      <td>1</td>\n",
       "      <td>619</td>\n",
       "      <td>Eleições Municipais 2024</td>\n",
       "      <td>06/10/2024</td>\n",
       "      <td>M</td>\n",
       "      <td>...</td>\n",
       "      <td>13</td>\n",
       "      <td>Vereador</td>\n",
       "      <td>55777</td>\n",
       "      <td>GABRIEL SOUZA DA SILVA</td>\n",
       "      <td>3</td>\n",
       "      <td>1287</td>\n",
       "      <td>50002060219</td>\n",
       "      <td>ESCOLA MUNICIPAL MARIA QUITÉRIA</td>\n",
       "      <td>RUA ALMIRANTE BARROSO S/N - ZONA URBANA</td>\n",
       "      <td>GABRIEL DE RITA</td>\n",
       "    </tr>\n",
       "    <tr>\n",
       "      <th>911</th>\n",
       "      <td>28/10/2024</td>\n",
       "      <td>11:46:22</td>\n",
       "      <td>2024</td>\n",
       "      <td>2</td>\n",
       "      <td>Eleição Ordinária</td>\n",
       "      <td>1</td>\n",
       "      <td>619</td>\n",
       "      <td>Eleições Municipais 2024</td>\n",
       "      <td>06/10/2024</td>\n",
       "      <td>M</td>\n",
       "      <td>...</td>\n",
       "      <td>13</td>\n",
       "      <td>Vereador</td>\n",
       "      <td>55777</td>\n",
       "      <td>GABRIEL SOUZA DA SILVA</td>\n",
       "      <td>1</td>\n",
       "      <td>1384</td>\n",
       "      <td>50002060219</td>\n",
       "      <td>ESCOLA MUNICIPAL SETE DE NOVEMBRO</td>\n",
       "      <td>AV. JOÃO XXIII, S/Nº - ZONA URBANA</td>\n",
       "      <td>GABRIEL DE RITA</td>\n",
       "    </tr>\n",
       "  </tbody>\n",
       "</table>\n",
       "<p>5 rows × 27 columns</p>\n",
       "</div>"
      ],
      "text/plain": [
       "     DT_GERACAO HH_GERACAO  ANO_ELEICAO  CD_TIPO_ELEICAO    NM_TIPO_ELEICAO  \\\n",
       "455  28/10/2024   11:46:22         2024                2  Eleição Ordinária   \n",
       "456  28/10/2024   11:46:22         2024                2  Eleição Ordinária   \n",
       "637  28/10/2024   11:46:22         2024                2  Eleição Ordinária   \n",
       "910  28/10/2024   11:46:22         2024                2  Eleição Ordinária   \n",
       "911  28/10/2024   11:46:22         2024                2  Eleição Ordinária   \n",
       "\n",
       "     NR_TURNO  CD_ELEICAO                DS_ELEICAO  DT_ELEICAO  \\\n",
       "455         1         619  Eleições Municipais 2024  06/10/2024   \n",
       "456         1         619  Eleições Municipais 2024  06/10/2024   \n",
       "637         1         619  Eleições Municipais 2024  06/10/2024   \n",
       "910         1         619  Eleições Municipais 2024  06/10/2024   \n",
       "911         1         619  Eleições Municipais 2024  06/10/2024   \n",
       "\n",
       "    TP_ABRANGENCIA  ... CD_CARGO  DS_CARGO NR_VOTAVEL  \\\n",
       "455              M  ...       13  Vereador      20000   \n",
       "456              M  ...       13  Vereador      11014   \n",
       "637              M  ...       13  Vereador      11999   \n",
       "910              M  ...       13  Vereador      55777   \n",
       "911              M  ...       13  Vereador      55777   \n",
       "\n",
       "                        NM_VOTAVEL QT_VOTOS  NR_LOCAL_VOTACAO  SQ_CANDIDATO  \\\n",
       "455           ANDERSON BORBA SILVA        1              1066   50001978043   \n",
       "456  MARIA LUCIA FERREIRA DOS REIS        3              1066   50002240498   \n",
       "637    CLAUDIO OLIVEIRA DOS SANTOS        2              1090   50002240496   \n",
       "910         GABRIEL SOUZA DA SILVA        3              1287   50002060219   \n",
       "911         GABRIEL SOUZA DA SILVA        1              1384   50002060219   \n",
       "\n",
       "                      NM_LOCAL_VOTACAO  \\\n",
       "455             ESCOLA BERLINDO MAMEDE   \n",
       "456             ESCOLA BERLINDO MAMEDE   \n",
       "637        ESCOLA POLIVALENTE DE ARATU   \n",
       "910    ESCOLA MUNICIPAL MARIA QUITÉRIA   \n",
       "911  ESCOLA MUNICIPAL SETE DE NOVEMBRO   \n",
       "\n",
       "                   DS_LOCAL_VOTACAO_ENDERECO    NM_CANDIDATURA  \n",
       "455      RUA LOMANTO JUNIOR 71 - ZONA URBANA    ANDERSON BORBA  \n",
       "456      RUA LOMANTO JUNIOR 71 - ZONA URBANA   LUCIA DO SOCIAL  \n",
       "637  AV ELMO SEREJO FARIAS S/N - ZONA URBANA  CLAUDIO BARBEIRO  \n",
       "910  RUA ALMIRANTE BARROSO S/N - ZONA URBANA   GABRIEL DE RITA  \n",
       "911       AV. JOÃO XXIII, S/Nº - ZONA URBANA   GABRIEL DE RITA  \n",
       "\n",
       "[5 rows x 27 columns]"
      ]
     },
     "execution_count": 5,
     "metadata": {},
     "output_type": "execute_result"
    }
   ],
   "source": [
    "df_eleicoes_2024_ba = df_eleicoes_2024_ba.dropna(subset=['NM_CANDIDATURA'])\n",
    "\n",
    "df_eleicoes_2024_ba.head()"
   ]
  },
  {
   "cell_type": "markdown",
   "metadata": {},
   "source": [
    "- Selecionando os registros dos candidatos e os campos de interesse situados no arquivo fornecido pelo TSE"
   ]
  },
  {
   "cell_type": "code",
   "execution_count": 6,
   "metadata": {},
   "outputs": [
    {
     "data": {
      "application/vnd.microsoft.datawrangler.viewer.v0+json": {
       "columns": [
        {
         "name": "index",
         "rawType": "int64",
         "type": "integer"
        },
        {
         "name": "DS_CARGO",
         "rawType": "object",
         "type": "string"
        },
        {
         "name": "ANO_ELEICAO",
         "rawType": "int64",
         "type": "integer"
        },
        {
         "name": "NR_VOTAVEL",
         "rawType": "int64",
         "type": "integer"
        },
        {
         "name": "NM_CANDIDATURA",
         "rawType": "object",
         "type": "string"
        },
        {
         "name": "NM_VOTAVEL",
         "rawType": "object",
         "type": "string"
        },
        {
         "name": "NR_SECAO",
         "rawType": "int64",
         "type": "integer"
        },
        {
         "name": "QT_VOTOS",
         "rawType": "int64",
         "type": "integer"
        },
        {
         "name": "SQ_CANDIDATO",
         "rawType": "int64",
         "type": "integer"
        },
        {
         "name": "NM_LOCAL_VOTACAO",
         "rawType": "object",
         "type": "string"
        },
        {
         "name": "DS_LOCAL_VOTACAO_ENDERECO",
         "rawType": "object",
         "type": "string"
        }
       ],
       "ref": "1cfe9fc9-4954-45fb-91c6-8763d46d50dc",
       "rows": [
        [
         "455",
         "Vereador",
         "2024",
         "20000",
         "ANDERSON BORBA",
         "ANDERSON BORBA SILVA",
         "52",
         "1",
         "50001978043",
         "ESCOLA BERLINDO MAMEDE",
         "RUA LOMANTO JUNIOR 71 - ZONA URBANA"
        ],
        [
         "456",
         "Vereador",
         "2024",
         "11014",
         "LUCIA DO SOCIAL",
         "MARIA LUCIA FERREIRA DOS REIS",
         "52",
         "3",
         "50002240498",
         "ESCOLA BERLINDO MAMEDE",
         "RUA LOMANTO JUNIOR 71 - ZONA URBANA"
        ],
        [
         "637",
         "Vereador",
         "2024",
         "11999",
         "CLAUDIO BARBEIRO",
         "CLAUDIO OLIVEIRA DOS SANTOS",
         "71",
         "2",
         "50002240496",
         "ESCOLA POLIVALENTE DE ARATU",
         "AV ELMO SEREJO FARIAS S/N - ZONA URBANA"
        ],
        [
         "910",
         "Vereador",
         "2024",
         "55777",
         "GABRIEL DE RITA",
         "GABRIEL SOUZA DA SILVA",
         "153",
         "3",
         "50002060219",
         "ESCOLA MUNICIPAL MARIA QUITÉRIA",
         "RUA ALMIRANTE BARROSO S/N - ZONA URBANA"
        ],
        [
         "911",
         "Vereador",
         "2024",
         "55777",
         "GABRIEL DE RITA",
         "GABRIEL SOUZA DA SILVA",
         "201",
         "1",
         "50002060219",
         "ESCOLA MUNICIPAL SETE DE NOVEMBRO",
         "AV. JOÃO XXIII, S/Nº - ZONA URBANA"
        ]
       ],
       "shape": {
        "columns": 10,
        "rows": 5
       }
      },
      "text/html": [
       "<div>\n",
       "<style scoped>\n",
       "    .dataframe tbody tr th:only-of-type {\n",
       "        vertical-align: middle;\n",
       "    }\n",
       "\n",
       "    .dataframe tbody tr th {\n",
       "        vertical-align: top;\n",
       "    }\n",
       "\n",
       "    .dataframe thead th {\n",
       "        text-align: right;\n",
       "    }\n",
       "</style>\n",
       "<table border=\"1\" class=\"dataframe\">\n",
       "  <thead>\n",
       "    <tr style=\"text-align: right;\">\n",
       "      <th></th>\n",
       "      <th>DS_CARGO</th>\n",
       "      <th>ANO_ELEICAO</th>\n",
       "      <th>NR_VOTAVEL</th>\n",
       "      <th>NM_CANDIDATURA</th>\n",
       "      <th>NM_VOTAVEL</th>\n",
       "      <th>NR_SECAO</th>\n",
       "      <th>QT_VOTOS</th>\n",
       "      <th>SQ_CANDIDATO</th>\n",
       "      <th>NM_LOCAL_VOTACAO</th>\n",
       "      <th>DS_LOCAL_VOTACAO_ENDERECO</th>\n",
       "    </tr>\n",
       "  </thead>\n",
       "  <tbody>\n",
       "    <tr>\n",
       "      <th>455</th>\n",
       "      <td>Vereador</td>\n",
       "      <td>2024</td>\n",
       "      <td>20000</td>\n",
       "      <td>ANDERSON BORBA</td>\n",
       "      <td>ANDERSON BORBA SILVA</td>\n",
       "      <td>52</td>\n",
       "      <td>1</td>\n",
       "      <td>50001978043</td>\n",
       "      <td>ESCOLA BERLINDO MAMEDE</td>\n",
       "      <td>RUA LOMANTO JUNIOR 71 - ZONA URBANA</td>\n",
       "    </tr>\n",
       "    <tr>\n",
       "      <th>456</th>\n",
       "      <td>Vereador</td>\n",
       "      <td>2024</td>\n",
       "      <td>11014</td>\n",
       "      <td>LUCIA DO SOCIAL</td>\n",
       "      <td>MARIA LUCIA FERREIRA DOS REIS</td>\n",
       "      <td>52</td>\n",
       "      <td>3</td>\n",
       "      <td>50002240498</td>\n",
       "      <td>ESCOLA BERLINDO MAMEDE</td>\n",
       "      <td>RUA LOMANTO JUNIOR 71 - ZONA URBANA</td>\n",
       "    </tr>\n",
       "    <tr>\n",
       "      <th>637</th>\n",
       "      <td>Vereador</td>\n",
       "      <td>2024</td>\n",
       "      <td>11999</td>\n",
       "      <td>CLAUDIO BARBEIRO</td>\n",
       "      <td>CLAUDIO OLIVEIRA DOS SANTOS</td>\n",
       "      <td>71</td>\n",
       "      <td>2</td>\n",
       "      <td>50002240496</td>\n",
       "      <td>ESCOLA POLIVALENTE DE ARATU</td>\n",
       "      <td>AV ELMO SEREJO FARIAS S/N - ZONA URBANA</td>\n",
       "    </tr>\n",
       "    <tr>\n",
       "      <th>910</th>\n",
       "      <td>Vereador</td>\n",
       "      <td>2024</td>\n",
       "      <td>55777</td>\n",
       "      <td>GABRIEL DE RITA</td>\n",
       "      <td>GABRIEL SOUZA DA SILVA</td>\n",
       "      <td>153</td>\n",
       "      <td>3</td>\n",
       "      <td>50002060219</td>\n",
       "      <td>ESCOLA MUNICIPAL MARIA QUITÉRIA</td>\n",
       "      <td>RUA ALMIRANTE BARROSO S/N - ZONA URBANA</td>\n",
       "    </tr>\n",
       "    <tr>\n",
       "      <th>911</th>\n",
       "      <td>Vereador</td>\n",
       "      <td>2024</td>\n",
       "      <td>55777</td>\n",
       "      <td>GABRIEL DE RITA</td>\n",
       "      <td>GABRIEL SOUZA DA SILVA</td>\n",
       "      <td>201</td>\n",
       "      <td>1</td>\n",
       "      <td>50002060219</td>\n",
       "      <td>ESCOLA MUNICIPAL SETE DE NOVEMBRO</td>\n",
       "      <td>AV. JOÃO XXIII, S/Nº - ZONA URBANA</td>\n",
       "    </tr>\n",
       "  </tbody>\n",
       "</table>\n",
       "</div>"
      ],
      "text/plain": [
       "     DS_CARGO  ANO_ELEICAO  NR_VOTAVEL    NM_CANDIDATURA  \\\n",
       "455  Vereador         2024       20000    ANDERSON BORBA   \n",
       "456  Vereador         2024       11014   LUCIA DO SOCIAL   \n",
       "637  Vereador         2024       11999  CLAUDIO BARBEIRO   \n",
       "910  Vereador         2024       55777   GABRIEL DE RITA   \n",
       "911  Vereador         2024       55777   GABRIEL DE RITA   \n",
       "\n",
       "                        NM_VOTAVEL  NR_SECAO  QT_VOTOS  SQ_CANDIDATO  \\\n",
       "455           ANDERSON BORBA SILVA        52         1   50001978043   \n",
       "456  MARIA LUCIA FERREIRA DOS REIS        52         3   50002240498   \n",
       "637    CLAUDIO OLIVEIRA DOS SANTOS        71         2   50002240496   \n",
       "910         GABRIEL SOUZA DA SILVA       153         3   50002060219   \n",
       "911         GABRIEL SOUZA DA SILVA       201         1   50002060219   \n",
       "\n",
       "                      NM_LOCAL_VOTACAO  \\\n",
       "455             ESCOLA BERLINDO MAMEDE   \n",
       "456             ESCOLA BERLINDO MAMEDE   \n",
       "637        ESCOLA POLIVALENTE DE ARATU   \n",
       "910    ESCOLA MUNICIPAL MARIA QUITÉRIA   \n",
       "911  ESCOLA MUNICIPAL SETE DE NOVEMBRO   \n",
       "\n",
       "                   DS_LOCAL_VOTACAO_ENDERECO  \n",
       "455      RUA LOMANTO JUNIOR 71 - ZONA URBANA  \n",
       "456      RUA LOMANTO JUNIOR 71 - ZONA URBANA  \n",
       "637  AV ELMO SEREJO FARIAS S/N - ZONA URBANA  \n",
       "910  RUA ALMIRANTE BARROSO S/N - ZONA URBANA  \n",
       "911       AV. JOÃO XXIII, S/Nº - ZONA URBANA  "
      ]
     },
     "execution_count": 6,
     "metadata": {},
     "output_type": "execute_result"
    }
   ],
   "source": [
    "df_eleicoes_2024_ba = df_eleicoes_2024_ba[['DS_CARGO', 'ANO_ELEICAO','NR_VOTAVEL', 'NM_CANDIDATURA','NM_VOTAVEL', 'NR_SECAO', 'QT_VOTOS', 'SQ_CANDIDATO', 'NM_LOCAL_VOTACAO', 'DS_LOCAL_VOTACAO_ENDERECO']]\n",
    "df_eleicoes_2024_ba.head()"
   ]
  },
  {
   "cell_type": "markdown",
   "metadata": {},
   "source": [
    "- Criando diretório para salvar os dados tratados"
   ]
  },
  {
   "cell_type": "code",
   "execution_count": 20,
   "metadata": {},
   "outputs": [
    {
     "name": "stdout",
     "output_type": "stream",
     "text": [
      "Diretório './dados_tratados' criado com sucesso!\n"
     ]
    }
   ],
   "source": [
    "import os\n",
    "\n",
    "diretorio = './dados_tratados'\n",
    "\n",
    "os.makedirs(diretorio, exist_ok=True)\n",
    "\n",
    "print(f\"Diretório '{diretorio}' criado com sucesso!\")\n"
   ]
  },
  {
   "cell_type": "markdown",
   "metadata": {},
   "source": [
    "- salvando arquivo apenas com candidatos de simões filho"
   ]
  },
  {
   "cell_type": "code",
   "execution_count": null,
   "metadata": {},
   "outputs": [],
   "source": [
    "df_eleicoes_2024_ba.to_csv('./dados_tratados/votacao_secao_2024_sf.csv', sep=';', encoding='utf-8', index=False)\n",
    "\n",
    "print(\"Arquivo criado com sucesso!\")"
   ]
  },
  {
   "cell_type": "markdown",
   "metadata": {},
   "source": [
    "- Salvando, no diretório de dados tratados, os registros de cada candidato para as eleições municipais de simões filho no ano de 2024, de maneira isolada"
   ]
  },
  {
   "cell_type": "code",
   "execution_count": 21,
   "metadata": {},
   "outputs": [
    {
     "name": "stdout",
     "output_type": "stream",
     "text": [
      "Arquivos gerados com sucesso!\n"
     ]
    }
   ],
   "source": [
    "df_eleicoes_2024_simoes_filho = pd.DataFrame()\n",
    "\n",
    "try:\n",
    "    for nome in df_nomes_candidatos.values:\n",
    "        df_eleicoes_2024_simoes_filho = df_eleicoes_2024_ba[df_eleicoes_2024_ba['NM_VOTAVEL'] == nome[1]]\n",
    "\n",
    "        df_eleicoes_2024_simoes_filho.to_csv(f'./dados_tratados/{nome[0]}_2024.csv', sep=';', index=False, header=True)\n",
    "\n",
    "    print('Arquivos gerados com sucesso!')\n",
    "    \n",
    "except Exception as err:\n",
    "    print(f'Erro: {err}')\n"
   ]
  }
 ],
 "metadata": {
  "kernelspec": {
   "display_name": ".venv",
   "language": "python",
   "name": "python3"
  },
  "language_info": {
   "codemirror_mode": {
    "name": "ipython",
    "version": 3
   },
   "file_extension": ".py",
   "mimetype": "text/x-python",
   "name": "python",
   "nbconvert_exporter": "python",
   "pygments_lexer": "ipython3",
   "version": "3.12.3"
  }
 },
 "nbformat": 4,
 "nbformat_minor": 2
}
