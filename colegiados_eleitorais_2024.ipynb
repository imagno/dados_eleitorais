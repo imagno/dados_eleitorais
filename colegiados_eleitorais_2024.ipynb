{
 "cells": [
  {
   "cell_type": "markdown",
   "id": "d5b5e775",
   "metadata": {},
   "source": [
    "- Importando módulos"
   ]
  },
  {
   "cell_type": "code",
   "execution_count": 1,
   "id": "bcc4557b",
   "metadata": {},
   "outputs": [],
   "source": [
    "import pandas as pd\n"
   ]
  },
  {
   "cell_type": "markdown",
   "id": "3277b8a7",
   "metadata": {},
   "source": [
    "- Carregando dados escolares"
   ]
  },
  {
   "cell_type": "code",
   "execution_count": 38,
   "id": "e0bcef25",
   "metadata": {},
   "outputs": [
    {
     "data": {
      "application/vnd.microsoft.datawrangler.viewer.v0+json": {
       "columns": [
        {
         "name": "index",
         "rawType": "int64",
         "type": "integer"
        },
        {
         "name": "Restrição de Atendimento",
         "rawType": "object",
         "type": "string"
        },
        {
         "name": "Escola",
         "rawType": "object",
         "type": "string"
        },
        {
         "name": "Código INEP",
         "rawType": "int64",
         "type": "integer"
        },
        {
         "name": "UF",
         "rawType": "object",
         "type": "string"
        },
        {
         "name": "Município",
         "rawType": "object",
         "type": "string"
        },
        {
         "name": "Localização",
         "rawType": "object",
         "type": "string"
        },
        {
         "name": "Localidade Diferenciada",
         "rawType": "object",
         "type": "string"
        },
        {
         "name": "Categoria Administrativa",
         "rawType": "object",
         "type": "string"
        },
        {
         "name": "Endereço",
         "rawType": "object",
         "type": "string"
        },
        {
         "name": "Telefone",
         "rawType": "object",
         "type": "unknown"
        },
        {
         "name": "Dependência Administrativa",
         "rawType": "object",
         "type": "string"
        },
        {
         "name": "Categoria Escola Privada",
         "rawType": "object",
         "type": "string"
        },
        {
         "name": "Conveniada Poder Público",
         "rawType": "object",
         "type": "string"
        },
        {
         "name": "Regulamentação pelo Conselho de Educação",
         "rawType": "object",
         "type": "string"
        },
        {
         "name": "Porte da Escola",
         "rawType": "object",
         "type": "string"
        },
        {
         "name": "Etapas e Modalidade de Ensino Oferecidas",
         "rawType": "object",
         "type": "string"
        },
        {
         "name": "Outras Ofertas Educacionais",
         "rawType": "object",
         "type": "unknown"
        },
        {
         "name": "Latitude",
         "rawType": "object",
         "type": "string"
        },
        {
         "name": "Longitude",
         "rawType": "object",
         "type": "string"
        }
       ],
       "ref": "aeeddce7-b9c7-4548-8f34-a0a6e432ff80",
       "rows": [
        [
         "0",
         "ESCOLA EM FUNCIONAMENTO E SEM RESTRIÇÃO DE ATENDIMENTO",
         "CENTRO MUNICIPAL DE EDUCACAO INFANTIL NOSSA SENHORA DA LUZ",
         "29200954",
         "BA",
         "Simões Filho",
         "Urbana",
         "A escola não está em área de localização diferenciada",
         "Pública",
         "RUA OTAVIO MANGABEIRA, 139 PITANGUINHA. 43700-000 Simões Filho - BA.",
         null,
         "Municipal",
         "Não Informado",
         "Não",
         "Sim",
         "Entre 51 e 200 matrículas de escolarização",
         "Educação Infantil",
         null,
         "-12.812723",
         "-38.3845743"
        ],
        [
         "1",
         "ESCOLA EM FUNCIONAMENTO E SEM RESTRIÇÃO DE ATENDIMENTO",
         "ESCOLA MUNICIPAL CRISTO REI",
         "29200962",
         "BA",
         "Simões Filho",
         "Urbana",
         "A escola não está em área de localização diferenciada",
         "Pública",
         "RUA ALMIRANTE BARROSO, SN CRISTO REI. 43700-000 Simões Filho - BA.",
         null,
         "Municipal",
         "Não Informado",
         "Não",
         "Sim",
         "Entre 201 e 500 matrículas de escolarização",
         "Ensino Fundamental",
         "Atendimento Educacional Especializado",
         "-12.7764277",
         "-38.3972706"
        ],
        [
         "2",
         "ESCOLA EM FUNCIONAMENTO E SEM RESTRIÇÃO DE ATENDIMENTO",
         "ESCOLA MUNICIPAL NOSSA ESPERANCA",
         "29200970",
         "BA",
         "Simões Filho",
         "Rural",
         "Área remanescente de quilombos",
         "Pública",
         "RUA NOSSA ESPERANCA, SN P. DE PALMARES. 43700-000 Simões Filho - BA.",
         null,
         "Municipal",
         "Não Informado",
         "Não",
         "Sim",
         "Entre 201 e 500 matrículas de escolarização",
         "Ensino Fundamental, Educação de Jovens Adultos",
         "Atendimento Educacional Especializado",
         "                              ",
         "                              "
        ],
        [
         "3",
         "ESCOLA EM FUNCIONAMENTO E SEM RESTRIÇÃO DE ATENDIMENTO",
         "ESCOLA MUNICIPAL NOSSA IRMA DULCE",
         "29200989",
         "BA",
         "Simões Filho",
         "Rural",
         "A escola não está em área de localização diferenciada",
         "Pública",
         "BA 093,FAZENDA SANTA ROSA, 0 P. DE PALMARES. 43700-000 Simões Filho - BA.",
         null,
         "Municipal",
         "Não Informado",
         "Não",
         "Sim",
         "Entre 51 e 200 matrículas de escolarização",
         "Ensino Fundamental",
         null,
         "                              ",
         "                              "
        ],
        [
         "4",
         "ESCOLA EM FUNCIONAMENTO E SEM RESTRIÇÃO DE ATENDIMENTO",
         "ESCOLA MUNICIPAL PROF JOSELITA PEREIRA LEAL",
         "29201012",
         "BA",
         "Simões Filho",
         "Urbana",
         "A escola não está em área de localização diferenciada",
         "Pública",
         "AVENIDA RUI BARBOSA, SN CENTRO. 43700-000 Simões Filho - BA.",
         null,
         "Municipal",
         "Não Informado",
         "Não",
         "Sim",
         "Entre 501 e 1000 matrículas de escolarização",
         "Ensino Fundamental, Educação de Jovens Adultos",
         "Atendimento Educacional Especializado",
         "-12.787898",
         "-38.3968867"
        ]
       ],
       "shape": {
        "columns": 19,
        "rows": 5
       }
      },
      "text/html": [
       "<div>\n",
       "<style scoped>\n",
       "    .dataframe tbody tr th:only-of-type {\n",
       "        vertical-align: middle;\n",
       "    }\n",
       "\n",
       "    .dataframe tbody tr th {\n",
       "        vertical-align: top;\n",
       "    }\n",
       "\n",
       "    .dataframe thead th {\n",
       "        text-align: right;\n",
       "    }\n",
       "</style>\n",
       "<table border=\"1\" class=\"dataframe\">\n",
       "  <thead>\n",
       "    <tr style=\"text-align: right;\">\n",
       "      <th></th>\n",
       "      <th>Restrição de Atendimento</th>\n",
       "      <th>Escola</th>\n",
       "      <th>Código INEP</th>\n",
       "      <th>UF</th>\n",
       "      <th>Município</th>\n",
       "      <th>Localização</th>\n",
       "      <th>Localidade Diferenciada</th>\n",
       "      <th>Categoria Administrativa</th>\n",
       "      <th>Endereço</th>\n",
       "      <th>Telefone</th>\n",
       "      <th>Dependência Administrativa</th>\n",
       "      <th>Categoria Escola Privada</th>\n",
       "      <th>Conveniada Poder Público</th>\n",
       "      <th>Regulamentação pelo Conselho de Educação</th>\n",
       "      <th>Porte da Escola</th>\n",
       "      <th>Etapas e Modalidade de Ensino Oferecidas</th>\n",
       "      <th>Outras Ofertas Educacionais</th>\n",
       "      <th>Latitude</th>\n",
       "      <th>Longitude</th>\n",
       "    </tr>\n",
       "  </thead>\n",
       "  <tbody>\n",
       "    <tr>\n",
       "      <th>0</th>\n",
       "      <td>ESCOLA EM FUNCIONAMENTO E SEM RESTRIÇÃO DE ATE...</td>\n",
       "      <td>CENTRO MUNICIPAL DE EDUCACAO INFANTIL NOSSA SE...</td>\n",
       "      <td>29200954</td>\n",
       "      <td>BA</td>\n",
       "      <td>Simões Filho</td>\n",
       "      <td>Urbana</td>\n",
       "      <td>A escola não está em área de localização difer...</td>\n",
       "      <td>Pública</td>\n",
       "      <td>RUA OTAVIO MANGABEIRA, 139 PITANGUINHA. 43700-...</td>\n",
       "      <td>NaN</td>\n",
       "      <td>Municipal</td>\n",
       "      <td>Não Informado</td>\n",
       "      <td>Não</td>\n",
       "      <td>Sim</td>\n",
       "      <td>Entre 51 e 200 matrículas de escolarização</td>\n",
       "      <td>Educação Infantil</td>\n",
       "      <td>NaN</td>\n",
       "      <td>-12.812723</td>\n",
       "      <td>-38.3845743</td>\n",
       "    </tr>\n",
       "    <tr>\n",
       "      <th>1</th>\n",
       "      <td>ESCOLA EM FUNCIONAMENTO E SEM RESTRIÇÃO DE ATE...</td>\n",
       "      <td>ESCOLA MUNICIPAL CRISTO REI</td>\n",
       "      <td>29200962</td>\n",
       "      <td>BA</td>\n",
       "      <td>Simões Filho</td>\n",
       "      <td>Urbana</td>\n",
       "      <td>A escola não está em área de localização difer...</td>\n",
       "      <td>Pública</td>\n",
       "      <td>RUA ALMIRANTE BARROSO, SN CRISTO REI. 43700-00...</td>\n",
       "      <td>NaN</td>\n",
       "      <td>Municipal</td>\n",
       "      <td>Não Informado</td>\n",
       "      <td>Não</td>\n",
       "      <td>Sim</td>\n",
       "      <td>Entre 201 e 500 matrículas de escolarização</td>\n",
       "      <td>Ensino Fundamental</td>\n",
       "      <td>Atendimento Educacional Especializado</td>\n",
       "      <td>-12.7764277</td>\n",
       "      <td>-38.3972706</td>\n",
       "    </tr>\n",
       "    <tr>\n",
       "      <th>2</th>\n",
       "      <td>ESCOLA EM FUNCIONAMENTO E SEM RESTRIÇÃO DE ATE...</td>\n",
       "      <td>ESCOLA MUNICIPAL NOSSA ESPERANCA</td>\n",
       "      <td>29200970</td>\n",
       "      <td>BA</td>\n",
       "      <td>Simões Filho</td>\n",
       "      <td>Rural</td>\n",
       "      <td>Área remanescente de quilombos</td>\n",
       "      <td>Pública</td>\n",
       "      <td>RUA NOSSA ESPERANCA, SN P. DE PALMARES. 43700-...</td>\n",
       "      <td>NaN</td>\n",
       "      <td>Municipal</td>\n",
       "      <td>Não Informado</td>\n",
       "      <td>Não</td>\n",
       "      <td>Sim</td>\n",
       "      <td>Entre 201 e 500 matrículas de escolarização</td>\n",
       "      <td>Ensino Fundamental, Educação de Jovens Adultos</td>\n",
       "      <td>Atendimento Educacional Especializado</td>\n",
       "      <td></td>\n",
       "      <td></td>\n",
       "    </tr>\n",
       "    <tr>\n",
       "      <th>3</th>\n",
       "      <td>ESCOLA EM FUNCIONAMENTO E SEM RESTRIÇÃO DE ATE...</td>\n",
       "      <td>ESCOLA MUNICIPAL NOSSA IRMA DULCE</td>\n",
       "      <td>29200989</td>\n",
       "      <td>BA</td>\n",
       "      <td>Simões Filho</td>\n",
       "      <td>Rural</td>\n",
       "      <td>A escola não está em área de localização difer...</td>\n",
       "      <td>Pública</td>\n",
       "      <td>BA 093,FAZENDA SANTA ROSA, 0 P. DE PALMARES. 4...</td>\n",
       "      <td>NaN</td>\n",
       "      <td>Municipal</td>\n",
       "      <td>Não Informado</td>\n",
       "      <td>Não</td>\n",
       "      <td>Sim</td>\n",
       "      <td>Entre 51 e 200 matrículas de escolarização</td>\n",
       "      <td>Ensino Fundamental</td>\n",
       "      <td>NaN</td>\n",
       "      <td></td>\n",
       "      <td></td>\n",
       "    </tr>\n",
       "    <tr>\n",
       "      <th>4</th>\n",
       "      <td>ESCOLA EM FUNCIONAMENTO E SEM RESTRIÇÃO DE ATE...</td>\n",
       "      <td>ESCOLA MUNICIPAL PROF JOSELITA PEREIRA LEAL</td>\n",
       "      <td>29201012</td>\n",
       "      <td>BA</td>\n",
       "      <td>Simões Filho</td>\n",
       "      <td>Urbana</td>\n",
       "      <td>A escola não está em área de localização difer...</td>\n",
       "      <td>Pública</td>\n",
       "      <td>AVENIDA RUI BARBOSA, SN CENTRO. 43700-000 Simõ...</td>\n",
       "      <td>NaN</td>\n",
       "      <td>Municipal</td>\n",
       "      <td>Não Informado</td>\n",
       "      <td>Não</td>\n",
       "      <td>Sim</td>\n",
       "      <td>Entre 501 e 1000 matrículas de escolarização</td>\n",
       "      <td>Ensino Fundamental, Educação de Jovens Adultos</td>\n",
       "      <td>Atendimento Educacional Especializado</td>\n",
       "      <td>-12.787898</td>\n",
       "      <td>-38.3968867</td>\n",
       "    </tr>\n",
       "  </tbody>\n",
       "</table>\n",
       "</div>"
      ],
      "text/plain": [
       "                            Restrição de Atendimento  \\\n",
       "0  ESCOLA EM FUNCIONAMENTO E SEM RESTRIÇÃO DE ATE...   \n",
       "1  ESCOLA EM FUNCIONAMENTO E SEM RESTRIÇÃO DE ATE...   \n",
       "2  ESCOLA EM FUNCIONAMENTO E SEM RESTRIÇÃO DE ATE...   \n",
       "3  ESCOLA EM FUNCIONAMENTO E SEM RESTRIÇÃO DE ATE...   \n",
       "4  ESCOLA EM FUNCIONAMENTO E SEM RESTRIÇÃO DE ATE...   \n",
       "\n",
       "                                              Escola  Código INEP  UF  \\\n",
       "0  CENTRO MUNICIPAL DE EDUCACAO INFANTIL NOSSA SE...     29200954  BA   \n",
       "1                        ESCOLA MUNICIPAL CRISTO REI     29200962  BA   \n",
       "2                   ESCOLA MUNICIPAL NOSSA ESPERANCA     29200970  BA   \n",
       "3                  ESCOLA MUNICIPAL NOSSA IRMA DULCE     29200989  BA   \n",
       "4        ESCOLA MUNICIPAL PROF JOSELITA PEREIRA LEAL     29201012  BA   \n",
       "\n",
       "      Município Localização  \\\n",
       "0  Simões Filho      Urbana   \n",
       "1  Simões Filho      Urbana   \n",
       "2  Simões Filho       Rural   \n",
       "3  Simões Filho       Rural   \n",
       "4  Simões Filho      Urbana   \n",
       "\n",
       "                             Localidade Diferenciada Categoria Administrativa  \\\n",
       "0  A escola não está em área de localização difer...                  Pública   \n",
       "1  A escola não está em área de localização difer...                  Pública   \n",
       "2                     Área remanescente de quilombos                  Pública   \n",
       "3  A escola não está em área de localização difer...                  Pública   \n",
       "4  A escola não está em área de localização difer...                  Pública   \n",
       "\n",
       "                                            Endereço Telefone  \\\n",
       "0  RUA OTAVIO MANGABEIRA, 139 PITANGUINHA. 43700-...      NaN   \n",
       "1  RUA ALMIRANTE BARROSO, SN CRISTO REI. 43700-00...      NaN   \n",
       "2  RUA NOSSA ESPERANCA, SN P. DE PALMARES. 43700-...      NaN   \n",
       "3  BA 093,FAZENDA SANTA ROSA, 0 P. DE PALMARES. 4...      NaN   \n",
       "4  AVENIDA RUI BARBOSA, SN CENTRO. 43700-000 Simõ...      NaN   \n",
       "\n",
       "  Dependência Administrativa Categoria Escola Privada  \\\n",
       "0                  Municipal            Não Informado   \n",
       "1                  Municipal            Não Informado   \n",
       "2                  Municipal            Não Informado   \n",
       "3                  Municipal            Não Informado   \n",
       "4                  Municipal            Não Informado   \n",
       "\n",
       "  Conveniada Poder Público Regulamentação pelo Conselho de Educação  \\\n",
       "0                      Não                                      Sim   \n",
       "1                      Não                                      Sim   \n",
       "2                      Não                                      Sim   \n",
       "3                      Não                                      Sim   \n",
       "4                      Não                                      Sim   \n",
       "\n",
       "                                Porte da Escola  \\\n",
       "0    Entre 51 e 200 matrículas de escolarização   \n",
       "1   Entre 201 e 500 matrículas de escolarização   \n",
       "2   Entre 201 e 500 matrículas de escolarização   \n",
       "3    Entre 51 e 200 matrículas de escolarização   \n",
       "4  Entre 501 e 1000 matrículas de escolarização   \n",
       "\n",
       "         Etapas e Modalidade de Ensino Oferecidas  \\\n",
       "0                               Educação Infantil   \n",
       "1                              Ensino Fundamental   \n",
       "2  Ensino Fundamental, Educação de Jovens Adultos   \n",
       "3                              Ensino Fundamental   \n",
       "4  Ensino Fundamental, Educação de Jovens Adultos   \n",
       "\n",
       "             Outras Ofertas Educacionais                        Latitude  \\\n",
       "0                                    NaN                      -12.812723   \n",
       "1  Atendimento Educacional Especializado                     -12.7764277   \n",
       "2  Atendimento Educacional Especializado                                   \n",
       "3                                    NaN                                   \n",
       "4  Atendimento Educacional Especializado                      -12.787898   \n",
       "\n",
       "                        Longitude  \n",
       "0                     -38.3845743  \n",
       "1                     -38.3972706  \n",
       "2                                  \n",
       "3                                  \n",
       "4                     -38.3968867  "
      ]
     },
     "execution_count": 38,
     "metadata": {},
     "output_type": "execute_result"
    }
   ],
   "source": [
    "df_colegiados = pd.read_csv('dados/Análise - Tabela da lista das escolas - Detalhado.csv', sep=',', encoding='utf-8')\n",
    "\n",
    "df_colegiados.head()"
   ]
  },
  {
   "cell_type": "markdown",
   "id": "b988a35d",
   "metadata": {},
   "source": [
    "- Selecionando endereços"
   ]
  },
  {
   "cell_type": "code",
   "execution_count": null,
   "id": "a22fdf4f",
   "metadata": {},
   "outputs": [],
   "source": [
    "enderecos = df_colegiados['Endereço']\n",
    "\n",
    "print(enderecos)"
   ]
  },
  {
   "cell_type": "markdown",
   "id": "412bdc1a",
   "metadata": {},
   "source": [
    "- Serapando os Bairros em endereços"
   ]
  },
  {
   "cell_type": "code",
   "execution_count": null,
   "id": "181d2ad0",
   "metadata": {},
   "outputs": [],
   "source": [
    "#falta separar o CEP de cada rua\n",
    "\n",
    "rua_bairro = []\n",
    "\n",
    "for endereco in enderecos:\n",
    "    # captura a segunda parte após a vírgula\n",
    "    bairro = endereco.split(',', 2)[1]\n",
    "    # isola a primeira parte da string\n",
    "    rua = endereco.split(',')[0]\n",
    "    # substitui abreviações e separa criando uma lista\n",
    "    bairro = bairro.replace('P.', 'PINTANGA').split('.')[:1]\n",
    "    bairro = bairro[0].split(' ')\n",
    "    # divide em palavras e junta a partir da terceira palavra\n",
    "    bairro = ' '.join(bairro[2:]) if len(bairro) > 2 else ' '.join(bairro)\n",
    "\n",
    "    # concatena rua e bairro\n",
    "    uniao_rua_bairro = rua.strip() + ';' + bairro.strip()\n",
    "    rua_bairro.append(uniao_rua_bairro)\n",
    "\n",
    "print(rua_bairro)"
   ]
  },
  {
   "cell_type": "markdown",
   "id": "f825a8c4",
   "metadata": {},
   "source": [
    "- Convertendo a lista **rua_bairro** para **csv**"
   ]
  },
  {
   "cell_type": "code",
   "execution_count": 90,
   "id": "f42fc932",
   "metadata": {},
   "outputs": [],
   "source": [
    "df_rua_bairro = pd.DataFrame(rua_bairro, columns=['RUA;BAIRRO'])\n",
    "df_rua_bairro.columns = ['RUA;BAIRRO']\n",
    "\n",
    "df_rua_bairro.to_csv('dados/rua_bairro.csv', sep=';', index=False, encoding='utf-8')"
   ]
  }
 ],
 "metadata": {
  "kernelspec": {
   "display_name": ".venv",
   "language": "python",
   "name": "python3"
  },
  "language_info": {
   "codemirror_mode": {
    "name": "ipython",
    "version": 3
   },
   "file_extension": ".py",
   "mimetype": "text/x-python",
   "name": "python",
   "nbconvert_exporter": "python",
   "pygments_lexer": "ipython3",
   "version": "3.12.3"
  }
 },
 "nbformat": 4,
 "nbformat_minor": 5
}
