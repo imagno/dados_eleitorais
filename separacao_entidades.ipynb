{
 "cells": [
  {
   "cell_type": "code",
   "execution_count": 32,
   "id": "af74aa46",
   "metadata": {},
   "outputs": [],
   "source": [
    "import os\n",
    "import pandas as pd\n",
    "import uuid"
   ]
  },
  {
   "cell_type": "markdown",
   "id": "eea5155b",
   "metadata": {},
   "source": [
    "- importando dados de votação por seção em Simões Filho"
   ]
  },
  {
   "cell_type": "code",
   "execution_count": 33,
   "id": "378ad314",
   "metadata": {},
   "outputs": [
    {
     "data": {
      "application/vnd.microsoft.datawrangler.viewer.v0+json": {
       "columns": [
        {
         "name": "index",
         "rawType": "int64",
         "type": "integer"
        },
        {
         "name": "DS_CARGO",
         "rawType": "object",
         "type": "string"
        },
        {
         "name": "ANO_ELEICAO",
         "rawType": "int64",
         "type": "integer"
        },
        {
         "name": "NR_VOTAVEL",
         "rawType": "int64",
         "type": "integer"
        },
        {
         "name": "NM_CANDIDATURA",
         "rawType": "object",
         "type": "string"
        },
        {
         "name": "NM_VOTAVEL",
         "rawType": "object",
         "type": "string"
        },
        {
         "name": "NR_SECAO",
         "rawType": "int64",
         "type": "integer"
        },
        {
         "name": "QT_VOTOS",
         "rawType": "int64",
         "type": "integer"
        },
        {
         "name": "SQ_CANDIDATO",
         "rawType": "int64",
         "type": "integer"
        },
        {
         "name": "NM_LOCAL_VOTACAO",
         "rawType": "object",
         "type": "string"
        },
        {
         "name": "DS_LOCAL_VOTACAO_ENDERECO",
         "rawType": "object",
         "type": "string"
        }
       ],
       "ref": "a4a00e60-9c5f-468e-a31d-ca8225b65711",
       "rows": [
        [
         "0",
         "Vereador",
         "2024",
         "20000",
         "ANDERSON BORBA",
         "ANDERSON BORBA SILVA",
         "52",
         "1",
         "50001978043",
         "ESCOLA BERLINDO MAMEDE",
         "RUA LOMANTO JUNIOR 71 - ZONA URBANA"
        ],
        [
         "1",
         "Vereador",
         "2024",
         "11014",
         "LUCIA DO SOCIAL",
         "MARIA LUCIA FERREIRA DOS REIS",
         "52",
         "3",
         "50002240498",
         "ESCOLA BERLINDO MAMEDE",
         "RUA LOMANTO JUNIOR 71 - ZONA URBANA"
        ],
        [
         "2",
         "Vereador",
         "2024",
         "11999",
         "CLAUDIO BARBEIRO",
         "CLAUDIO OLIVEIRA DOS SANTOS",
         "71",
         "2",
         "50002240496",
         "ESCOLA POLIVALENTE DE ARATU",
         "AV ELMO SEREJO FARIAS S/N - ZONA URBANA"
        ],
        [
         "3",
         "Vereador",
         "2024",
         "55777",
         "GABRIEL DE RITA",
         "GABRIEL SOUZA DA SILVA",
         "153",
         "3",
         "50002060219",
         "ESCOLA MUNICIPAL MARIA QUITÉRIA",
         "RUA ALMIRANTE BARROSO S/N - ZONA URBANA"
        ],
        [
         "4",
         "Vereador",
         "2024",
         "55777",
         "GABRIEL DE RITA",
         "GABRIEL SOUZA DA SILVA",
         "201",
         "1",
         "50002060219",
         "ESCOLA MUNICIPAL SETE DE NOVEMBRO",
         "AV. JOÃO XXIII, S/Nº - ZONA URBANA"
        ],
        [
         "5",
         "Vereador",
         "2024",
         "55777",
         "GABRIEL DE RITA",
         "GABRIEL SOUZA DA SILVA",
         "44",
         "1",
         "50002060219",
         "COLÉGIO MUNICIPAL PADRE LUIZ PALMEIRA",
         "PRAÇA 07 DE NOVEMBRO, S/N - ZONA URBANA"
        ],
        [
         "6",
         "Vereador",
         "2024",
         "55777",
         "GABRIEL DE RITA",
         "GABRIEL SOUZA DA SILVA",
         "145",
         "1",
         "50002060219",
         "ESCOLA LUIZ VIANA FILHO",
         "RUA VISCONDE DE MAUÁ, 316 - ZONA RURAL"
        ],
        [
         "7",
         "Vereador",
         "2024",
         "55777",
         "GABRIEL DE RITA",
         "GABRIEL SOUZA DA SILVA",
         "165",
         "2",
         "50002060219",
         "ESCOLA MUNICIPAL UNIÃO DA BAHIA",
         "RUA R, QUADRA 16, S/N - ZONA URBANA"
        ],
        [
         "8",
         "Vereador",
         "2024",
         "10255",
         "LUCIENE DO POVO",
         "LUCIENE REIS DE OLIVEIRA",
         "179",
         "1",
         "50001978079",
         "ESCOLA DIÁCONO FERNANDO DE BRITO",
         "AV ELMO SEREJO FARIAS S/N - ZONA URBANA"
        ],
        [
         "9",
         "Vereador",
         "2024",
         "45000",
         "ITUS RAMOS",
         "UILTON RAMOS DE ALENCAR",
         "132",
         "1",
         "50001946948",
         "ESCOLA HILDÉRICO PINHEIRO",
         "RUA DIREITA DE SANTO ANTONIO DO RIO DAS PEDRAS, S/N - ZONA RURAL"
        ]
       ],
       "shape": {
        "columns": 10,
        "rows": 10
       }
      },
      "text/html": [
       "<div>\n",
       "<style scoped>\n",
       "    .dataframe tbody tr th:only-of-type {\n",
       "        vertical-align: middle;\n",
       "    }\n",
       "\n",
       "    .dataframe tbody tr th {\n",
       "        vertical-align: top;\n",
       "    }\n",
       "\n",
       "    .dataframe thead th {\n",
       "        text-align: right;\n",
       "    }\n",
       "</style>\n",
       "<table border=\"1\" class=\"dataframe\">\n",
       "  <thead>\n",
       "    <tr style=\"text-align: right;\">\n",
       "      <th></th>\n",
       "      <th>DS_CARGO</th>\n",
       "      <th>ANO_ELEICAO</th>\n",
       "      <th>NR_VOTAVEL</th>\n",
       "      <th>NM_CANDIDATURA</th>\n",
       "      <th>NM_VOTAVEL</th>\n",
       "      <th>NR_SECAO</th>\n",
       "      <th>QT_VOTOS</th>\n",
       "      <th>SQ_CANDIDATO</th>\n",
       "      <th>NM_LOCAL_VOTACAO</th>\n",
       "      <th>DS_LOCAL_VOTACAO_ENDERECO</th>\n",
       "    </tr>\n",
       "  </thead>\n",
       "  <tbody>\n",
       "    <tr>\n",
       "      <th>0</th>\n",
       "      <td>Vereador</td>\n",
       "      <td>2024</td>\n",
       "      <td>20000</td>\n",
       "      <td>ANDERSON BORBA</td>\n",
       "      <td>ANDERSON BORBA SILVA</td>\n",
       "      <td>52</td>\n",
       "      <td>1</td>\n",
       "      <td>50001978043</td>\n",
       "      <td>ESCOLA BERLINDO MAMEDE</td>\n",
       "      <td>RUA LOMANTO JUNIOR 71 - ZONA URBANA</td>\n",
       "    </tr>\n",
       "    <tr>\n",
       "      <th>1</th>\n",
       "      <td>Vereador</td>\n",
       "      <td>2024</td>\n",
       "      <td>11014</td>\n",
       "      <td>LUCIA DO SOCIAL</td>\n",
       "      <td>MARIA LUCIA FERREIRA DOS REIS</td>\n",
       "      <td>52</td>\n",
       "      <td>3</td>\n",
       "      <td>50002240498</td>\n",
       "      <td>ESCOLA BERLINDO MAMEDE</td>\n",
       "      <td>RUA LOMANTO JUNIOR 71 - ZONA URBANA</td>\n",
       "    </tr>\n",
       "    <tr>\n",
       "      <th>2</th>\n",
       "      <td>Vereador</td>\n",
       "      <td>2024</td>\n",
       "      <td>11999</td>\n",
       "      <td>CLAUDIO BARBEIRO</td>\n",
       "      <td>CLAUDIO OLIVEIRA DOS SANTOS</td>\n",
       "      <td>71</td>\n",
       "      <td>2</td>\n",
       "      <td>50002240496</td>\n",
       "      <td>ESCOLA POLIVALENTE DE ARATU</td>\n",
       "      <td>AV ELMO SEREJO FARIAS S/N - ZONA URBANA</td>\n",
       "    </tr>\n",
       "    <tr>\n",
       "      <th>3</th>\n",
       "      <td>Vereador</td>\n",
       "      <td>2024</td>\n",
       "      <td>55777</td>\n",
       "      <td>GABRIEL DE RITA</td>\n",
       "      <td>GABRIEL SOUZA DA SILVA</td>\n",
       "      <td>153</td>\n",
       "      <td>3</td>\n",
       "      <td>50002060219</td>\n",
       "      <td>ESCOLA MUNICIPAL MARIA QUITÉRIA</td>\n",
       "      <td>RUA ALMIRANTE BARROSO S/N - ZONA URBANA</td>\n",
       "    </tr>\n",
       "    <tr>\n",
       "      <th>4</th>\n",
       "      <td>Vereador</td>\n",
       "      <td>2024</td>\n",
       "      <td>55777</td>\n",
       "      <td>GABRIEL DE RITA</td>\n",
       "      <td>GABRIEL SOUZA DA SILVA</td>\n",
       "      <td>201</td>\n",
       "      <td>1</td>\n",
       "      <td>50002060219</td>\n",
       "      <td>ESCOLA MUNICIPAL SETE DE NOVEMBRO</td>\n",
       "      <td>AV. JOÃO XXIII, S/Nº - ZONA URBANA</td>\n",
       "    </tr>\n",
       "    <tr>\n",
       "      <th>5</th>\n",
       "      <td>Vereador</td>\n",
       "      <td>2024</td>\n",
       "      <td>55777</td>\n",
       "      <td>GABRIEL DE RITA</td>\n",
       "      <td>GABRIEL SOUZA DA SILVA</td>\n",
       "      <td>44</td>\n",
       "      <td>1</td>\n",
       "      <td>50002060219</td>\n",
       "      <td>COLÉGIO MUNICIPAL PADRE LUIZ PALMEIRA</td>\n",
       "      <td>PRAÇA 07 DE NOVEMBRO, S/N - ZONA URBANA</td>\n",
       "    </tr>\n",
       "    <tr>\n",
       "      <th>6</th>\n",
       "      <td>Vereador</td>\n",
       "      <td>2024</td>\n",
       "      <td>55777</td>\n",
       "      <td>GABRIEL DE RITA</td>\n",
       "      <td>GABRIEL SOUZA DA SILVA</td>\n",
       "      <td>145</td>\n",
       "      <td>1</td>\n",
       "      <td>50002060219</td>\n",
       "      <td>ESCOLA LUIZ VIANA FILHO</td>\n",
       "      <td>RUA VISCONDE DE MAUÁ, 316 - ZONA RURAL</td>\n",
       "    </tr>\n",
       "    <tr>\n",
       "      <th>7</th>\n",
       "      <td>Vereador</td>\n",
       "      <td>2024</td>\n",
       "      <td>55777</td>\n",
       "      <td>GABRIEL DE RITA</td>\n",
       "      <td>GABRIEL SOUZA DA SILVA</td>\n",
       "      <td>165</td>\n",
       "      <td>2</td>\n",
       "      <td>50002060219</td>\n",
       "      <td>ESCOLA MUNICIPAL UNIÃO DA BAHIA</td>\n",
       "      <td>RUA R, QUADRA 16, S/N - ZONA URBANA</td>\n",
       "    </tr>\n",
       "    <tr>\n",
       "      <th>8</th>\n",
       "      <td>Vereador</td>\n",
       "      <td>2024</td>\n",
       "      <td>10255</td>\n",
       "      <td>LUCIENE DO POVO</td>\n",
       "      <td>LUCIENE REIS DE OLIVEIRA</td>\n",
       "      <td>179</td>\n",
       "      <td>1</td>\n",
       "      <td>50001978079</td>\n",
       "      <td>ESCOLA DIÁCONO FERNANDO DE BRITO</td>\n",
       "      <td>AV ELMO SEREJO FARIAS S/N - ZONA URBANA</td>\n",
       "    </tr>\n",
       "    <tr>\n",
       "      <th>9</th>\n",
       "      <td>Vereador</td>\n",
       "      <td>2024</td>\n",
       "      <td>45000</td>\n",
       "      <td>ITUS RAMOS</td>\n",
       "      <td>UILTON RAMOS DE ALENCAR</td>\n",
       "      <td>132</td>\n",
       "      <td>1</td>\n",
       "      <td>50001946948</td>\n",
       "      <td>ESCOLA HILDÉRICO PINHEIRO</td>\n",
       "      <td>RUA DIREITA DE SANTO ANTONIO DO RIO DAS PEDRAS...</td>\n",
       "    </tr>\n",
       "  </tbody>\n",
       "</table>\n",
       "</div>"
      ],
      "text/plain": [
       "   DS_CARGO  ANO_ELEICAO  NR_VOTAVEL    NM_CANDIDATURA  \\\n",
       "0  Vereador         2024       20000    ANDERSON BORBA   \n",
       "1  Vereador         2024       11014   LUCIA DO SOCIAL   \n",
       "2  Vereador         2024       11999  CLAUDIO BARBEIRO   \n",
       "3  Vereador         2024       55777   GABRIEL DE RITA   \n",
       "4  Vereador         2024       55777   GABRIEL DE RITA   \n",
       "5  Vereador         2024       55777   GABRIEL DE RITA   \n",
       "6  Vereador         2024       55777   GABRIEL DE RITA   \n",
       "7  Vereador         2024       55777   GABRIEL DE RITA   \n",
       "8  Vereador         2024       10255   LUCIENE DO POVO   \n",
       "9  Vereador         2024       45000        ITUS RAMOS   \n",
       "\n",
       "                      NM_VOTAVEL  NR_SECAO  QT_VOTOS  SQ_CANDIDATO  \\\n",
       "0           ANDERSON BORBA SILVA        52         1   50001978043   \n",
       "1  MARIA LUCIA FERREIRA DOS REIS        52         3   50002240498   \n",
       "2    CLAUDIO OLIVEIRA DOS SANTOS        71         2   50002240496   \n",
       "3         GABRIEL SOUZA DA SILVA       153         3   50002060219   \n",
       "4         GABRIEL SOUZA DA SILVA       201         1   50002060219   \n",
       "5         GABRIEL SOUZA DA SILVA        44         1   50002060219   \n",
       "6         GABRIEL SOUZA DA SILVA       145         1   50002060219   \n",
       "7         GABRIEL SOUZA DA SILVA       165         2   50002060219   \n",
       "8       LUCIENE REIS DE OLIVEIRA       179         1   50001978079   \n",
       "9        UILTON RAMOS DE ALENCAR       132         1   50001946948   \n",
       "\n",
       "                        NM_LOCAL_VOTACAO  \\\n",
       "0                 ESCOLA BERLINDO MAMEDE   \n",
       "1                 ESCOLA BERLINDO MAMEDE   \n",
       "2            ESCOLA POLIVALENTE DE ARATU   \n",
       "3        ESCOLA MUNICIPAL MARIA QUITÉRIA   \n",
       "4      ESCOLA MUNICIPAL SETE DE NOVEMBRO   \n",
       "5  COLÉGIO MUNICIPAL PADRE LUIZ PALMEIRA   \n",
       "6                ESCOLA LUIZ VIANA FILHO   \n",
       "7        ESCOLA MUNICIPAL UNIÃO DA BAHIA   \n",
       "8       ESCOLA DIÁCONO FERNANDO DE BRITO   \n",
       "9              ESCOLA HILDÉRICO PINHEIRO   \n",
       "\n",
       "                           DS_LOCAL_VOTACAO_ENDERECO  \n",
       "0                RUA LOMANTO JUNIOR 71 - ZONA URBANA  \n",
       "1                RUA LOMANTO JUNIOR 71 - ZONA URBANA  \n",
       "2            AV ELMO SEREJO FARIAS S/N - ZONA URBANA  \n",
       "3            RUA ALMIRANTE BARROSO S/N - ZONA URBANA  \n",
       "4                 AV. JOÃO XXIII, S/Nº - ZONA URBANA  \n",
       "5            PRAÇA 07 DE NOVEMBRO, S/N - ZONA URBANA  \n",
       "6             RUA VISCONDE DE MAUÁ, 316 - ZONA RURAL  \n",
       "7                RUA R, QUADRA 16, S/N - ZONA URBANA  \n",
       "8            AV ELMO SEREJO FARIAS S/N - ZONA URBANA  \n",
       "9  RUA DIREITA DE SANTO ANTONIO DO RIO DAS PEDRAS...  "
      ]
     },
     "execution_count": 33,
     "metadata": {},
     "output_type": "execute_result"
    }
   ],
   "source": [
    "df_eleicoes_2024_sf = pd.read_csv('./dados_tratados/votacao_secao_2024_sf.csv', sep=';', encoding='utf-8')\n",
    "\n",
    "df_eleicoes_2024_sf.head(10)"
   ]
  },
  {
   "cell_type": "markdown",
   "id": "d83aca28",
   "metadata": {},
   "source": [
    "- isolando os registros únicos dos colegiados eleitorais"
   ]
  },
  {
   "cell_type": "code",
   "execution_count": 42,
   "id": "f1e73f00",
   "metadata": {},
   "outputs": [
    {
     "data": {
      "application/vnd.microsoft.datawrangler.viewer.v0+json": {
       "columns": [
        {
         "name": "index",
         "rawType": "object",
         "type": "string"
        },
        {
         "name": "0",
         "rawType": "int64",
         "type": "integer"
        }
       ],
       "ref": "4ec772e4-0c69-4ff4-ab35-f6b97f548ca2",
       "rows": [
        [
         "NM_LOCAL_VOTACAO",
         "157"
        ],
        [
         "DS_LOCAL_VOTACAO_ENDERECO",
         "157"
        ]
       ],
       "shape": {
        "columns": 1,
        "rows": 2
       }
      },
      "text/plain": [
       "NM_LOCAL_VOTACAO             157\n",
       "DS_LOCAL_VOTACAO_ENDERECO    157\n",
       "dtype: int64"
      ]
     },
     "execution_count": 42,
     "metadata": {},
     "output_type": "execute_result"
    }
   ],
   "source": [
    "df_local_votacao = df_eleicoes_2024_sf[['NM_LOCAL_VOTACAO', 'DS_LOCAL_VOTACAO_ENDERECO']].drop_duplicates()\n",
    "df_local_votacao = df_local_votacao.reset_index(drop=True)\n",
    "\n",
    "df_local_votacao.count()"
   ]
  },
  {
   "cell_type": "markdown",
   "id": "0f3d6ad0",
   "metadata": {},
   "source": [
    "- isolando os registros únicos dos candidatos"
   ]
  },
  {
   "cell_type": "code",
   "execution_count": 35,
   "id": "67fe431d",
   "metadata": {},
   "outputs": [
    {
     "data": {
      "application/vnd.microsoft.datawrangler.viewer.v0+json": {
       "columns": [
        {
         "name": "index",
         "rawType": "int64",
         "type": "integer"
        },
        {
         "name": "DS_CARGO",
         "rawType": "object",
         "type": "string"
        },
        {
         "name": "NR_VOTAVEL",
         "rawType": "int64",
         "type": "integer"
        },
        {
         "name": "NM_CANDIDATURA",
         "rawType": "object",
         "type": "string"
        },
        {
         "name": "SQ_CANDIDATO",
         "rawType": "int64",
         "type": "integer"
        },
        {
         "name": "NM_VOTAVEL",
         "rawType": "object",
         "type": "string"
        },
        {
         "name": "ANO_ELEICAO",
         "rawType": "int64",
         "type": "integer"
        }
       ],
       "ref": "e02d9dd3-59a3-4020-ab5e-49ad79dc013d",
       "rows": [
        [
         "0",
         "Vereador",
         "20000",
         "ANDERSON BORBA",
         "50001978043",
         "ANDERSON BORBA SILVA",
         "2024"
        ],
        [
         "1",
         "Vereador",
         "11014",
         "LUCIA DO SOCIAL",
         "50002240498",
         "MARIA LUCIA FERREIRA DOS REIS",
         "2024"
        ],
        [
         "2",
         "Vereador",
         "11999",
         "CLAUDIO BARBEIRO",
         "50002240496",
         "CLAUDIO OLIVEIRA DOS SANTOS",
         "2024"
        ],
        [
         "3",
         "Vereador",
         "55777",
         "GABRIEL DE RITA",
         "50002060219",
         "GABRIEL SOUZA DA SILVA",
         "2024"
        ],
        [
         "4",
         "Vereador",
         "10255",
         "LUCIENE DO POVO",
         "50001978079",
         "LUCIENE REIS DE OLIVEIRA",
         "2024"
        ]
       ],
       "shape": {
        "columns": 6,
        "rows": 5
       }
      },
      "text/html": [
       "<div>\n",
       "<style scoped>\n",
       "    .dataframe tbody tr th:only-of-type {\n",
       "        vertical-align: middle;\n",
       "    }\n",
       "\n",
       "    .dataframe tbody tr th {\n",
       "        vertical-align: top;\n",
       "    }\n",
       "\n",
       "    .dataframe thead th {\n",
       "        text-align: right;\n",
       "    }\n",
       "</style>\n",
       "<table border=\"1\" class=\"dataframe\">\n",
       "  <thead>\n",
       "    <tr style=\"text-align: right;\">\n",
       "      <th></th>\n",
       "      <th>DS_CARGO</th>\n",
       "      <th>NR_VOTAVEL</th>\n",
       "      <th>NM_CANDIDATURA</th>\n",
       "      <th>SQ_CANDIDATO</th>\n",
       "      <th>NM_VOTAVEL</th>\n",
       "      <th>ANO_ELEICAO</th>\n",
       "    </tr>\n",
       "  </thead>\n",
       "  <tbody>\n",
       "    <tr>\n",
       "      <th>0</th>\n",
       "      <td>Vereador</td>\n",
       "      <td>20000</td>\n",
       "      <td>ANDERSON BORBA</td>\n",
       "      <td>50001978043</td>\n",
       "      <td>ANDERSON BORBA SILVA</td>\n",
       "      <td>2024</td>\n",
       "    </tr>\n",
       "    <tr>\n",
       "      <th>1</th>\n",
       "      <td>Vereador</td>\n",
       "      <td>11014</td>\n",
       "      <td>LUCIA DO SOCIAL</td>\n",
       "      <td>50002240498</td>\n",
       "      <td>MARIA LUCIA FERREIRA DOS REIS</td>\n",
       "      <td>2024</td>\n",
       "    </tr>\n",
       "    <tr>\n",
       "      <th>2</th>\n",
       "      <td>Vereador</td>\n",
       "      <td>11999</td>\n",
       "      <td>CLAUDIO BARBEIRO</td>\n",
       "      <td>50002240496</td>\n",
       "      <td>CLAUDIO OLIVEIRA DOS SANTOS</td>\n",
       "      <td>2024</td>\n",
       "    </tr>\n",
       "    <tr>\n",
       "      <th>3</th>\n",
       "      <td>Vereador</td>\n",
       "      <td>55777</td>\n",
       "      <td>GABRIEL DE RITA</td>\n",
       "      <td>50002060219</td>\n",
       "      <td>GABRIEL SOUZA DA SILVA</td>\n",
       "      <td>2024</td>\n",
       "    </tr>\n",
       "    <tr>\n",
       "      <th>4</th>\n",
       "      <td>Vereador</td>\n",
       "      <td>10255</td>\n",
       "      <td>LUCIENE DO POVO</td>\n",
       "      <td>50001978079</td>\n",
       "      <td>LUCIENE REIS DE OLIVEIRA</td>\n",
       "      <td>2024</td>\n",
       "    </tr>\n",
       "  </tbody>\n",
       "</table>\n",
       "</div>"
      ],
      "text/plain": [
       "   DS_CARGO  NR_VOTAVEL    NM_CANDIDATURA  SQ_CANDIDATO  \\\n",
       "0  Vereador       20000    ANDERSON BORBA   50001978043   \n",
       "1  Vereador       11014   LUCIA DO SOCIAL   50002240498   \n",
       "2  Vereador       11999  CLAUDIO BARBEIRO   50002240496   \n",
       "3  Vereador       55777   GABRIEL DE RITA   50002060219   \n",
       "4  Vereador       10255   LUCIENE DO POVO   50001978079   \n",
       "\n",
       "                      NM_VOTAVEL  ANO_ELEICAO  \n",
       "0           ANDERSON BORBA SILVA         2024  \n",
       "1  MARIA LUCIA FERREIRA DOS REIS         2024  \n",
       "2    CLAUDIO OLIVEIRA DOS SANTOS         2024  \n",
       "3         GABRIEL SOUZA DA SILVA         2024  \n",
       "4       LUCIENE REIS DE OLIVEIRA         2024  "
      ]
     },
     "execution_count": 35,
     "metadata": {},
     "output_type": "execute_result"
    }
   ],
   "source": [
    "df_candidatos = df_eleicoes_2024_sf[['DS_CARGO','NR_VOTAVEL','NM_CANDIDATURA','SQ_CANDIDATO','NM_VOTAVEL','ANO_ELEICAO']].drop_duplicates()\n",
    "df_candidatos = df_candidatos.reset_index(drop=True)\n",
    "\n",
    "df_candidatos.head()"
   ]
  },
  {
   "cell_type": "markdown",
   "id": "473d02eb",
   "metadata": {},
   "source": [
    "- importando as informações dos endereços de Simões Filho"
   ]
  },
  {
   "cell_type": "code",
   "execution_count": 36,
   "id": "e48f0aba",
   "metadata": {},
   "outputs": [
    {
     "data": {
      "application/vnd.microsoft.datawrangler.viewer.v0+json": {
       "columns": [
        {
         "name": "index",
         "rawType": "int64",
         "type": "integer"
        },
        {
         "name": "CEP Proposto",
         "rawType": "object",
         "type": "string"
        },
        {
         "name": "Tipo",
         "rawType": "object",
         "type": "string"
        },
        {
         "name": "Novo Endereço",
         "rawType": "object",
         "type": "string"
        },
        {
         "name": "Endereço Antigo",
         "rawType": "object",
         "type": "unknown"
        },
        {
         "name": "Informação Adicional",
         "rawType": "object",
         "type": "unknown"
        },
        {
         "name": "Bairro",
         "rawType": "object",
         "type": "string"
        }
       ],
       "ref": "759bef1f-a361-4cf3-a4df-7307e4218728",
       "rows": [
        [
         "0",
         "43700-050",
         "Rua",
         "Santa  CatarIna",
         null,
         null,
         "Centro"
        ],
        [
         "1",
         "43700-052",
         "Avenida",
         "Engenheiro  Walter Aragão de Souza",
         null,
         null,
         "Centro"
        ],
        [
         "2",
         "43700-054",
         "Rua",
         "Manoel Bento de Souza",
         null,
         null,
         "Centro"
        ],
        [
         "3",
         "43700-056",
         "Avenida",
         "Luís Eduardo Magalhães",
         null,
         null,
         "Centro"
        ],
        [
         "4",
         "43700-058",
         "Rua",
         "L",
         null,
         "(Lot Sol Nascente)",
         "Centro"
        ]
       ],
       "shape": {
        "columns": 6,
        "rows": 5
       }
      },
      "text/html": [
       "<div>\n",
       "<style scoped>\n",
       "    .dataframe tbody tr th:only-of-type {\n",
       "        vertical-align: middle;\n",
       "    }\n",
       "\n",
       "    .dataframe tbody tr th {\n",
       "        vertical-align: top;\n",
       "    }\n",
       "\n",
       "    .dataframe thead th {\n",
       "        text-align: right;\n",
       "    }\n",
       "</style>\n",
       "<table border=\"1\" class=\"dataframe\">\n",
       "  <thead>\n",
       "    <tr style=\"text-align: right;\">\n",
       "      <th></th>\n",
       "      <th>CEP Proposto</th>\n",
       "      <th>Tipo</th>\n",
       "      <th>Novo Endereço</th>\n",
       "      <th>Endereço Antigo</th>\n",
       "      <th>Informação Adicional</th>\n",
       "      <th>Bairro</th>\n",
       "    </tr>\n",
       "  </thead>\n",
       "  <tbody>\n",
       "    <tr>\n",
       "      <th>0</th>\n",
       "      <td>43700-050</td>\n",
       "      <td>Rua</td>\n",
       "      <td>Santa  CatarIna</td>\n",
       "      <td>NaN</td>\n",
       "      <td>NaN</td>\n",
       "      <td>Centro</td>\n",
       "    </tr>\n",
       "    <tr>\n",
       "      <th>1</th>\n",
       "      <td>43700-052</td>\n",
       "      <td>Avenida</td>\n",
       "      <td>Engenheiro  Walter Aragão de Souza</td>\n",
       "      <td>NaN</td>\n",
       "      <td>NaN</td>\n",
       "      <td>Centro</td>\n",
       "    </tr>\n",
       "    <tr>\n",
       "      <th>2</th>\n",
       "      <td>43700-054</td>\n",
       "      <td>Rua</td>\n",
       "      <td>Manoel Bento de Souza</td>\n",
       "      <td>NaN</td>\n",
       "      <td>NaN</td>\n",
       "      <td>Centro</td>\n",
       "    </tr>\n",
       "    <tr>\n",
       "      <th>3</th>\n",
       "      <td>43700-056</td>\n",
       "      <td>Avenida</td>\n",
       "      <td>Luís Eduardo Magalhães</td>\n",
       "      <td>NaN</td>\n",
       "      <td>NaN</td>\n",
       "      <td>Centro</td>\n",
       "    </tr>\n",
       "    <tr>\n",
       "      <th>4</th>\n",
       "      <td>43700-058</td>\n",
       "      <td>Rua</td>\n",
       "      <td>L</td>\n",
       "      <td>NaN</td>\n",
       "      <td>(Lot Sol Nascente)</td>\n",
       "      <td>Centro</td>\n",
       "    </tr>\n",
       "  </tbody>\n",
       "</table>\n",
       "</div>"
      ],
      "text/plain": [
       "  CEP Proposto     Tipo                       Novo Endereço Endereço Antigo  \\\n",
       "0    43700-050      Rua                     Santa  CatarIna             NaN   \n",
       "1    43700-052  Avenida  Engenheiro  Walter Aragão de Souza             NaN   \n",
       "2    43700-054      Rua               Manoel Bento de Souza             NaN   \n",
       "3    43700-056  Avenida              Luís Eduardo Magalhães             NaN   \n",
       "4    43700-058      Rua                                   L             NaN   \n",
       "\n",
       "  Informação Adicional  Bairro  \n",
       "0                  NaN  Centro  \n",
       "1                  NaN  Centro  \n",
       "2                  NaN  Centro  \n",
       "3                  NaN  Centro  \n",
       "4   (Lot Sol Nascente)  Centro  "
      ]
     },
     "execution_count": 36,
     "metadata": {},
     "output_type": "execute_result"
    }
   ],
   "source": [
    "df_enderecos = pd.read_csv('./dados/enderecos_simoes_filho.csv', sep=',', encoding='utf-8')\n",
    "\n",
    "df_enderecos.head()"
   ]
  },
  {
   "cell_type": "markdown",
   "id": "3634edd8",
   "metadata": {},
   "source": [
    "- atribuindo cep, bairro e município aos colegiados eleitorais"
   ]
  },
  {
   "cell_type": "code",
   "execution_count": 37,
   "id": "d2f7d9e6",
   "metadata": {},
   "outputs": [
    {
     "data": {
      "application/vnd.microsoft.datawrangler.viewer.v0+json": {
       "columns": [
        {
         "name": "index",
         "rawType": "int64",
         "type": "integer"
        },
        {
         "name": "CEP Proposto",
         "rawType": "object",
         "type": "string"
        },
        {
         "name": "Tipo",
         "rawType": "object",
         "type": "string"
        },
        {
         "name": "Novo Endereço",
         "rawType": "object",
         "type": "string"
        },
        {
         "name": "Endereço Antigo",
         "rawType": "object",
         "type": "unknown"
        },
        {
         "name": "Informação Adicional",
         "rawType": "object",
         "type": "unknown"
        },
        {
         "name": "Bairro",
         "rawType": "object",
         "type": "string"
        },
        {
         "name": "Cidade",
         "rawType": "object",
         "type": "string"
        },
        {
         "name": "UF",
         "rawType": "object",
         "type": "string"
        }
       ],
       "ref": "bb096286-b183-4608-94c1-215acd79244d",
       "rows": [
        [
         "0",
         "43700-050",
         "Rua",
         "Santa  CatarIna",
         null,
         null,
         "Centro",
         "SIMÕES FILHO",
         "BA"
        ],
        [
         "1",
         "43700-052",
         "Avenida",
         "Engenheiro  Walter Aragão de Souza",
         null,
         null,
         "Centro",
         "SIMÕES FILHO",
         "BA"
        ],
        [
         "2",
         "43700-054",
         "Rua",
         "Manoel Bento de Souza",
         null,
         null,
         "Centro",
         "SIMÕES FILHO",
         "BA"
        ],
        [
         "3",
         "43700-056",
         "Avenida",
         "Luís Eduardo Magalhães",
         null,
         null,
         "Centro",
         "SIMÕES FILHO",
         "BA"
        ],
        [
         "4",
         "43700-058",
         "Rua",
         "L",
         null,
         "(Lot Sol Nascente)",
         "Centro",
         "SIMÕES FILHO",
         "BA"
        ]
       ],
       "shape": {
        "columns": 8,
        "rows": 5
       }
      },
      "text/html": [
       "<div>\n",
       "<style scoped>\n",
       "    .dataframe tbody tr th:only-of-type {\n",
       "        vertical-align: middle;\n",
       "    }\n",
       "\n",
       "    .dataframe tbody tr th {\n",
       "        vertical-align: top;\n",
       "    }\n",
       "\n",
       "    .dataframe thead th {\n",
       "        text-align: right;\n",
       "    }\n",
       "</style>\n",
       "<table border=\"1\" class=\"dataframe\">\n",
       "  <thead>\n",
       "    <tr style=\"text-align: right;\">\n",
       "      <th></th>\n",
       "      <th>CEP Proposto</th>\n",
       "      <th>Tipo</th>\n",
       "      <th>Novo Endereço</th>\n",
       "      <th>Endereço Antigo</th>\n",
       "      <th>Informação Adicional</th>\n",
       "      <th>Bairro</th>\n",
       "      <th>Cidade</th>\n",
       "      <th>UF</th>\n",
       "    </tr>\n",
       "  </thead>\n",
       "  <tbody>\n",
       "    <tr>\n",
       "      <th>0</th>\n",
       "      <td>43700-050</td>\n",
       "      <td>Rua</td>\n",
       "      <td>Santa  CatarIna</td>\n",
       "      <td>NaN</td>\n",
       "      <td>NaN</td>\n",
       "      <td>Centro</td>\n",
       "      <td>SIMÕES FILHO</td>\n",
       "      <td>BA</td>\n",
       "    </tr>\n",
       "    <tr>\n",
       "      <th>1</th>\n",
       "      <td>43700-052</td>\n",
       "      <td>Avenida</td>\n",
       "      <td>Engenheiro  Walter Aragão de Souza</td>\n",
       "      <td>NaN</td>\n",
       "      <td>NaN</td>\n",
       "      <td>Centro</td>\n",
       "      <td>SIMÕES FILHO</td>\n",
       "      <td>BA</td>\n",
       "    </tr>\n",
       "    <tr>\n",
       "      <th>2</th>\n",
       "      <td>43700-054</td>\n",
       "      <td>Rua</td>\n",
       "      <td>Manoel Bento de Souza</td>\n",
       "      <td>NaN</td>\n",
       "      <td>NaN</td>\n",
       "      <td>Centro</td>\n",
       "      <td>SIMÕES FILHO</td>\n",
       "      <td>BA</td>\n",
       "    </tr>\n",
       "    <tr>\n",
       "      <th>3</th>\n",
       "      <td>43700-056</td>\n",
       "      <td>Avenida</td>\n",
       "      <td>Luís Eduardo Magalhães</td>\n",
       "      <td>NaN</td>\n",
       "      <td>NaN</td>\n",
       "      <td>Centro</td>\n",
       "      <td>SIMÕES FILHO</td>\n",
       "      <td>BA</td>\n",
       "    </tr>\n",
       "    <tr>\n",
       "      <th>4</th>\n",
       "      <td>43700-058</td>\n",
       "      <td>Rua</td>\n",
       "      <td>L</td>\n",
       "      <td>NaN</td>\n",
       "      <td>(Lot Sol Nascente)</td>\n",
       "      <td>Centro</td>\n",
       "      <td>SIMÕES FILHO</td>\n",
       "      <td>BA</td>\n",
       "    </tr>\n",
       "  </tbody>\n",
       "</table>\n",
       "</div>"
      ],
      "text/plain": [
       "  CEP Proposto     Tipo                       Novo Endereço Endereço Antigo  \\\n",
       "0    43700-050      Rua                     Santa  CatarIna             NaN   \n",
       "1    43700-052  Avenida  Engenheiro  Walter Aragão de Souza             NaN   \n",
       "2    43700-054      Rua               Manoel Bento de Souza             NaN   \n",
       "3    43700-056  Avenida              Luís Eduardo Magalhães             NaN   \n",
       "4    43700-058      Rua                                   L             NaN   \n",
       "\n",
       "  Informação Adicional  Bairro        Cidade  UF  \n",
       "0                  NaN  Centro  SIMÕES FILHO  BA  \n",
       "1                  NaN  Centro  SIMÕES FILHO  BA  \n",
       "2                  NaN  Centro  SIMÕES FILHO  BA  \n",
       "3                  NaN  Centro  SIMÕES FILHO  BA  \n",
       "4   (Lot Sol Nascente)  Centro  SIMÕES FILHO  BA  "
      ]
     },
     "execution_count": 37,
     "metadata": {},
     "output_type": "execute_result"
    }
   ],
   "source": [
    "df_enderecos['Cidade'] = 'SIMÕES FILHO'\n",
    "df_enderecos['UF'] = 'BA'\n",
    "\n",
    "df_enderecos.head()"
   ]
  },
  {
   "cell_type": "code",
   "execution_count": 48,
   "id": "21f8029c",
   "metadata": {},
   "outputs": [
    {
     "data": {
      "application/vnd.microsoft.datawrangler.viewer.v0+json": {
       "columns": [
        {
         "name": "index",
         "rawType": "int64",
         "type": "integer"
        },
        {
         "name": "NM_LOCAL_VOTACAO",
         "rawType": "object",
         "type": "string"
        },
        {
         "name": "DS_LOCAL_VOTACAO_ENDERECO",
         "rawType": "object",
         "type": "string"
        }
       ],
       "ref": "d143a9c3-e31c-4582-ac2d-71cb1295bcf0",
       "rows": [
        [
         "0",
         "ESCOLA BERLINDO MAMEDE",
         "RUA LOMANTO JUNIOR 71 - ZONA URBANA"
        ],
        [
         "1",
         "ESCOLA POLIVALENTE DE ARATU",
         "AV ELMO SEREJO FARIAS S/N - ZONA URBANA"
        ],
        [
         "2",
         "ESCOLA MUNICIPAL MARIA QUITÉRIA",
         "RUA ALMIRANTE BARROSO S/N - ZONA URBANA"
        ],
        [
         "3",
         "ESCOLA MUNICIPAL SETE DE NOVEMBRO",
         "AV. JOÃO XXIII, S/Nº - ZONA URBANA"
        ],
        [
         "4",
         "COLÉGIO MUNICIPAL PADRE LUIZ PALMEIRA",
         "PRAÇA 07 DE NOVEMBRO, S/N - ZONA URBANA"
        ]
       ],
       "shape": {
        "columns": 2,
        "rows": 5
       }
      },
      "text/html": [
       "<div>\n",
       "<style scoped>\n",
       "    .dataframe tbody tr th:only-of-type {\n",
       "        vertical-align: middle;\n",
       "    }\n",
       "\n",
       "    .dataframe tbody tr th {\n",
       "        vertical-align: top;\n",
       "    }\n",
       "\n",
       "    .dataframe thead th {\n",
       "        text-align: right;\n",
       "    }\n",
       "</style>\n",
       "<table border=\"1\" class=\"dataframe\">\n",
       "  <thead>\n",
       "    <tr style=\"text-align: right;\">\n",
       "      <th></th>\n",
       "      <th>NM_LOCAL_VOTACAO</th>\n",
       "      <th>DS_LOCAL_VOTACAO_ENDERECO</th>\n",
       "    </tr>\n",
       "  </thead>\n",
       "  <tbody>\n",
       "    <tr>\n",
       "      <th>0</th>\n",
       "      <td>ESCOLA BERLINDO MAMEDE</td>\n",
       "      <td>RUA LOMANTO JUNIOR 71 - ZONA URBANA</td>\n",
       "    </tr>\n",
       "    <tr>\n",
       "      <th>1</th>\n",
       "      <td>ESCOLA POLIVALENTE DE ARATU</td>\n",
       "      <td>AV ELMO SEREJO FARIAS S/N - ZONA URBANA</td>\n",
       "    </tr>\n",
       "    <tr>\n",
       "      <th>2</th>\n",
       "      <td>ESCOLA MUNICIPAL MARIA QUITÉRIA</td>\n",
       "      <td>RUA ALMIRANTE BARROSO S/N - ZONA URBANA</td>\n",
       "    </tr>\n",
       "    <tr>\n",
       "      <th>3</th>\n",
       "      <td>ESCOLA MUNICIPAL SETE DE NOVEMBRO</td>\n",
       "      <td>AV. JOÃO XXIII, S/Nº - ZONA URBANA</td>\n",
       "    </tr>\n",
       "    <tr>\n",
       "      <th>4</th>\n",
       "      <td>COLÉGIO MUNICIPAL PADRE LUIZ PALMEIRA</td>\n",
       "      <td>PRAÇA 07 DE NOVEMBRO, S/N - ZONA URBANA</td>\n",
       "    </tr>\n",
       "  </tbody>\n",
       "</table>\n",
       "</div>"
      ],
      "text/plain": [
       "                        NM_LOCAL_VOTACAO  \\\n",
       "0                 ESCOLA BERLINDO MAMEDE   \n",
       "1            ESCOLA POLIVALENTE DE ARATU   \n",
       "2        ESCOLA MUNICIPAL MARIA QUITÉRIA   \n",
       "3      ESCOLA MUNICIPAL SETE DE NOVEMBRO   \n",
       "4  COLÉGIO MUNICIPAL PADRE LUIZ PALMEIRA   \n",
       "\n",
       "                 DS_LOCAL_VOTACAO_ENDERECO  \n",
       "0      RUA LOMANTO JUNIOR 71 - ZONA URBANA  \n",
       "1  AV ELMO SEREJO FARIAS S/N - ZONA URBANA  \n",
       "2  RUA ALMIRANTE BARROSO S/N - ZONA URBANA  \n",
       "3       AV. JOÃO XXIII, S/Nº - ZONA URBANA  \n",
       "4  PRAÇA 07 DE NOVEMBRO, S/N - ZONA URBANA  "
      ]
     },
     "execution_count": 48,
     "metadata": {},
     "output_type": "execute_result"
    }
   ],
   "source": [
    "# aqui será feito o tratamento de dados para retirar os colegiados eleitorais não pertencentes a Simões Filho\n",
    "rua = df_enderecos['Novo Endereço'].str.upper()\n",
    "\n",
    "df_local_votacao_filtrado = df_local_votacao[df_local_votacao['DS_LOCAL_VOTACAO_ENDERECO'].str.contains('|'.join(rua), case=False, na=False)] \n",
    "df_local_votacao_filtrado = df_local_votacao_filtrado.reset_index(drop=True)\n",
    "\n",
    "df_local_votacao_filtrado.head()"
   ]
  },
  {
   "cell_type": "markdown",
   "id": "ca695195",
   "metadata": {},
   "source": [
    "- atribuindo ids aos colegiados"
   ]
  },
  {
   "cell_type": "code",
   "execution_count": 21,
   "id": "fe520097",
   "metadata": {},
   "outputs": [
    {
     "data": {
      "application/vnd.microsoft.datawrangler.viewer.v0+json": {
       "columns": [
        {
         "name": "index",
         "rawType": "int64",
         "type": "integer"
        },
        {
         "name": "NM_LOCAL_VOTACAO",
         "rawType": "object",
         "type": "string"
        },
        {
         "name": "DS_LOCAL_VOTACAO_ENDERECO",
         "rawType": "object",
         "type": "string"
        },
        {
         "name": "ID_LOCAL_VOTACAO",
         "rawType": "object",
         "type": "unknown"
        }
       ],
       "ref": "65c3a340-836e-401b-9adb-1a88a67f7d01",
       "rows": [
        [
         "0",
         "ESCOLA BERLINDO MAMEDE",
         "RUA LOMANTO JUNIOR 71 - ZONA URBANA",
         "910b6f3d-76df-4f55-88f7-5824a692dfe3"
        ],
        [
         "1",
         "ESCOLA POLIVALENTE DE ARATU",
         "AV ELMO SEREJO FARIAS S/N - ZONA URBANA",
         "a816a86f-89dc-4225-9e22-1d94d80c727c"
        ],
        [
         "2",
         "ESCOLA MUNICIPAL MARIA QUITÉRIA",
         "RUA ALMIRANTE BARROSO S/N - ZONA URBANA",
         "0b2233a9-7fda-4691-b15d-450b8430d01a"
        ],
        [
         "3",
         "ESCOLA MUNICIPAL SETE DE NOVEMBRO",
         "AV. JOÃO XXIII, S/Nº - ZONA URBANA",
         "920536b1-aed9-4810-b2bd-aca4dd294599"
        ],
        [
         "4",
         "COLÉGIO MUNICIPAL PADRE LUIZ PALMEIRA",
         "PRAÇA 07 DE NOVEMBRO, S/N - ZONA URBANA",
         "1d84a20c-4d61-442d-a288-69f293115dcf"
        ]
       ],
       "shape": {
        "columns": 3,
        "rows": 5
       }
      },
      "text/html": [
       "<div>\n",
       "<style scoped>\n",
       "    .dataframe tbody tr th:only-of-type {\n",
       "        vertical-align: middle;\n",
       "    }\n",
       "\n",
       "    .dataframe tbody tr th {\n",
       "        vertical-align: top;\n",
       "    }\n",
       "\n",
       "    .dataframe thead th {\n",
       "        text-align: right;\n",
       "    }\n",
       "</style>\n",
       "<table border=\"1\" class=\"dataframe\">\n",
       "  <thead>\n",
       "    <tr style=\"text-align: right;\">\n",
       "      <th></th>\n",
       "      <th>NM_LOCAL_VOTACAO</th>\n",
       "      <th>DS_LOCAL_VOTACAO_ENDERECO</th>\n",
       "      <th>ID_LOCAL_VOTACAO</th>\n",
       "    </tr>\n",
       "  </thead>\n",
       "  <tbody>\n",
       "    <tr>\n",
       "      <th>0</th>\n",
       "      <td>ESCOLA BERLINDO MAMEDE</td>\n",
       "      <td>RUA LOMANTO JUNIOR 71 - ZONA URBANA</td>\n",
       "      <td>910b6f3d-76df-4f55-88f7-5824a692dfe3</td>\n",
       "    </tr>\n",
       "    <tr>\n",
       "      <th>1</th>\n",
       "      <td>ESCOLA POLIVALENTE DE ARATU</td>\n",
       "      <td>AV ELMO SEREJO FARIAS S/N - ZONA URBANA</td>\n",
       "      <td>a816a86f-89dc-4225-9e22-1d94d80c727c</td>\n",
       "    </tr>\n",
       "    <tr>\n",
       "      <th>2</th>\n",
       "      <td>ESCOLA MUNICIPAL MARIA QUITÉRIA</td>\n",
       "      <td>RUA ALMIRANTE BARROSO S/N - ZONA URBANA</td>\n",
       "      <td>0b2233a9-7fda-4691-b15d-450b8430d01a</td>\n",
       "    </tr>\n",
       "    <tr>\n",
       "      <th>3</th>\n",
       "      <td>ESCOLA MUNICIPAL SETE DE NOVEMBRO</td>\n",
       "      <td>AV. JOÃO XXIII, S/Nº - ZONA URBANA</td>\n",
       "      <td>920536b1-aed9-4810-b2bd-aca4dd294599</td>\n",
       "    </tr>\n",
       "    <tr>\n",
       "      <th>4</th>\n",
       "      <td>COLÉGIO MUNICIPAL PADRE LUIZ PALMEIRA</td>\n",
       "      <td>PRAÇA 07 DE NOVEMBRO, S/N - ZONA URBANA</td>\n",
       "      <td>1d84a20c-4d61-442d-a288-69f293115dcf</td>\n",
       "    </tr>\n",
       "  </tbody>\n",
       "</table>\n",
       "</div>"
      ],
      "text/plain": [
       "                        NM_LOCAL_VOTACAO  \\\n",
       "0                 ESCOLA BERLINDO MAMEDE   \n",
       "1            ESCOLA POLIVALENTE DE ARATU   \n",
       "2        ESCOLA MUNICIPAL MARIA QUITÉRIA   \n",
       "3      ESCOLA MUNICIPAL SETE DE NOVEMBRO   \n",
       "4  COLÉGIO MUNICIPAL PADRE LUIZ PALMEIRA   \n",
       "\n",
       "                 DS_LOCAL_VOTACAO_ENDERECO  \\\n",
       "0      RUA LOMANTO JUNIOR 71 - ZONA URBANA   \n",
       "1  AV ELMO SEREJO FARIAS S/N - ZONA URBANA   \n",
       "2  RUA ALMIRANTE BARROSO S/N - ZONA URBANA   \n",
       "3       AV. JOÃO XXIII, S/Nº - ZONA URBANA   \n",
       "4  PRAÇA 07 DE NOVEMBRO, S/N - ZONA URBANA   \n",
       "\n",
       "                       ID_LOCAL_VOTACAO  \n",
       "0  910b6f3d-76df-4f55-88f7-5824a692dfe3  \n",
       "1  a816a86f-89dc-4225-9e22-1d94d80c727c  \n",
       "2  0b2233a9-7fda-4691-b15d-450b8430d01a  \n",
       "3  920536b1-aed9-4810-b2bd-aca4dd294599  \n",
       "4  1d84a20c-4d61-442d-a288-69f293115dcf  "
      ]
     },
     "execution_count": 21,
     "metadata": {},
     "output_type": "execute_result"
    }
   ],
   "source": [
    "df_local_votacao['ID_LOCAL_VOTACAO'] = [uuid.uuid4() for _ in range(len(df_local_votacao))]\n",
    "\n",
    "df_local_votacao.head()"
   ]
  },
  {
   "cell_type": "markdown",
   "id": "71cc1920",
   "metadata": {},
   "source": [
    "- atribuindo ids aos candidatos"
   ]
  },
  {
   "cell_type": "code",
   "execution_count": 22,
   "id": "56bde285",
   "metadata": {},
   "outputs": [
    {
     "data": {
      "application/vnd.microsoft.datawrangler.viewer.v0+json": {
       "columns": [
        {
         "name": "index",
         "rawType": "int64",
         "type": "integer"
        },
        {
         "name": "DS_CARGO",
         "rawType": "object",
         "type": "string"
        },
        {
         "name": "NR_VOTAVEL",
         "rawType": "int64",
         "type": "integer"
        },
        {
         "name": "NM_CANDIDATURA",
         "rawType": "object",
         "type": "string"
        },
        {
         "name": "SQ_CANDIDATO",
         "rawType": "int64",
         "type": "integer"
        },
        {
         "name": "NM_VOTAVEL",
         "rawType": "object",
         "type": "string"
        },
        {
         "name": "ANO_ELEICAO",
         "rawType": "int64",
         "type": "integer"
        },
        {
         "name": "ID_CANDIDATOS",
         "rawType": "object",
         "type": "unknown"
        }
       ],
       "ref": "2002ad93-0501-4ce3-8fb6-dab73f3f7e53",
       "rows": [
        [
         "0",
         "Vereador",
         "20000",
         "ANDERSON BORBA",
         "50001978043",
         "ANDERSON BORBA SILVA",
         "2024",
         "da961c29-7b76-49d1-8723-ceea819e75bb"
        ],
        [
         "1",
         "Vereador",
         "11014",
         "LUCIA DO SOCIAL",
         "50002240498",
         "MARIA LUCIA FERREIRA DOS REIS",
         "2024",
         "67cb8c4e-7307-4394-9690-e58e17237ee8"
        ],
        [
         "2",
         "Vereador",
         "11999",
         "CLAUDIO BARBEIRO",
         "50002240496",
         "CLAUDIO OLIVEIRA DOS SANTOS",
         "2024",
         "93bff9db-9490-4e8f-a00b-62e403f33c38"
        ],
        [
         "3",
         "Vereador",
         "55777",
         "GABRIEL DE RITA",
         "50002060219",
         "GABRIEL SOUZA DA SILVA",
         "2024",
         "7e206c35-abbe-48a1-8546-244936afe42d"
        ],
        [
         "4",
         "Vereador",
         "10255",
         "LUCIENE DO POVO",
         "50001978079",
         "LUCIENE REIS DE OLIVEIRA",
         "2024",
         "e73e9828-b75c-469a-8f7e-dcc13b269d9d"
        ]
       ],
       "shape": {
        "columns": 7,
        "rows": 5
       }
      },
      "text/html": [
       "<div>\n",
       "<style scoped>\n",
       "    .dataframe tbody tr th:only-of-type {\n",
       "        vertical-align: middle;\n",
       "    }\n",
       "\n",
       "    .dataframe tbody tr th {\n",
       "        vertical-align: top;\n",
       "    }\n",
       "\n",
       "    .dataframe thead th {\n",
       "        text-align: right;\n",
       "    }\n",
       "</style>\n",
       "<table border=\"1\" class=\"dataframe\">\n",
       "  <thead>\n",
       "    <tr style=\"text-align: right;\">\n",
       "      <th></th>\n",
       "      <th>DS_CARGO</th>\n",
       "      <th>NR_VOTAVEL</th>\n",
       "      <th>NM_CANDIDATURA</th>\n",
       "      <th>SQ_CANDIDATO</th>\n",
       "      <th>NM_VOTAVEL</th>\n",
       "      <th>ANO_ELEICAO</th>\n",
       "      <th>ID_CANDIDATOS</th>\n",
       "    </tr>\n",
       "  </thead>\n",
       "  <tbody>\n",
       "    <tr>\n",
       "      <th>0</th>\n",
       "      <td>Vereador</td>\n",
       "      <td>20000</td>\n",
       "      <td>ANDERSON BORBA</td>\n",
       "      <td>50001978043</td>\n",
       "      <td>ANDERSON BORBA SILVA</td>\n",
       "      <td>2024</td>\n",
       "      <td>da961c29-7b76-49d1-8723-ceea819e75bb</td>\n",
       "    </tr>\n",
       "    <tr>\n",
       "      <th>1</th>\n",
       "      <td>Vereador</td>\n",
       "      <td>11014</td>\n",
       "      <td>LUCIA DO SOCIAL</td>\n",
       "      <td>50002240498</td>\n",
       "      <td>MARIA LUCIA FERREIRA DOS REIS</td>\n",
       "      <td>2024</td>\n",
       "      <td>67cb8c4e-7307-4394-9690-e58e17237ee8</td>\n",
       "    </tr>\n",
       "    <tr>\n",
       "      <th>2</th>\n",
       "      <td>Vereador</td>\n",
       "      <td>11999</td>\n",
       "      <td>CLAUDIO BARBEIRO</td>\n",
       "      <td>50002240496</td>\n",
       "      <td>CLAUDIO OLIVEIRA DOS SANTOS</td>\n",
       "      <td>2024</td>\n",
       "      <td>93bff9db-9490-4e8f-a00b-62e403f33c38</td>\n",
       "    </tr>\n",
       "    <tr>\n",
       "      <th>3</th>\n",
       "      <td>Vereador</td>\n",
       "      <td>55777</td>\n",
       "      <td>GABRIEL DE RITA</td>\n",
       "      <td>50002060219</td>\n",
       "      <td>GABRIEL SOUZA DA SILVA</td>\n",
       "      <td>2024</td>\n",
       "      <td>7e206c35-abbe-48a1-8546-244936afe42d</td>\n",
       "    </tr>\n",
       "    <tr>\n",
       "      <th>4</th>\n",
       "      <td>Vereador</td>\n",
       "      <td>10255</td>\n",
       "      <td>LUCIENE DO POVO</td>\n",
       "      <td>50001978079</td>\n",
       "      <td>LUCIENE REIS DE OLIVEIRA</td>\n",
       "      <td>2024</td>\n",
       "      <td>e73e9828-b75c-469a-8f7e-dcc13b269d9d</td>\n",
       "    </tr>\n",
       "  </tbody>\n",
       "</table>\n",
       "</div>"
      ],
      "text/plain": [
       "   DS_CARGO  NR_VOTAVEL    NM_CANDIDATURA  SQ_CANDIDATO  \\\n",
       "0  Vereador       20000    ANDERSON BORBA   50001978043   \n",
       "1  Vereador       11014   LUCIA DO SOCIAL   50002240498   \n",
       "2  Vereador       11999  CLAUDIO BARBEIRO   50002240496   \n",
       "3  Vereador       55777   GABRIEL DE RITA   50002060219   \n",
       "4  Vereador       10255   LUCIENE DO POVO   50001978079   \n",
       "\n",
       "                      NM_VOTAVEL  ANO_ELEICAO  \\\n",
       "0           ANDERSON BORBA SILVA         2024   \n",
       "1  MARIA LUCIA FERREIRA DOS REIS         2024   \n",
       "2    CLAUDIO OLIVEIRA DOS SANTOS         2024   \n",
       "3         GABRIEL SOUZA DA SILVA         2024   \n",
       "4       LUCIENE REIS DE OLIVEIRA         2024   \n",
       "\n",
       "                          ID_CANDIDATOS  \n",
       "0  da961c29-7b76-49d1-8723-ceea819e75bb  \n",
       "1  67cb8c4e-7307-4394-9690-e58e17237ee8  \n",
       "2  93bff9db-9490-4e8f-a00b-62e403f33c38  \n",
       "3  7e206c35-abbe-48a1-8546-244936afe42d  \n",
       "4  e73e9828-b75c-469a-8f7e-dcc13b269d9d  "
      ]
     },
     "execution_count": 22,
     "metadata": {},
     "output_type": "execute_result"
    }
   ],
   "source": [
    "df_candidatos['ID_CANDIDATOS'] = [uuid.uuid4() for _ in range(len(df_candidatos))]\n",
    "\n",
    "df_candidatos.head()"
   ]
  },
  {
   "cell_type": "markdown",
   "id": "2eb8002e",
   "metadata": {},
   "source": [
    "- Lendo os nomes dos arquivos no diretório 'dados_tratados'"
   ]
  },
  {
   "cell_type": "code",
   "execution_count": 3,
   "id": "c6991260",
   "metadata": {},
   "outputs": [
    {
     "name": "stdout",
     "output_type": "stream",
     "text": [
      "['ABSOLAN CAMINHONEIRO_2024.csv', 'ADAILTON CAÇAMBEIRO_2024.csv', 'ADIEL_2024.csv', 'ADRIANO BARACK_2024.csv', 'ADRIANO MATIAS_2024.csv', 'AGNALDO DA SAUDE_2024.csv', 'ALAN SEU ESTILO_2024.csv', 'ALÊ CORRERIA_2024.csv', 'ALEX BIDELA_2024.csv', 'ALINE SANTOS_2024.csv', 'AMÁLIA LEAL_2024.csv', 'AMANDA VALE_2024.csv', 'AMIGO JU_2024.csv', 'AMIGO LAU_2024.csv', 'AMIGO LÉO_2024.csv', 'AMIGO MAIA DA LOGISTICA_2024.csv', 'ANA ANGÊLICA_2024.csv', 'ANANDA GONÇALVES_2024.csv', 'ANDERSON BORBA_2024.csv', 'ANDRE ALVES_2024.csv', 'ANDREA ALMEIDA_2024.csv', 'ANDRESSA BOMFIM_2024.csv', 'ANGELA BARROS_2024.csv', 'ANTONIO BATISTA_2024.csv', 'ANTONIO DIAS_2024.csv', 'ARNOLDO SIMÕES_2024.csv', 'AU DO PONTO PARADA_2024.csv', 'AURINO PASSOS_2024.csv', 'BARBA AZUL_2024.csv', 'BELO GAZINEU_2024.csv', 'BENÉ DA GRADE_2024.csv', 'BERI MONTEIRO_2024.csv', 'BETE DANTAS_2024.csv', 'BIA DO LANCHE_2024.csv', 'BIBITA_2024.csv', 'BILLY DE GÓES CALMON_2024.csv', 'BINHO_2024.csv', 'BISPA MARLENE_2024.csv', 'BOLLY BOLLY_2024.csv', 'BOMBEIRO MOTTA_2024.csv', 'BONITA DA SAÚDE_2024.csv', 'BUJÃO_2024.csv', 'CABELUDO SOM_2024.csv', 'CAMILO MACIEL_2024.csv', 'CANATIBA_2024.csv', 'CANJIRANA_2024.csv', 'CAPENGA_2024.csv', 'CARLA_2024.csv', 'CARLINHOS BAYANO_2024.csv', 'CARLOS CERQUEIRA_2024.csv', 'CARLOS NETO_2024.csv', 'CAROL DA PITANGUINHA_2024.csv', 'CASCAVEL_2024.csv', 'CASSINHA DA SAÚDE_2024.csv', 'CEARÁ DO POVO_2024.csv', 'CHEIROSA LAU_2024.csv', 'CHIQUINHO_2024.csv', 'CLAUDINHA RIBEIRO_2024.csv', 'CLAUDIO BARBEIRO_2024.csv', 'CRIS MENSAGEM_2024.csv', 'CYNTIA ROCHA_2024.csv', 'DAIA DO POVO_2024.csv', 'DANIEL WILLIAM_2024.csv', 'DANILO RASTA_2024.csv', 'DECIVALDO_2024.csv', 'DELL CAPOEIRA_2024.csv', 'DENI DA METALÚRGICA_2024.csv', 'DEVA_2024.csv', 'DEYVISON DA CLARO_2024.csv', 'DIDI PONTO PARADA_2024.csv', 'DIDICO DA INCLUSÃO_2024.csv', 'DIEGO DE PAULA_2024.csv', 'DINEY ARAÚJO_2024.csv', 'DINO DE CAVALHADA_2024.csv', 'DR DEMILSON LIMA_2024.csv', 'DR MARCILIO_2024.csv', 'DRA CLAUDIA MIRANDA_2024.csv', 'DRA SUELY_2024.csv', 'DUI DE RITINHA_2024.csv', 'EDI LIMA_2024.csv', 'EDNALVA BARRETO_2024.csv', 'EDSON DA SOCIAL_2024.csv', 'EDUARDO CARIMÃ_2024.csv', 'EDUARDO GÓES_2024.csv', 'EDY MOTO TAXI_2024.csv', 'ELIANA DA PARATI_2024.csv', 'ELIANE VETERINÁRIA_2024.csv', 'ELIMARIO LIMA_2024.csv', 'ELIZIO GORDO_2024.csv', 'ENALDO CORRETOR_2024.csv', 'ENFERMEIRA LÚCIA DAMASCENO_2024.csv', 'ERI COSTA_2024.csv', 'ERNANI ARAÚJO_2024.csv', 'ERNESTINO MEU BOM RAPAZ_2024.csv', 'EUGENIO PACELLI_2024.csv', 'EVAN JORGE_2024.csv', 'EVERTON DAS PLACAS_2024.csv', 'EVERTON PAIM_2024.csv', 'EZEQUIEL PINHEIRO EZE_2024.csv', 'FABIANO DOS SANTOS SIMÃO_2024.csv', 'FÁBIO DA CESTA BÁSICA_2024.csv', 'FAL DA SAÚDE_2024.csv', 'FERNANDA_2024.csv', 'FIAMA SOUZA_2024.csv', 'FLOR DE LABORÉ_2024.csv', 'FRANKLIN ROSA_2024.csv', 'GABRIEL DE RITA_2024.csv', 'GALEGA_2024.csv', 'GALEGO DA OFICINA_2024.csv', 'GEASI OÁSIS_2024.csv', 'GENIVALDO LIMA_2024.csv', 'GEORGEA ALVES_2024.csv', 'GILDEVAN MUNIZ_2024.csv', 'GILSON É DIFERENTE_2024.csv', 'GISELA SOBRAL_2024.csv', 'GLAUBER_2024.csv', 'GUANA DA CULTURA_2024.csv', 'GUILHERMINIA SANTOS_2024.csv', 'GUIMARÃES_2024.csv', 'HELENA DO AREAL_2024.csv', 'IAGO ALVES_2024.csv', 'IARA_2024.csv', 'IGOR LORETO_2024.csv', 'IGOR RIFEIRO_2024.csv', 'IRINEU CEASINHA_2024.csv', 'IRMÃO ALEX_2024.csv', 'IRMÃO CAPENGA_2024.csv', 'IRMÃO JOSÉ RODRIGUES_2024.csv', 'IRMÃO JULIO_2024.csv', 'IRMÃO NENGO_2024.csv', 'ISRAEL SANTOS_2024.csv', 'ITUS RAMOS_2024.csv', 'IVANIO DAS TRUFAS_2024.csv', 'JACI_2024.csv', 'JACI BISPO_2024.csv', 'JACKSON BOMFIM_2024.csv', 'JADE SOLDADOR_2024.csv', 'JAIR DO CHURRASQUINHO_2024.csv', 'JAIRINHO_2024.csv', 'JAJAI_2024.csv', 'JAQUE CORAÇÃO DE MÃE_2024.csv', 'JESSICA_2024.csv', 'JÔ DO IRMÃO DO LANCHE_2024.csv', 'JOEL CERQUEIRA_2024.csv', 'JOKA DA FARMÁCIA_2024.csv', 'JORGE GALO_2024.csv', 'JORGE MECÂNICO_2024.csv', 'JORGE PASTEL_2024.csv', 'JOSIEL CONSTRUVALLE_2024.csv', 'JOSUE SILVA_2024.csv', 'JUCELINO LIGEIRINHO DO POVO_2024.csv', 'JUCI TELES_2024.csv', 'JUCY MOTOS_2024.csv', 'JUNIOR CAPOEIRA_2024.csv', 'JÚNIOR MONTAGENS_2024.csv', 'JURACI DA ILHA_2024.csv', 'KAIQUE DE SOUZA_2024.csv', 'KASYA_2024.csv', 'KÁTIA DE MAPELE_2024.csv', 'KÁTIA XARÁ_2024.csv', 'KEU DO FRANGO_2024.csv', 'LAECIO PICOLÉ_2024.csv', 'LEITE_2024.csv', 'LELEL_2024.csv', 'LENE FROZEN_2024.csv', 'LEO HABILITY_2024.csv', 'LÍLIA SANDES_2024.csv', 'LINDINALVA OLIVEIRA_2024.csv', 'LIU DO BOTICÁRIO_2024.csv', 'LUCIA DO SOCIAL_2024.csv', 'LUCIANA DO GRUPO_2024.csv', 'LUCIENE DO POVO_2024.csv', 'LUID MENDES_2024.csv', 'LUZIA DO OITEIRO_2024.csv', 'MALANE SÁ_2024.csv', 'MALU FLORES_2024.csv', 'MANEZINHO CARTEIRO_2024.csv', 'MANOEL CARTEIRO_2024.csv', 'MÁRCIA COSTA_2024.csv', 'MARCIO CAVALO_2024.csv', 'MARCOS CAMPOS_2024.csv', 'MARIANA MSTS_2024.csv', 'MARICOTTA_2024.csv', 'MARILENE TELES_2024.csv', 'MARIVALDO SIM_2024.csv', 'MARLUCIA TANQUE DO CORONEL_2024.csv', 'MARTA_2024.csv', 'MATHEUS BACELAR_2024.csv', 'MAURIÇÃO DE MAPELE_2024.csv', 'MAX HAACK_2024.csv', 'MEIRE ORNELAS_2024.csv', 'MICHEL DANTAS_2024.csv', 'MIKINHA_2024.csv', 'MINY SANTANA_2024.csv', 'MIRA ARAUJO_2024.csv', 'MIRO DO GALO_2024.csv', 'MISSIONÁRIA ROSE_2024.csv', 'MOISES DO PROJETO TRANSFORMAR_2024.csv', 'NANCI DA SAÚDE_2024.csv', 'NARA MAQUEIRA_2024.csv', 'NECO ALMEIDA_2024.csv', 'NEGUINHO_2024.csv', 'NEGUINHO DO ÔNIBUS_2024.csv', 'NEINHA DA SAÚDE_2024.csv', 'NEIVALDO SCAVELO_2024.csv', 'NILTON DE JESUS_2024.csv', 'OLIVEIRA_2024.csv', 'ORLANDO BASTOS_2024.csv', 'ORLANDO DE AMADEU_2024.csv', 'ORLANDO EMPREITEIRO_2024.csv', 'PAM DE ZINO RASTA_2024.csv', 'PASTOR ALECSON_2024.csv', 'PASTOR JÓ_2024.csv', 'PASTOR RICARDO_2024.csv', 'PASTORA ANA PAULA_2024.csv', 'PASTORA JULIA RIEIRO_2024.csv', 'PATRICIA DA CONVEL_2024.csv', 'PEDRO DA ASSOCIAÇÃO_2024.csv', 'PEDRO DA KOMBI_2024.csv', 'PERY_2024.csv', 'PETRONIO_2024.csv', 'PEU_2024.csv', 'PRÓ EDILENE_2024.csv', 'PRÓ NUBIA DO CIA I_2024.csv', 'PRO ZENE_2024.csv', 'PROF WESLLEY DAMASCENO_2024.csv', 'PROFESSOR LIMA_2024.csv', 'PROFESSORA ELIETE_2024.csv', 'PROFESSORA MÔNICA QUEIROZ_2024.csv', 'PROFESSORA NILZETE_2024.csv', 'QUILDER VAQUEIRO_2024.csv', 'RAIMUNDO BIGODE_2024.csv', 'RAMON LACERDA_2024.csv', 'RASTA_2024.csv', 'RENATO_2024.csv', 'REY DA PIZZA_2024.csv', 'RIBEIRO DO SOCIAL_2024.csv', 'RICARDO FIGUEIREDO_2024.csv', 'ROBERTO SHORT_2024.csv', 'ROBERTO SOUZA_2024.csv', 'ROBINHO TATOO_2024.csv', 'RONALDO DO SINDICATO_2024.csv', 'ROQUE DA LITORAL_2024.csv', 'ROSA DO OITEIRO_2024.csv', 'ROSEVALDO BATISTA_2024.csv', 'ROTSEN CAMPOS_2024.csv', 'RUBINHO DO POVO_2024.csv', 'SAMUEL JUNIOR_2024.csv', 'SANDRO MOREIRA_2024.csv', 'SÉRGIO DA ACCI_2024.csv', 'SÉRGIO DE MAPELE_2024.csv', 'SERGIO DO UNO_2024.csv', 'SERGIO FERREIRA_2024.csv', 'SÉRGIO MOTA_2024.csv', 'SHIRLEY CLARK_2024.csv', 'SID SERRA_2024.csv', 'SID VEICULOS_2024.csv', 'SILVANA CARDOSO MAGALHÃES_2024.csv', 'SILVANEI DA EDUCAÇÃO_2024.csv', 'SIMONE CARDEAL_2024.csv', 'SOLANGE ATLETA_2024.csv', 'STELA BONITA_2024.csv', 'SULY_2024.csv', 'TAI DO DETOX_2024.csv', 'TAIANA BASTOS_2024.csv', 'TAMARA ARRICHETTA_2024.csv', 'TÂNIA IRMÃ DE AZAZA_2024.csv', 'TATA CARVALHO_2024.csv', 'TETINHA DO AIPIM_2024.csv', 'THIAGO CAXIAS_2024.csv', 'THIAGO MISTER_2024.csv', 'TIA DINHA_2024.csv', 'TIA SONIA_2024.csv', 'TITA DO POVO_2024.csv', 'VAGNER MEDEIROS_2024.csv', 'VANESSA LIMA_2024.csv', 'VÂNIA CONTADORA_2024.csv', 'VÂNIA SANTANA_2024.csv', 'VAVAL DO SAMBA_2024.csv', 'VEL DO POVO_2024.csv', 'VENTURA_2024.csv', 'VERA_2024.csv', 'WELIA DE PRETA_2024.csv', 'ZÉ DO FERRO VELHO_2024.csv', 'ZETE_2024.csv', 'DEL_2024.csv', 'EDSON ALMEIDA_2024.csv', 'KADU SILVA MAVERICK_2024.csv']\n"
     ]
    }
   ],
   "source": [
    "arquivos = os.listdir('./dados_tratados')\n",
    "nomes_arquivos = [arquivo for arquivo in arquivos if os.path.isfile(os.path.join('./dados_tratados', arquivo))]\n",
    "\n",
    "print(nomes_arquivos)"
   ]
  },
  {
   "cell_type": "markdown",
   "id": "99ca9a31",
   "metadata": {},
   "source": [
    "- Percorrendo cada arquivo e lendo suas informações"
   ]
  },
  {
   "cell_type": "code",
   "execution_count": null,
   "id": "80dbf46c",
   "metadata": {},
   "outputs": [],
   "source": [
    "# Em desenvolvimento\n",
    "df_dados_candidatos = pd.read_csv(f'./dados_tratados/{nomes_arquivos[13]}', sep=';', encoding='UTF-8')\n",
    "df_dados_candidatos.head()"
   ]
  }
 ],
 "metadata": {
  "kernelspec": {
   "display_name": ".venv",
   "language": "python",
   "name": "python3"
  },
  "language_info": {
   "codemirror_mode": {
    "name": "ipython",
    "version": 3
   },
   "file_extension": ".py",
   "mimetype": "text/x-python",
   "name": "python",
   "nbconvert_exporter": "python",
   "pygments_lexer": "ipython3",
   "version": "3.12.3"
  }
 },
 "nbformat": 4,
 "nbformat_minor": 5
}
