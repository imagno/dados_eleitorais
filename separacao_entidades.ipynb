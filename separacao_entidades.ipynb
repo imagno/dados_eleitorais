{
 "cells": [
  {
   "cell_type": "code",
   "execution_count": 2,
   "id": "af74aa46",
   "metadata": {},
   "outputs": [],
   "source": [
    "import os\n",
    "import pandas as pd"
   ]
  },
  {
   "cell_type": "markdown",
   "id": "eea5155b",
   "metadata": {},
   "source": [
    "- importando dados de votação por seção em Simões Filho"
   ]
  },
  {
   "cell_type": "code",
   "execution_count": 5,
   "id": "378ad314",
   "metadata": {},
   "outputs": [
    {
     "data": {
      "application/vnd.microsoft.datawrangler.viewer.v0+json": {
       "columns": [
        {
         "name": "index",
         "rawType": "int64",
         "type": "integer"
        },
        {
         "name": "DS_CARGO",
         "rawType": "object",
         "type": "string"
        },
        {
         "name": "ANO_ELEICAO",
         "rawType": "int64",
         "type": "integer"
        },
        {
         "name": "NR_VOTAVEL",
         "rawType": "int64",
         "type": "integer"
        },
        {
         "name": "NM_CANDIDATURA",
         "rawType": "object",
         "type": "string"
        },
        {
         "name": "NM_VOTAVEL",
         "rawType": "object",
         "type": "string"
        },
        {
         "name": "NR_SECAO",
         "rawType": "int64",
         "type": "integer"
        },
        {
         "name": "QT_VOTOS",
         "rawType": "int64",
         "type": "integer"
        },
        {
         "name": "SQ_CANDIDATO",
         "rawType": "int64",
         "type": "integer"
        },
        {
         "name": "NM_LOCAL_VOTACAO",
         "rawType": "object",
         "type": "string"
        },
        {
         "name": "DS_LOCAL_VOTACAO_ENDERECO",
         "rawType": "object",
         "type": "string"
        }
       ],
       "ref": "98c5c28a-aca6-48a6-9a1f-24567214c0fa",
       "rows": [
        [
         "0",
         "Vereador",
         "2024",
         "20000",
         "ANDERSON BORBA",
         "ANDERSON BORBA SILVA",
         "52",
         "1",
         "50001978043",
         "ESCOLA BERLINDO MAMEDE",
         "RUA LOMANTO JUNIOR 71 - ZONA URBANA"
        ],
        [
         "1",
         "Vereador",
         "2024",
         "11014",
         "LUCIA DO SOCIAL",
         "MARIA LUCIA FERREIRA DOS REIS",
         "52",
         "3",
         "50002240498",
         "ESCOLA BERLINDO MAMEDE",
         "RUA LOMANTO JUNIOR 71 - ZONA URBANA"
        ],
        [
         "2",
         "Vereador",
         "2024",
         "11999",
         "CLAUDIO BARBEIRO",
         "CLAUDIO OLIVEIRA DOS SANTOS",
         "71",
         "2",
         "50002240496",
         "ESCOLA POLIVALENTE DE ARATU",
         "AV ELMO SEREJO FARIAS S/N - ZONA URBANA"
        ],
        [
         "3",
         "Vereador",
         "2024",
         "55777",
         "GABRIEL DE RITA",
         "GABRIEL SOUZA DA SILVA",
         "153",
         "3",
         "50002060219",
         "ESCOLA MUNICIPAL MARIA QUITÉRIA",
         "RUA ALMIRANTE BARROSO S/N - ZONA URBANA"
        ],
        [
         "4",
         "Vereador",
         "2024",
         "55777",
         "GABRIEL DE RITA",
         "GABRIEL SOUZA DA SILVA",
         "201",
         "1",
         "50002060219",
         "ESCOLA MUNICIPAL SETE DE NOVEMBRO",
         "AV. JOÃO XXIII, S/Nº - ZONA URBANA"
        ],
        [
         "5",
         "Vereador",
         "2024",
         "55777",
         "GABRIEL DE RITA",
         "GABRIEL SOUZA DA SILVA",
         "44",
         "1",
         "50002060219",
         "COLÉGIO MUNICIPAL PADRE LUIZ PALMEIRA",
         "PRAÇA 07 DE NOVEMBRO, S/N - ZONA URBANA"
        ],
        [
         "6",
         "Vereador",
         "2024",
         "55777",
         "GABRIEL DE RITA",
         "GABRIEL SOUZA DA SILVA",
         "145",
         "1",
         "50002060219",
         "ESCOLA LUIZ VIANA FILHO",
         "RUA VISCONDE DE MAUÁ, 316 - ZONA RURAL"
        ],
        [
         "7",
         "Vereador",
         "2024",
         "55777",
         "GABRIEL DE RITA",
         "GABRIEL SOUZA DA SILVA",
         "165",
         "2",
         "50002060219",
         "ESCOLA MUNICIPAL UNIÃO DA BAHIA",
         "RUA R, QUADRA 16, S/N - ZONA URBANA"
        ],
        [
         "8",
         "Vereador",
         "2024",
         "10255",
         "LUCIENE DO POVO",
         "LUCIENE REIS DE OLIVEIRA",
         "179",
         "1",
         "50001978079",
         "ESCOLA DIÁCONO FERNANDO DE BRITO",
         "AV ELMO SEREJO FARIAS S/N - ZONA URBANA"
        ],
        [
         "9",
         "Vereador",
         "2024",
         "45000",
         "ITUS RAMOS",
         "UILTON RAMOS DE ALENCAR",
         "132",
         "1",
         "50001946948",
         "ESCOLA HILDÉRICO PINHEIRO",
         "RUA DIREITA DE SANTO ANTONIO DO RIO DAS PEDRAS, S/N - ZONA RURAL"
        ]
       ],
       "shape": {
        "columns": 10,
        "rows": 10
       }
      },
      "text/html": [
       "<div>\n",
       "<style scoped>\n",
       "    .dataframe tbody tr th:only-of-type {\n",
       "        vertical-align: middle;\n",
       "    }\n",
       "\n",
       "    .dataframe tbody tr th {\n",
       "        vertical-align: top;\n",
       "    }\n",
       "\n",
       "    .dataframe thead th {\n",
       "        text-align: right;\n",
       "    }\n",
       "</style>\n",
       "<table border=\"1\" class=\"dataframe\">\n",
       "  <thead>\n",
       "    <tr style=\"text-align: right;\">\n",
       "      <th></th>\n",
       "      <th>DS_CARGO</th>\n",
       "      <th>ANO_ELEICAO</th>\n",
       "      <th>NR_VOTAVEL</th>\n",
       "      <th>NM_CANDIDATURA</th>\n",
       "      <th>NM_VOTAVEL</th>\n",
       "      <th>NR_SECAO</th>\n",
       "      <th>QT_VOTOS</th>\n",
       "      <th>SQ_CANDIDATO</th>\n",
       "      <th>NM_LOCAL_VOTACAO</th>\n",
       "      <th>DS_LOCAL_VOTACAO_ENDERECO</th>\n",
       "    </tr>\n",
       "  </thead>\n",
       "  <tbody>\n",
       "    <tr>\n",
       "      <th>0</th>\n",
       "      <td>Vereador</td>\n",
       "      <td>2024</td>\n",
       "      <td>20000</td>\n",
       "      <td>ANDERSON BORBA</td>\n",
       "      <td>ANDERSON BORBA SILVA</td>\n",
       "      <td>52</td>\n",
       "      <td>1</td>\n",
       "      <td>50001978043</td>\n",
       "      <td>ESCOLA BERLINDO MAMEDE</td>\n",
       "      <td>RUA LOMANTO JUNIOR 71 - ZONA URBANA</td>\n",
       "    </tr>\n",
       "    <tr>\n",
       "      <th>1</th>\n",
       "      <td>Vereador</td>\n",
       "      <td>2024</td>\n",
       "      <td>11014</td>\n",
       "      <td>LUCIA DO SOCIAL</td>\n",
       "      <td>MARIA LUCIA FERREIRA DOS REIS</td>\n",
       "      <td>52</td>\n",
       "      <td>3</td>\n",
       "      <td>50002240498</td>\n",
       "      <td>ESCOLA BERLINDO MAMEDE</td>\n",
       "      <td>RUA LOMANTO JUNIOR 71 - ZONA URBANA</td>\n",
       "    </tr>\n",
       "    <tr>\n",
       "      <th>2</th>\n",
       "      <td>Vereador</td>\n",
       "      <td>2024</td>\n",
       "      <td>11999</td>\n",
       "      <td>CLAUDIO BARBEIRO</td>\n",
       "      <td>CLAUDIO OLIVEIRA DOS SANTOS</td>\n",
       "      <td>71</td>\n",
       "      <td>2</td>\n",
       "      <td>50002240496</td>\n",
       "      <td>ESCOLA POLIVALENTE DE ARATU</td>\n",
       "      <td>AV ELMO SEREJO FARIAS S/N - ZONA URBANA</td>\n",
       "    </tr>\n",
       "    <tr>\n",
       "      <th>3</th>\n",
       "      <td>Vereador</td>\n",
       "      <td>2024</td>\n",
       "      <td>55777</td>\n",
       "      <td>GABRIEL DE RITA</td>\n",
       "      <td>GABRIEL SOUZA DA SILVA</td>\n",
       "      <td>153</td>\n",
       "      <td>3</td>\n",
       "      <td>50002060219</td>\n",
       "      <td>ESCOLA MUNICIPAL MARIA QUITÉRIA</td>\n",
       "      <td>RUA ALMIRANTE BARROSO S/N - ZONA URBANA</td>\n",
       "    </tr>\n",
       "    <tr>\n",
       "      <th>4</th>\n",
       "      <td>Vereador</td>\n",
       "      <td>2024</td>\n",
       "      <td>55777</td>\n",
       "      <td>GABRIEL DE RITA</td>\n",
       "      <td>GABRIEL SOUZA DA SILVA</td>\n",
       "      <td>201</td>\n",
       "      <td>1</td>\n",
       "      <td>50002060219</td>\n",
       "      <td>ESCOLA MUNICIPAL SETE DE NOVEMBRO</td>\n",
       "      <td>AV. JOÃO XXIII, S/Nº - ZONA URBANA</td>\n",
       "    </tr>\n",
       "    <tr>\n",
       "      <th>5</th>\n",
       "      <td>Vereador</td>\n",
       "      <td>2024</td>\n",
       "      <td>55777</td>\n",
       "      <td>GABRIEL DE RITA</td>\n",
       "      <td>GABRIEL SOUZA DA SILVA</td>\n",
       "      <td>44</td>\n",
       "      <td>1</td>\n",
       "      <td>50002060219</td>\n",
       "      <td>COLÉGIO MUNICIPAL PADRE LUIZ PALMEIRA</td>\n",
       "      <td>PRAÇA 07 DE NOVEMBRO, S/N - ZONA URBANA</td>\n",
       "    </tr>\n",
       "    <tr>\n",
       "      <th>6</th>\n",
       "      <td>Vereador</td>\n",
       "      <td>2024</td>\n",
       "      <td>55777</td>\n",
       "      <td>GABRIEL DE RITA</td>\n",
       "      <td>GABRIEL SOUZA DA SILVA</td>\n",
       "      <td>145</td>\n",
       "      <td>1</td>\n",
       "      <td>50002060219</td>\n",
       "      <td>ESCOLA LUIZ VIANA FILHO</td>\n",
       "      <td>RUA VISCONDE DE MAUÁ, 316 - ZONA RURAL</td>\n",
       "    </tr>\n",
       "    <tr>\n",
       "      <th>7</th>\n",
       "      <td>Vereador</td>\n",
       "      <td>2024</td>\n",
       "      <td>55777</td>\n",
       "      <td>GABRIEL DE RITA</td>\n",
       "      <td>GABRIEL SOUZA DA SILVA</td>\n",
       "      <td>165</td>\n",
       "      <td>2</td>\n",
       "      <td>50002060219</td>\n",
       "      <td>ESCOLA MUNICIPAL UNIÃO DA BAHIA</td>\n",
       "      <td>RUA R, QUADRA 16, S/N - ZONA URBANA</td>\n",
       "    </tr>\n",
       "    <tr>\n",
       "      <th>8</th>\n",
       "      <td>Vereador</td>\n",
       "      <td>2024</td>\n",
       "      <td>10255</td>\n",
       "      <td>LUCIENE DO POVO</td>\n",
       "      <td>LUCIENE REIS DE OLIVEIRA</td>\n",
       "      <td>179</td>\n",
       "      <td>1</td>\n",
       "      <td>50001978079</td>\n",
       "      <td>ESCOLA DIÁCONO FERNANDO DE BRITO</td>\n",
       "      <td>AV ELMO SEREJO FARIAS S/N - ZONA URBANA</td>\n",
       "    </tr>\n",
       "    <tr>\n",
       "      <th>9</th>\n",
       "      <td>Vereador</td>\n",
       "      <td>2024</td>\n",
       "      <td>45000</td>\n",
       "      <td>ITUS RAMOS</td>\n",
       "      <td>UILTON RAMOS DE ALENCAR</td>\n",
       "      <td>132</td>\n",
       "      <td>1</td>\n",
       "      <td>50001946948</td>\n",
       "      <td>ESCOLA HILDÉRICO PINHEIRO</td>\n",
       "      <td>RUA DIREITA DE SANTO ANTONIO DO RIO DAS PEDRAS...</td>\n",
       "    </tr>\n",
       "  </tbody>\n",
       "</table>\n",
       "</div>"
      ],
      "text/plain": [
       "   DS_CARGO  ANO_ELEICAO  NR_VOTAVEL    NM_CANDIDATURA  \\\n",
       "0  Vereador         2024       20000    ANDERSON BORBA   \n",
       "1  Vereador         2024       11014   LUCIA DO SOCIAL   \n",
       "2  Vereador         2024       11999  CLAUDIO BARBEIRO   \n",
       "3  Vereador         2024       55777   GABRIEL DE RITA   \n",
       "4  Vereador         2024       55777   GABRIEL DE RITA   \n",
       "5  Vereador         2024       55777   GABRIEL DE RITA   \n",
       "6  Vereador         2024       55777   GABRIEL DE RITA   \n",
       "7  Vereador         2024       55777   GABRIEL DE RITA   \n",
       "8  Vereador         2024       10255   LUCIENE DO POVO   \n",
       "9  Vereador         2024       45000        ITUS RAMOS   \n",
       "\n",
       "                      NM_VOTAVEL  NR_SECAO  QT_VOTOS  SQ_CANDIDATO  \\\n",
       "0           ANDERSON BORBA SILVA        52         1   50001978043   \n",
       "1  MARIA LUCIA FERREIRA DOS REIS        52         3   50002240498   \n",
       "2    CLAUDIO OLIVEIRA DOS SANTOS        71         2   50002240496   \n",
       "3         GABRIEL SOUZA DA SILVA       153         3   50002060219   \n",
       "4         GABRIEL SOUZA DA SILVA       201         1   50002060219   \n",
       "5         GABRIEL SOUZA DA SILVA        44         1   50002060219   \n",
       "6         GABRIEL SOUZA DA SILVA       145         1   50002060219   \n",
       "7         GABRIEL SOUZA DA SILVA       165         2   50002060219   \n",
       "8       LUCIENE REIS DE OLIVEIRA       179         1   50001978079   \n",
       "9        UILTON RAMOS DE ALENCAR       132         1   50001946948   \n",
       "\n",
       "                        NM_LOCAL_VOTACAO  \\\n",
       "0                 ESCOLA BERLINDO MAMEDE   \n",
       "1                 ESCOLA BERLINDO MAMEDE   \n",
       "2            ESCOLA POLIVALENTE DE ARATU   \n",
       "3        ESCOLA MUNICIPAL MARIA QUITÉRIA   \n",
       "4      ESCOLA MUNICIPAL SETE DE NOVEMBRO   \n",
       "5  COLÉGIO MUNICIPAL PADRE LUIZ PALMEIRA   \n",
       "6                ESCOLA LUIZ VIANA FILHO   \n",
       "7        ESCOLA MUNICIPAL UNIÃO DA BAHIA   \n",
       "8       ESCOLA DIÁCONO FERNANDO DE BRITO   \n",
       "9              ESCOLA HILDÉRICO PINHEIRO   \n",
       "\n",
       "                           DS_LOCAL_VOTACAO_ENDERECO  \n",
       "0                RUA LOMANTO JUNIOR 71 - ZONA URBANA  \n",
       "1                RUA LOMANTO JUNIOR 71 - ZONA URBANA  \n",
       "2            AV ELMO SEREJO FARIAS S/N - ZONA URBANA  \n",
       "3            RUA ALMIRANTE BARROSO S/N - ZONA URBANA  \n",
       "4                 AV. JOÃO XXIII, S/Nº - ZONA URBANA  \n",
       "5            PRAÇA 07 DE NOVEMBRO, S/N - ZONA URBANA  \n",
       "6             RUA VISCONDE DE MAUÁ, 316 - ZONA RURAL  \n",
       "7                RUA R, QUADRA 16, S/N - ZONA URBANA  \n",
       "8            AV ELMO SEREJO FARIAS S/N - ZONA URBANA  \n",
       "9  RUA DIREITA DE SANTO ANTONIO DO RIO DAS PEDRAS...  "
      ]
     },
     "execution_count": 5,
     "metadata": {},
     "output_type": "execute_result"
    }
   ],
   "source": [
    "df_eleicoes_2024_sf = pd.read_csv('./dados_tratados/votacao_secao_2024_sf.csv', sep=';', encoding='utf-8')\n",
    "\n",
    "df_eleicoes_2024_sf.head(10)"
   ]
  },
  {
   "cell_type": "markdown",
   "id": "d83aca28",
   "metadata": {},
   "source": [
    "- isolando os registros únicos dos colegiados eleitorais"
   ]
  },
  {
   "cell_type": "code",
   "execution_count": null,
   "id": "f1e73f00",
   "metadata": {},
   "outputs": [
    {
     "data": {
      "application/vnd.microsoft.datawrangler.viewer.v0+json": {
       "columns": [
        {
         "name": "index",
         "rawType": "int64",
         "type": "integer"
        },
        {
         "name": "NM_LOCAL_VOTACAO",
         "rawType": "object",
         "type": "string"
        },
        {
         "name": "DS_LOCAL_VOTACAO_ENDERECO",
         "rawType": "object",
         "type": "string"
        }
       ],
       "ref": "f4f9b075-5ee9-4a58-8dbf-13a5a0cc3845",
       "rows": [
        [
         "0",
         "ESCOLA BERLINDO MAMEDE",
         "RUA LOMANTO JUNIOR 71 - ZONA URBANA"
        ],
        [
         "1",
         "ESCOLA POLIVALENTE DE ARATU",
         "AV ELMO SEREJO FARIAS S/N - ZONA URBANA"
        ],
        [
         "2",
         "ESCOLA MUNICIPAL MARIA QUITÉRIA",
         "RUA ALMIRANTE BARROSO S/N - ZONA URBANA"
        ],
        [
         "3",
         "ESCOLA MUNICIPAL SETE DE NOVEMBRO",
         "AV. JOÃO XXIII, S/Nº - ZONA URBANA"
        ],
        [
         "4",
         "COLÉGIO MUNICIPAL PADRE LUIZ PALMEIRA",
         "PRAÇA 07 DE NOVEMBRO, S/N - ZONA URBANA"
        ]
       ],
       "shape": {
        "columns": 2,
        "rows": 5
       }
      },
      "text/html": [
       "<div>\n",
       "<style scoped>\n",
       "    .dataframe tbody tr th:only-of-type {\n",
       "        vertical-align: middle;\n",
       "    }\n",
       "\n",
       "    .dataframe tbody tr th {\n",
       "        vertical-align: top;\n",
       "    }\n",
       "\n",
       "    .dataframe thead th {\n",
       "        text-align: right;\n",
       "    }\n",
       "</style>\n",
       "<table border=\"1\" class=\"dataframe\">\n",
       "  <thead>\n",
       "    <tr style=\"text-align: right;\">\n",
       "      <th></th>\n",
       "      <th>NM_LOCAL_VOTACAO</th>\n",
       "      <th>DS_LOCAL_VOTACAO_ENDERECO</th>\n",
       "    </tr>\n",
       "  </thead>\n",
       "  <tbody>\n",
       "    <tr>\n",
       "      <th>0</th>\n",
       "      <td>ESCOLA BERLINDO MAMEDE</td>\n",
       "      <td>RUA LOMANTO JUNIOR 71 - ZONA URBANA</td>\n",
       "    </tr>\n",
       "    <tr>\n",
       "      <th>1</th>\n",
       "      <td>ESCOLA POLIVALENTE DE ARATU</td>\n",
       "      <td>AV ELMO SEREJO FARIAS S/N - ZONA URBANA</td>\n",
       "    </tr>\n",
       "    <tr>\n",
       "      <th>2</th>\n",
       "      <td>ESCOLA MUNICIPAL MARIA QUITÉRIA</td>\n",
       "      <td>RUA ALMIRANTE BARROSO S/N - ZONA URBANA</td>\n",
       "    </tr>\n",
       "    <tr>\n",
       "      <th>3</th>\n",
       "      <td>ESCOLA MUNICIPAL SETE DE NOVEMBRO</td>\n",
       "      <td>AV. JOÃO XXIII, S/Nº - ZONA URBANA</td>\n",
       "    </tr>\n",
       "    <tr>\n",
       "      <th>4</th>\n",
       "      <td>COLÉGIO MUNICIPAL PADRE LUIZ PALMEIRA</td>\n",
       "      <td>PRAÇA 07 DE NOVEMBRO, S/N - ZONA URBANA</td>\n",
       "    </tr>\n",
       "  </tbody>\n",
       "</table>\n",
       "</div>"
      ],
      "text/plain": [
       "                        NM_LOCAL_VOTACAO  \\\n",
       "0                 ESCOLA BERLINDO MAMEDE   \n",
       "1            ESCOLA POLIVALENTE DE ARATU   \n",
       "2        ESCOLA MUNICIPAL MARIA QUITÉRIA   \n",
       "3      ESCOLA MUNICIPAL SETE DE NOVEMBRO   \n",
       "4  COLÉGIO MUNICIPAL PADRE LUIZ PALMEIRA   \n",
       "\n",
       "                 DS_LOCAL_VOTACAO_ENDERECO  \n",
       "0      RUA LOMANTO JUNIOR 71 - ZONA URBANA  \n",
       "1  AV ELMO SEREJO FARIAS S/N - ZONA URBANA  \n",
       "2  RUA ALMIRANTE BARROSO S/N - ZONA URBANA  \n",
       "3       AV. JOÃO XXIII, S/Nº - ZONA URBANA  \n",
       "4  PRAÇA 07 DE NOVEMBRO, S/N - ZONA URBANA  "
      ]
     },
     "execution_count": 10,
     "metadata": {},
     "output_type": "execute_result"
    }
   ],
   "source": [
    "df_colegiados = df_eleicoes_2024_sf[['NM_LOCAL_VOTACAO', 'DS_LOCAL_VOTACAO_ENDERECO']].drop_duplicates()\n",
    "df_colegiados = df_colegiados.reset_index(drop=True)\n",
    "\n",
    "df_colegiados.head()"
   ]
  },
  {
   "cell_type": "markdown",
   "id": "0f3d6ad0",
   "metadata": {},
   "source": [
    "- isolando os registros únicos dos candidatos"
   ]
  },
  {
   "cell_type": "code",
   "execution_count": 13,
   "id": "67fe431d",
   "metadata": {},
   "outputs": [
    {
     "data": {
      "application/vnd.microsoft.datawrangler.viewer.v0+json": {
       "columns": [
        {
         "name": "index",
         "rawType": "object",
         "type": "string"
        },
        {
         "name": "0",
         "rawType": "int64",
         "type": "integer"
        }
       ],
       "ref": "079779bd-7a0c-4d9a-8884-0d3f08f330a0",
       "rows": [
        [
         "NR_VOTAVEL",
         "271"
        ]
       ],
       "shape": {
        "columns": 1,
        "rows": 1
       }
      },
      "text/plain": [
       "NR_VOTAVEL    271\n",
       "dtype: int64"
      ]
     },
     "execution_count": 13,
     "metadata": {},
     "output_type": "execute_result"
    }
   ],
   "source": [
    "df_candidatos = df_eleicoes_2024_sf[['DS_CARGO','NR_VOTAVEL','NM_CANDIDATURA','SQ_CANDIDATO','NM_VOTAVEL','ANO_ELEICAO']].drop_duplicates()\n",
    "df_candidatos = df_candidatos.reset_index(drop=True)\n",
    "\n",
    "df_candidatos[['NR_VOTAVEL']].count()"
   ]
  },
  {
   "cell_type": "markdown",
   "id": "2eb8002e",
   "metadata": {},
   "source": [
    "- Lendo os nomes dos arquivos no diretório 'dados_tratados'"
   ]
  },
  {
   "cell_type": "code",
   "execution_count": 3,
   "id": "c6991260",
   "metadata": {},
   "outputs": [
    {
     "name": "stdout",
     "output_type": "stream",
     "text": [
      "['ABSOLAN CAMINHONEIRO_2024.csv', 'ADAILTON CAÇAMBEIRO_2024.csv', 'ADIEL_2024.csv', 'ADRIANO BARACK_2024.csv', 'ADRIANO MATIAS_2024.csv', 'AGNALDO DA SAUDE_2024.csv', 'ALAN SEU ESTILO_2024.csv', 'ALÊ CORRERIA_2024.csv', 'ALEX BIDELA_2024.csv', 'ALINE SANTOS_2024.csv', 'AMÁLIA LEAL_2024.csv', 'AMANDA VALE_2024.csv', 'AMIGO JU_2024.csv', 'AMIGO LAU_2024.csv', 'AMIGO LÉO_2024.csv', 'AMIGO MAIA DA LOGISTICA_2024.csv', 'ANA ANGÊLICA_2024.csv', 'ANANDA GONÇALVES_2024.csv', 'ANDERSON BORBA_2024.csv', 'ANDRE ALVES_2024.csv', 'ANDREA ALMEIDA_2024.csv', 'ANDRESSA BOMFIM_2024.csv', 'ANGELA BARROS_2024.csv', 'ANTONIO BATISTA_2024.csv', 'ANTONIO DIAS_2024.csv', 'ARNOLDO SIMÕES_2024.csv', 'AU DO PONTO PARADA_2024.csv', 'AURINO PASSOS_2024.csv', 'BARBA AZUL_2024.csv', 'BELO GAZINEU_2024.csv', 'BENÉ DA GRADE_2024.csv', 'BERI MONTEIRO_2024.csv', 'BETE DANTAS_2024.csv', 'BIA DO LANCHE_2024.csv', 'BIBITA_2024.csv', 'BILLY DE GÓES CALMON_2024.csv', 'BINHO_2024.csv', 'BISPA MARLENE_2024.csv', 'BOLLY BOLLY_2024.csv', 'BOMBEIRO MOTTA_2024.csv', 'BONITA DA SAÚDE_2024.csv', 'BUJÃO_2024.csv', 'CABELUDO SOM_2024.csv', 'CAMILO MACIEL_2024.csv', 'CANATIBA_2024.csv', 'CANJIRANA_2024.csv', 'CAPENGA_2024.csv', 'CARLA_2024.csv', 'CARLINHOS BAYANO_2024.csv', 'CARLOS CERQUEIRA_2024.csv', 'CARLOS NETO_2024.csv', 'CAROL DA PITANGUINHA_2024.csv', 'CASCAVEL_2024.csv', 'CASSINHA DA SAÚDE_2024.csv', 'CEARÁ DO POVO_2024.csv', 'CHEIROSA LAU_2024.csv', 'CHIQUINHO_2024.csv', 'CLAUDINHA RIBEIRO_2024.csv', 'CLAUDIO BARBEIRO_2024.csv', 'CRIS MENSAGEM_2024.csv', 'CYNTIA ROCHA_2024.csv', 'DAIA DO POVO_2024.csv', 'DANIEL WILLIAM_2024.csv', 'DANILO RASTA_2024.csv', 'DECIVALDO_2024.csv', 'DELL CAPOEIRA_2024.csv', 'DENI DA METALÚRGICA_2024.csv', 'DEVA_2024.csv', 'DEYVISON DA CLARO_2024.csv', 'DIDI PONTO PARADA_2024.csv', 'DIDICO DA INCLUSÃO_2024.csv', 'DIEGO DE PAULA_2024.csv', 'DINEY ARAÚJO_2024.csv', 'DINO DE CAVALHADA_2024.csv', 'DR DEMILSON LIMA_2024.csv', 'DR MARCILIO_2024.csv', 'DRA CLAUDIA MIRANDA_2024.csv', 'DRA SUELY_2024.csv', 'DUI DE RITINHA_2024.csv', 'EDI LIMA_2024.csv', 'EDNALVA BARRETO_2024.csv', 'EDSON DA SOCIAL_2024.csv', 'EDUARDO CARIMÃ_2024.csv', 'EDUARDO GÓES_2024.csv', 'EDY MOTO TAXI_2024.csv', 'ELIANA DA PARATI_2024.csv', 'ELIANE VETERINÁRIA_2024.csv', 'ELIMARIO LIMA_2024.csv', 'ELIZIO GORDO_2024.csv', 'ENALDO CORRETOR_2024.csv', 'ENFERMEIRA LÚCIA DAMASCENO_2024.csv', 'ERI COSTA_2024.csv', 'ERNANI ARAÚJO_2024.csv', 'ERNESTINO MEU BOM RAPAZ_2024.csv', 'EUGENIO PACELLI_2024.csv', 'EVAN JORGE_2024.csv', 'EVERTON DAS PLACAS_2024.csv', 'EVERTON PAIM_2024.csv', 'EZEQUIEL PINHEIRO EZE_2024.csv', 'FABIANO DOS SANTOS SIMÃO_2024.csv', 'FÁBIO DA CESTA BÁSICA_2024.csv', 'FAL DA SAÚDE_2024.csv', 'FERNANDA_2024.csv', 'FIAMA SOUZA_2024.csv', 'FLOR DE LABORÉ_2024.csv', 'FRANKLIN ROSA_2024.csv', 'GABRIEL DE RITA_2024.csv', 'GALEGA_2024.csv', 'GALEGO DA OFICINA_2024.csv', 'GEASI OÁSIS_2024.csv', 'GENIVALDO LIMA_2024.csv', 'GEORGEA ALVES_2024.csv', 'GILDEVAN MUNIZ_2024.csv', 'GILSON É DIFERENTE_2024.csv', 'GISELA SOBRAL_2024.csv', 'GLAUBER_2024.csv', 'GUANA DA CULTURA_2024.csv', 'GUILHERMINIA SANTOS_2024.csv', 'GUIMARÃES_2024.csv', 'HELENA DO AREAL_2024.csv', 'IAGO ALVES_2024.csv', 'IARA_2024.csv', 'IGOR LORETO_2024.csv', 'IGOR RIFEIRO_2024.csv', 'IRINEU CEASINHA_2024.csv', 'IRMÃO ALEX_2024.csv', 'IRMÃO CAPENGA_2024.csv', 'IRMÃO JOSÉ RODRIGUES_2024.csv', 'IRMÃO JULIO_2024.csv', 'IRMÃO NENGO_2024.csv', 'ISRAEL SANTOS_2024.csv', 'ITUS RAMOS_2024.csv', 'IVANIO DAS TRUFAS_2024.csv', 'JACI_2024.csv', 'JACI BISPO_2024.csv', 'JACKSON BOMFIM_2024.csv', 'JADE SOLDADOR_2024.csv', 'JAIR DO CHURRASQUINHO_2024.csv', 'JAIRINHO_2024.csv', 'JAJAI_2024.csv', 'JAQUE CORAÇÃO DE MÃE_2024.csv', 'JESSICA_2024.csv', 'JÔ DO IRMÃO DO LANCHE_2024.csv', 'JOEL CERQUEIRA_2024.csv', 'JOKA DA FARMÁCIA_2024.csv', 'JORGE GALO_2024.csv', 'JORGE MECÂNICO_2024.csv', 'JORGE PASTEL_2024.csv', 'JOSIEL CONSTRUVALLE_2024.csv', 'JOSUE SILVA_2024.csv', 'JUCELINO LIGEIRINHO DO POVO_2024.csv', 'JUCI TELES_2024.csv', 'JUCY MOTOS_2024.csv', 'JUNIOR CAPOEIRA_2024.csv', 'JÚNIOR MONTAGENS_2024.csv', 'JURACI DA ILHA_2024.csv', 'KAIQUE DE SOUZA_2024.csv', 'KASYA_2024.csv', 'KÁTIA DE MAPELE_2024.csv', 'KÁTIA XARÁ_2024.csv', 'KEU DO FRANGO_2024.csv', 'LAECIO PICOLÉ_2024.csv', 'LEITE_2024.csv', 'LELEL_2024.csv', 'LENE FROZEN_2024.csv', 'LEO HABILITY_2024.csv', 'LÍLIA SANDES_2024.csv', 'LINDINALVA OLIVEIRA_2024.csv', 'LIU DO BOTICÁRIO_2024.csv', 'LUCIA DO SOCIAL_2024.csv', 'LUCIANA DO GRUPO_2024.csv', 'LUCIENE DO POVO_2024.csv', 'LUID MENDES_2024.csv', 'LUZIA DO OITEIRO_2024.csv', 'MALANE SÁ_2024.csv', 'MALU FLORES_2024.csv', 'MANEZINHO CARTEIRO_2024.csv', 'MANOEL CARTEIRO_2024.csv', 'MÁRCIA COSTA_2024.csv', 'MARCIO CAVALO_2024.csv', 'MARCOS CAMPOS_2024.csv', 'MARIANA MSTS_2024.csv', 'MARICOTTA_2024.csv', 'MARILENE TELES_2024.csv', 'MARIVALDO SIM_2024.csv', 'MARLUCIA TANQUE DO CORONEL_2024.csv', 'MARTA_2024.csv', 'MATHEUS BACELAR_2024.csv', 'MAURIÇÃO DE MAPELE_2024.csv', 'MAX HAACK_2024.csv', 'MEIRE ORNELAS_2024.csv', 'MICHEL DANTAS_2024.csv', 'MIKINHA_2024.csv', 'MINY SANTANA_2024.csv', 'MIRA ARAUJO_2024.csv', 'MIRO DO GALO_2024.csv', 'MISSIONÁRIA ROSE_2024.csv', 'MOISES DO PROJETO TRANSFORMAR_2024.csv', 'NANCI DA SAÚDE_2024.csv', 'NARA MAQUEIRA_2024.csv', 'NECO ALMEIDA_2024.csv', 'NEGUINHO_2024.csv', 'NEGUINHO DO ÔNIBUS_2024.csv', 'NEINHA DA SAÚDE_2024.csv', 'NEIVALDO SCAVELO_2024.csv', 'NILTON DE JESUS_2024.csv', 'OLIVEIRA_2024.csv', 'ORLANDO BASTOS_2024.csv', 'ORLANDO DE AMADEU_2024.csv', 'ORLANDO EMPREITEIRO_2024.csv', 'PAM DE ZINO RASTA_2024.csv', 'PASTOR ALECSON_2024.csv', 'PASTOR JÓ_2024.csv', 'PASTOR RICARDO_2024.csv', 'PASTORA ANA PAULA_2024.csv', 'PASTORA JULIA RIEIRO_2024.csv', 'PATRICIA DA CONVEL_2024.csv', 'PEDRO DA ASSOCIAÇÃO_2024.csv', 'PEDRO DA KOMBI_2024.csv', 'PERY_2024.csv', 'PETRONIO_2024.csv', 'PEU_2024.csv', 'PRÓ EDILENE_2024.csv', 'PRÓ NUBIA DO CIA I_2024.csv', 'PRO ZENE_2024.csv', 'PROF WESLLEY DAMASCENO_2024.csv', 'PROFESSOR LIMA_2024.csv', 'PROFESSORA ELIETE_2024.csv', 'PROFESSORA MÔNICA QUEIROZ_2024.csv', 'PROFESSORA NILZETE_2024.csv', 'QUILDER VAQUEIRO_2024.csv', 'RAIMUNDO BIGODE_2024.csv', 'RAMON LACERDA_2024.csv', 'RASTA_2024.csv', 'RENATO_2024.csv', 'REY DA PIZZA_2024.csv', 'RIBEIRO DO SOCIAL_2024.csv', 'RICARDO FIGUEIREDO_2024.csv', 'ROBERTO SHORT_2024.csv', 'ROBERTO SOUZA_2024.csv', 'ROBINHO TATOO_2024.csv', 'RONALDO DO SINDICATO_2024.csv', 'ROQUE DA LITORAL_2024.csv', 'ROSA DO OITEIRO_2024.csv', 'ROSEVALDO BATISTA_2024.csv', 'ROTSEN CAMPOS_2024.csv', 'RUBINHO DO POVO_2024.csv', 'SAMUEL JUNIOR_2024.csv', 'SANDRO MOREIRA_2024.csv', 'SÉRGIO DA ACCI_2024.csv', 'SÉRGIO DE MAPELE_2024.csv', 'SERGIO DO UNO_2024.csv', 'SERGIO FERREIRA_2024.csv', 'SÉRGIO MOTA_2024.csv', 'SHIRLEY CLARK_2024.csv', 'SID SERRA_2024.csv', 'SID VEICULOS_2024.csv', 'SILVANA CARDOSO MAGALHÃES_2024.csv', 'SILVANEI DA EDUCAÇÃO_2024.csv', 'SIMONE CARDEAL_2024.csv', 'SOLANGE ATLETA_2024.csv', 'STELA BONITA_2024.csv', 'SULY_2024.csv', 'TAI DO DETOX_2024.csv', 'TAIANA BASTOS_2024.csv', 'TAMARA ARRICHETTA_2024.csv', 'TÂNIA IRMÃ DE AZAZA_2024.csv', 'TATA CARVALHO_2024.csv', 'TETINHA DO AIPIM_2024.csv', 'THIAGO CAXIAS_2024.csv', 'THIAGO MISTER_2024.csv', 'TIA DINHA_2024.csv', 'TIA SONIA_2024.csv', 'TITA DO POVO_2024.csv', 'VAGNER MEDEIROS_2024.csv', 'VANESSA LIMA_2024.csv', 'VÂNIA CONTADORA_2024.csv', 'VÂNIA SANTANA_2024.csv', 'VAVAL DO SAMBA_2024.csv', 'VEL DO POVO_2024.csv', 'VENTURA_2024.csv', 'VERA_2024.csv', 'WELIA DE PRETA_2024.csv', 'ZÉ DO FERRO VELHO_2024.csv', 'ZETE_2024.csv', 'DEL_2024.csv', 'EDSON ALMEIDA_2024.csv', 'KADU SILVA MAVERICK_2024.csv']\n"
     ]
    }
   ],
   "source": [
    "arquivos = os.listdir('./dados_tratados')\n",
    "nomes_arquivos = [arquivo for arquivo in arquivos if os.path.isfile(os.path.join('./dados_tratados', arquivo))]\n",
    "\n",
    "print(nomes_arquivos)"
   ]
  },
  {
   "cell_type": "markdown",
   "id": "99ca9a31",
   "metadata": {},
   "source": [
    "- Percorrendo cada arquivo e lendo suas informações"
   ]
  },
  {
   "cell_type": "code",
   "execution_count": null,
   "id": "80dbf46c",
   "metadata": {},
   "outputs": [],
   "source": [
    "# Em desenvolvimento\n",
    "df_dados_candidatos = pd.read_csv(f'./dados_tratados/{nomes_arquivos[13]}', sep=';', encoding='UTF-8')\n",
    "df_dados_candidatos.head()"
   ]
  }
 ],
 "metadata": {
  "kernelspec": {
   "display_name": ".venv",
   "language": "python",
   "name": "python3"
  },
  "language_info": {
   "codemirror_mode": {
    "name": "ipython",
    "version": 3
   },
   "file_extension": ".py",
   "mimetype": "text/x-python",
   "name": "python",
   "nbconvert_exporter": "python",
   "pygments_lexer": "ipython3",
   "version": "3.12.3"
  }
 },
 "nbformat": 4,
 "nbformat_minor": 5
}
