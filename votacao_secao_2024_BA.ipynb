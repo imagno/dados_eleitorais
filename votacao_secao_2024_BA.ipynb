{
 "cells": [
  {
   "cell_type": "markdown",
   "metadata": {},
   "source": [
    "- Instalando e importando biblioteca para separação de dados"
   ]
  },
  {
   "cell_type": "code",
   "execution_count": null,
   "metadata": {},
   "outputs": [],
   "source": [
    "%pip install pandas\n",
    "\n",
    "import pandas as pd\n"
   ]
  },
  {
   "cell_type": "markdown",
   "metadata": {},
   "source": [
    "- Carregando artquivo CSV fornecido pelo TSE com dados eleitorais do estado da Bahia no ano de 2024"
   ]
  },
  {
   "cell_type": "code",
   "execution_count": null,
   "metadata": {},
   "outputs": [],
   "source": [
    "df_eleicoes_2024_ba = pd.read_csv('./dados/votacao_secao_2024_BA.csv', sep=';', encoding='latin-1')\n",
    "df_eleicoes_2024_ba.head()\n"
   ]
  },
  {
   "cell_type": "markdown",
   "metadata": {},
   "source": [
    "- Carregando lista anteriormente criada com os nomes completos do candidatos a vereador e a prefeito para o município de Simões Filho no ano de 2024"
   ]
  },
  {
   "cell_type": "code",
   "execution_count": null,
   "metadata": {},
   "outputs": [],
   "source": [
    "df_nomes_candidatos = pd.read_csv('./dados/lista_nomes_completos.txt', header=None, sep=';', encoding='utf-8', names=['NM_CAMPANHA','NM_VOTAVEL'])\n",
    "df_nomes_candidatos.head()\n"
   ]
  },
  {
   "cell_type": "markdown",
   "metadata": {},
   "source": [
    "- Selecionando os registros dos candidatos e os campos de interesse situados no arquivo fornecido pelo TSE"
   ]
  },
  {
   "cell_type": "code",
   "execution_count": null,
   "metadata": {},
   "outputs": [],
   "source": [
    "df_eleicoes_2024_ba = df_eleicoes_2024_ba[['DS_CARGO', 'NR_VOTAVEL', 'NM_VOTAVEL', 'NR_SECAO', 'QT_VOTOS', 'SQ_CANDIDATO', 'NM_LOCAL_VOTACAO', 'DS_LOCAL_VOTACAO_ENDERECO']]\n",
    "df_eleicoes_2024_ba.head()"
   ]
  },
  {
   "cell_type": "markdown",
   "metadata": {},
   "source": [
    "- Criando diretório para salvar os dados tratados"
   ]
  },
  {
   "cell_type": "code",
   "execution_count": null,
   "metadata": {},
   "outputs": [],
   "source": [
    "import os\n",
    "\n",
    "diretorio = './dados_tratados'\n",
    "\n",
    "os.makedirs(diretorio, exist_ok=True)\n",
    "\n",
    "print(f\"Diretório '{diretorio}' criado com sucesso!\")\n"
   ]
  },
  {
   "cell_type": "markdown",
   "metadata": {},
   "source": [
    "- Salvando, no diretório de dados tratados, os registros de cada candidato para as eleições municipais de simões filho no ano de 2024, de maneira isolada"
   ]
  },
  {
   "cell_type": "code",
   "execution_count": null,
   "metadata": {},
   "outputs": [],
   "source": [
    "df_eleicoes_2024_simoes_filho = pd.DataFrame()\n",
    "\n",
    "try:\n",
    "    for nome in df_nomes_candidatos.values:\n",
    "        df_eleicoes_2024_simoes_filho = df_eleicoes_2024_ba[df_eleicoes_2024_ba['NM_VOTAVEL'] == nome[1]]\n",
    "\n",
    "        df_eleicoes_2024_simoes_filho.to_csv(f'./dados_tratados/{nome[0]}_2024.csv', sep=';', index=False, header=True)\n",
    "\n",
    "    print('Arquivos gerados com sucesso!')\n",
    "    \n",
    "except Exception as err:\n",
    "    print(f'Erro: {err}')\n"
   ]
  }
 ],
 "metadata": {
  "kernelspec": {
   "display_name": "base",
   "language": "python",
   "name": "python3"
  },
  "language_info": {
   "codemirror_mode": {
    "name": "ipython",
    "version": 3
   },
   "file_extension": ".py",
   "mimetype": "text/x-python",
   "name": "python",
   "nbconvert_exporter": "python",
   "pygments_lexer": "ipython3",
   "version": "3.12.10"
  }
 },
 "nbformat": 4,
 "nbformat_minor": 2
}
